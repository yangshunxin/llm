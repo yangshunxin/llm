{
 "cells": [
  {
   "cell_type": "markdown",
   "id": "5099fdf1",
   "metadata": {
    "papermill": {
     "duration": 0.039703,
     "end_time": "2022-06-14T14:27:51.506962",
     "exception": false,
     "start_time": "2022-06-14T14:27:51.467259",
     "status": "completed"
    },
    "tags": []
   },
   "source": [
    "# IMDB Movie Review Sentiment Analysis\n",
    "\n",
    "<br>\n",
    "IMDB is an online database of information related to films, tv, series, etc. This dataset contains reviews that divided into positive and negative reviews. So, in this project we will do sentiment analysis where we asked to classify whether a review is tend to positive or negative.\n",
    "<br>\n",
    "\n",
    "Dataset Source: [Kaggle](https://www.kaggle.com/datasets/lakshmi25npathi/imdb-dataset-of-50k-movie-reviews)\n",
    "<br>\n",
    "Attributes:\n",
    "- Review\n",
    "- Sentiment"
   ]
  },
  {
   "cell_type": "code",
   "execution_count": 1,
   "id": "e62acabe",
   "metadata": {
    "execution": {
     "iopub.execute_input": "2022-06-14T14:27:51.566059Z",
     "iopub.status.busy": "2022-06-14T14:27:51.565451Z",
     "iopub.status.idle": "2022-06-14T14:27:55.568429Z",
     "shell.execute_reply": "2022-06-14T14:27:55.567430Z"
    },
    "papermill": {
     "duration": 4.03537,
     "end_time": "2022-06-14T14:27:55.570850",
     "exception": false,
     "start_time": "2022-06-14T14:27:51.535480",
     "status": "completed"
    },
    "tags": []
   },
   "outputs": [
    {
     "name": "stdout",
     "output_type": "stream",
     "text": [
      "[nltk_data] Downloading package stopwords to /usr/share/nltk_data...\n",
      "[nltk_data]   Package stopwords is already up-to-date!\n",
      "[nltk_data] Downloading package wordnet to /usr/share/nltk_data...\n",
      "[nltk_data]   Package wordnet is already up-to-date!\n"
     ]
    }
   ],
   "source": [
    "# import libraries\n",
    "\n",
    "# data manipulation\n",
    "import pandas as pd\n",
    "import numpy as np\n",
    "\n",
    "# data visualization\n",
    "import matplotlib.pyplot as plt\n",
    "import seaborn as sns\n",
    "\n",
    "# text processing\n",
    "import re\n",
    "import nltk\n",
    "from nltk.tokenize import word_tokenize, sent_tokenize\n",
    "from nltk.corpus import stopwords\n",
    "from nltk.stem.wordnet import WordNetLemmatizer\n",
    "nltk.download('stopwords')\n",
    "nltk.download('wordnet')\n",
    "stopwords = set(stopwords.words('english'))\n",
    "\n",
    "# pytorch\n",
    "import torch\n",
    "from torch import nn\n",
    "from torch.optim import Adam\n",
    "from torch.utils.data import TensorDataset, DataLoader\n",
    "\n",
    "# sklearn\n",
    "from sklearn.metrics import classification_report, confusion_matrix\n",
    "\n",
    "# utils\n",
    "import os\n",
    "from tqdm import tqdm\n",
    "tqdm.pandas()\n",
    "from collections import Counter"
   ]
  },
  {
   "cell_type": "markdown",
   "id": "288c9c66",
   "metadata": {
    "papermill": {
     "duration": 0.016157,
     "end_time": "2022-06-14T14:27:55.603280",
     "exception": false,
     "start_time": "2022-06-14T14:27:55.587123",
     "status": "completed"
    },
    "tags": []
   },
   "source": [
    "## EDA\n",
    "1. Transform label into number\n",
    "2. View data distribution (imbalance or not)\n",
    "3. View token length distribution\n",
    "4. Preview on some positive and negative reviews"
   ]
  },
  {
   "cell_type": "code",
   "execution_count": 2,
   "id": "7832ecfe",
   "metadata": {
    "execution": {
     "iopub.execute_input": "2022-06-14T14:27:55.638992Z",
     "iopub.status.busy": "2022-06-14T14:27:55.637952Z",
     "iopub.status.idle": "2022-06-14T14:27:57.838762Z",
     "shell.execute_reply": "2022-06-14T14:27:57.837823Z"
    },
    "papermill": {
     "duration": 2.221067,
     "end_time": "2022-06-14T14:27:57.840820",
     "exception": false,
     "start_time": "2022-06-14T14:27:55.619753",
     "status": "completed"
    },
    "tags": []
   },
   "outputs": [
    {
     "data": {
      "text/html": [
       "<div>\n",
       "<style scoped>\n",
       "    .dataframe tbody tr th:only-of-type {\n",
       "        vertical-align: middle;\n",
       "    }\n",
       "\n",
       "    .dataframe tbody tr th {\n",
       "        vertical-align: top;\n",
       "    }\n",
       "\n",
       "    .dataframe thead th {\n",
       "        text-align: right;\n",
       "    }\n",
       "</style>\n",
       "<table border=\"1\" class=\"dataframe\">\n",
       "  <thead>\n",
       "    <tr style=\"text-align: right;\">\n",
       "      <th></th>\n",
       "      <th>review</th>\n",
       "      <th>sentiment</th>\n",
       "    </tr>\n",
       "  </thead>\n",
       "  <tbody>\n",
       "    <tr>\n",
       "      <th>0</th>\n",
       "      <td>One of the other reviewers has mentioned that ...</td>\n",
       "      <td>positive</td>\n",
       "    </tr>\n",
       "    <tr>\n",
       "      <th>1</th>\n",
       "      <td>A wonderful little production. &lt;br /&gt;&lt;br /&gt;The...</td>\n",
       "      <td>positive</td>\n",
       "    </tr>\n",
       "    <tr>\n",
       "      <th>2</th>\n",
       "      <td>I thought this was a wonderful way to spend ti...</td>\n",
       "      <td>positive</td>\n",
       "    </tr>\n",
       "    <tr>\n",
       "      <th>3</th>\n",
       "      <td>Basically there's a family where a little boy ...</td>\n",
       "      <td>negative</td>\n",
       "    </tr>\n",
       "    <tr>\n",
       "      <th>4</th>\n",
       "      <td>Petter Mattei's \"Love in the Time of Money\" is...</td>\n",
       "      <td>positive</td>\n",
       "    </tr>\n",
       "  </tbody>\n",
       "</table>\n",
       "</div>"
      ],
      "text/plain": [
       "                                              review sentiment\n",
       "0  One of the other reviewers has mentioned that ...  positive\n",
       "1  A wonderful little production. <br /><br />The...  positive\n",
       "2  I thought this was a wonderful way to spend ti...  positive\n",
       "3  Basically there's a family where a little boy ...  negative\n",
       "4  Petter Mattei's \"Love in the Time of Money\" is...  positive"
      ]
     },
     "execution_count": 2,
     "metadata": {},
     "output_type": "execute_result"
    }
   ],
   "source": [
    "# read data\n",
    "data = pd.read_csv('../input/imdb-dataset-of-50k-movie-reviews/IMDB Dataset.csv')\n",
    "data.head()"
   ]
  },
  {
   "cell_type": "markdown",
   "id": "30383897",
   "metadata": {
    "papermill": {
     "duration": 0.016317,
     "end_time": "2022-06-14T14:27:57.874328",
     "exception": false,
     "start_time": "2022-06-14T14:27:57.858011",
     "status": "completed"
    },
    "tags": []
   },
   "source": [
    "As we can see, we have sentiment label in text format. In this case, we need to transform these labels into number.\n",
    "<br><br>\n",
    "We will define `positive` as `1` and `negative` as `0`."
   ]
  },
  {
   "cell_type": "code",
   "execution_count": 3,
   "id": "6969050b",
   "metadata": {
    "execution": {
     "iopub.execute_input": "2022-06-14T14:27:57.908888Z",
     "iopub.status.busy": "2022-06-14T14:27:57.908378Z",
     "iopub.status.idle": "2022-06-14T14:27:58.034398Z",
     "shell.execute_reply": "2022-06-14T14:27:58.033260Z"
    },
    "papermill": {
     "duration": 0.14598,
     "end_time": "2022-06-14T14:27:58.036498",
     "exception": false,
     "start_time": "2022-06-14T14:27:57.890518",
     "status": "completed"
    },
    "tags": []
   },
   "outputs": [
    {
     "name": "stderr",
     "output_type": "stream",
     "text": [
      "100%|██████████| 50000/50000 [00:00<00:00, 493664.74it/s]\n"
     ]
    },
    {
     "data": {
      "text/html": [
       "<div>\n",
       "<style scoped>\n",
       "    .dataframe tbody tr th:only-of-type {\n",
       "        vertical-align: middle;\n",
       "    }\n",
       "\n",
       "    .dataframe tbody tr th {\n",
       "        vertical-align: top;\n",
       "    }\n",
       "\n",
       "    .dataframe thead th {\n",
       "        text-align: right;\n",
       "    }\n",
       "</style>\n",
       "<table border=\"1\" class=\"dataframe\">\n",
       "  <thead>\n",
       "    <tr style=\"text-align: right;\">\n",
       "      <th></th>\n",
       "      <th>review</th>\n",
       "      <th>sentiment</th>\n",
       "      <th>label</th>\n",
       "    </tr>\n",
       "  </thead>\n",
       "  <tbody>\n",
       "    <tr>\n",
       "      <th>0</th>\n",
       "      <td>One of the other reviewers has mentioned that ...</td>\n",
       "      <td>positive</td>\n",
       "      <td>1</td>\n",
       "    </tr>\n",
       "    <tr>\n",
       "      <th>1</th>\n",
       "      <td>A wonderful little production. &lt;br /&gt;&lt;br /&gt;The...</td>\n",
       "      <td>positive</td>\n",
       "      <td>1</td>\n",
       "    </tr>\n",
       "    <tr>\n",
       "      <th>2</th>\n",
       "      <td>I thought this was a wonderful way to spend ti...</td>\n",
       "      <td>positive</td>\n",
       "      <td>1</td>\n",
       "    </tr>\n",
       "    <tr>\n",
       "      <th>3</th>\n",
       "      <td>Basically there's a family where a little boy ...</td>\n",
       "      <td>negative</td>\n",
       "      <td>0</td>\n",
       "    </tr>\n",
       "    <tr>\n",
       "      <th>4</th>\n",
       "      <td>Petter Mattei's \"Love in the Time of Money\" is...</td>\n",
       "      <td>positive</td>\n",
       "      <td>1</td>\n",
       "    </tr>\n",
       "  </tbody>\n",
       "</table>\n",
       "</div>"
      ],
      "text/plain": [
       "                                              review sentiment  label\n",
       "0  One of the other reviewers has mentioned that ...  positive      1\n",
       "1  A wonderful little production. <br /><br />The...  positive      1\n",
       "2  I thought this was a wonderful way to spend ti...  positive      1\n",
       "3  Basically there's a family where a little boy ...  negative      0\n",
       "4  Petter Mattei's \"Love in the Time of Money\" is...  positive      1"
      ]
     },
     "execution_count": 3,
     "metadata": {},
     "output_type": "execute_result"
    }
   ],
   "source": [
    "def transform_label(label):\n",
    "    return 1 if label == 'positive' else 0\n",
    "\n",
    "data['label'] = data['sentiment'].progress_apply(transform_label)\n",
    "data.head()"
   ]
  },
  {
   "cell_type": "markdown",
   "id": "2c8dd8d8",
   "metadata": {
    "papermill": {
     "duration": 0.016297,
     "end_time": "2022-06-14T14:27:58.070319",
     "exception": false,
     "start_time": "2022-06-14T14:27:58.054022",
     "status": "completed"
    },
    "tags": []
   },
   "source": [
    "Let's see if we have an imbalance case by looking at total dataset of each positive and negative classes"
   ]
  },
  {
   "cell_type": "code",
   "execution_count": 4,
   "id": "72d7319c",
   "metadata": {
    "execution": {
     "iopub.execute_input": "2022-06-14T14:27:58.105629Z",
     "iopub.status.busy": "2022-06-14T14:27:58.105254Z",
     "iopub.status.idle": "2022-06-14T14:27:58.122507Z",
     "shell.execute_reply": "2022-06-14T14:27:58.121490Z"
    },
    "papermill": {
     "duration": 0.037493,
     "end_time": "2022-06-14T14:27:58.124736",
     "exception": false,
     "start_time": "2022-06-14T14:27:58.087243",
     "status": "completed"
    },
    "tags": []
   },
   "outputs": [
    {
     "data": {
      "text/plain": [
       "positive    25000\n",
       "negative    25000\n",
       "Name: sentiment, dtype: int64"
      ]
     },
     "execution_count": 4,
     "metadata": {},
     "output_type": "execute_result"
    }
   ],
   "source": [
    "data.sentiment.value_counts()"
   ]
  },
  {
   "cell_type": "markdown",
   "id": "aa5b924a",
   "metadata": {
    "papermill": {
     "duration": 0.017057,
     "end_time": "2022-06-14T14:27:58.160143",
     "exception": false,
     "start_time": "2022-06-14T14:27:58.143086",
     "status": "completed"
    },
    "tags": []
   },
   "source": [
    "Seems we have a good enough dataset. Here we got balance dataset with 25K for each labels."
   ]
  },
  {
   "cell_type": "markdown",
   "id": "e443ead6",
   "metadata": {
    "papermill": {
     "duration": 0.01682,
     "end_time": "2022-06-14T14:27:58.194214",
     "exception": false,
     "start_time": "2022-06-14T14:27:58.177394",
     "status": "completed"
    },
    "tags": []
   },
   "source": [
    "Now, we want to see token distribution in our dataset. We want to see token distribution for each positive and negative labels. We will split sentences by whitespaces and count total tokens by `len()` function."
   ]
  },
  {
   "cell_type": "code",
   "execution_count": 5,
   "id": "68f175d6",
   "metadata": {
    "execution": {
     "iopub.execute_input": "2022-06-14T14:27:58.230967Z",
     "iopub.status.busy": "2022-06-14T14:27:58.230050Z",
     "iopub.status.idle": "2022-06-14T14:27:59.037771Z",
     "shell.execute_reply": "2022-06-14T14:27:59.036097Z"
    },
    "papermill": {
     "duration": 0.828874,
     "end_time": "2022-06-14T14:27:59.039998",
     "exception": false,
     "start_time": "2022-06-14T14:27:58.211124",
     "status": "completed"
    },
    "tags": []
   },
   "outputs": [
    {
     "name": "stderr",
     "output_type": "stream",
     "text": [
      "100%|██████████| 50000/50000 [00:00<00:00, 62849.93it/s]\n"
     ]
    }
   ],
   "source": [
    "data['token_length'] = data.review.progress_apply(lambda x: len(x.split()))"
   ]
  },
  {
   "cell_type": "code",
   "execution_count": 6,
   "id": "804f171a",
   "metadata": {
    "execution": {
     "iopub.execute_input": "2022-06-14T14:27:59.078008Z",
     "iopub.status.busy": "2022-06-14T14:27:59.076401Z",
     "iopub.status.idle": "2022-06-14T14:27:59.094968Z",
     "shell.execute_reply": "2022-06-14T14:27:59.093669Z"
    },
    "papermill": {
     "duration": 0.039639,
     "end_time": "2022-06-14T14:27:59.097506",
     "exception": false,
     "start_time": "2022-06-14T14:27:59.057867",
     "status": "completed"
    },
    "tags": []
   },
   "outputs": [
    {
     "data": {
      "text/plain": [
       "count    25000.000000\n",
       "mean       232.849320\n",
       "std        177.497046\n",
       "min         10.000000\n",
       "25%        125.000000\n",
       "50%        172.000000\n",
       "75%        284.000000\n",
       "max       2470.000000\n",
       "Name: token_length, dtype: float64"
      ]
     },
     "execution_count": 6,
     "metadata": {},
     "output_type": "execute_result"
    }
   ],
   "source": [
    "data_pos = data[data['label'] == 1]\n",
    "data_pos['token_length'].describe()"
   ]
  },
  {
   "cell_type": "markdown",
   "id": "79d36b30",
   "metadata": {
    "papermill": {
     "duration": 0.017876,
     "end_time": "2022-06-14T14:27:59.133386",
     "exception": false,
     "start_time": "2022-06-14T14:27:59.115510",
     "status": "completed"
    },
    "tags": []
   },
   "source": [
    "For positive reviews, we have maximum token 2470 and minimum token 10. While the average token is 232."
   ]
  },
  {
   "cell_type": "code",
   "execution_count": 7,
   "id": "996e1d53",
   "metadata": {
    "execution": {
     "iopub.execute_input": "2022-06-14T14:27:59.172213Z",
     "iopub.status.busy": "2022-06-14T14:27:59.170542Z",
     "iopub.status.idle": "2022-06-14T14:27:59.185782Z",
     "shell.execute_reply": "2022-06-14T14:27:59.184567Z"
    },
    "papermill": {
     "duration": 0.036462,
     "end_time": "2022-06-14T14:27:59.188076",
     "exception": false,
     "start_time": "2022-06-14T14:27:59.151614",
     "status": "completed"
    },
    "tags": []
   },
   "outputs": [
    {
     "data": {
      "text/plain": [
       "count    25000.000000\n",
       "mean       229.464560\n",
       "std        164.947795\n",
       "min          4.000000\n",
       "25%        128.000000\n",
       "50%        174.000000\n",
       "75%        278.000000\n",
       "max       1522.000000\n",
       "Name: token_length, dtype: float64"
      ]
     },
     "execution_count": 7,
     "metadata": {},
     "output_type": "execute_result"
    }
   ],
   "source": [
    "data_neg = data[data['label'] == 0]\n",
    "data_neg['token_length'].describe()"
   ]
  },
  {
   "cell_type": "markdown",
   "id": "86e794a2",
   "metadata": {
    "papermill": {
     "duration": 0.017677,
     "end_time": "2022-06-14T14:27:59.224416",
     "exception": false,
     "start_time": "2022-06-14T14:27:59.206739",
     "status": "completed"
    },
    "tags": []
   },
   "source": [
    "And for negative reviews, we have maximum and minimum token respectively 1522 and 4. While the average token is 229."
   ]
  },
  {
   "cell_type": "markdown",
   "id": "4deb4730",
   "metadata": {
    "papermill": {
     "duration": 0.017503,
     "end_time": "2022-06-14T14:27:59.260008",
     "exception": false,
     "start_time": "2022-06-14T14:27:59.242505",
     "status": "completed"
    },
    "tags": []
   },
   "source": [
    "According to both descriptive statistics, both has identical maximum, minimum, and average token length."
   ]
  },
  {
   "cell_type": "code",
   "execution_count": 8,
   "id": "f31dc993",
   "metadata": {
    "execution": {
     "iopub.execute_input": "2022-06-14T14:27:59.298397Z",
     "iopub.status.busy": "2022-06-14T14:27:59.296653Z",
     "iopub.status.idle": "2022-06-14T14:28:00.176378Z",
     "shell.execute_reply": "2022-06-14T14:28:00.175370Z"
    },
    "papermill": {
     "duration": 0.900759,
     "end_time": "2022-06-14T14:28:00.178538",
     "exception": false,
     "start_time": "2022-06-14T14:27:59.277779",
     "status": "completed"
    },
    "tags": []
   },
   "outputs": [
    {
     "data": {
      "text/plain": [
       "<Figure size 360x576 with 0 Axes>"
      ]
     },
     "metadata": {},
     "output_type": "display_data"
    },
    {
     "data": {
      "image/png": "[encoded data removed]",
      "text/plain": [
       "<Figure size 360x360 with 1 Axes>"
      ]
     },
     "metadata": {
      "needs_background": "light"
     },
     "output_type": "display_data"
    }
   ],
   "source": [
    "plt.figure(figsize=(5, 8))\n",
    "sns.displot(data_pos, x='token_length')\n",
    "plt.title('Positive Token Length Distribution')\n",
    "plt.show()"
   ]
  },
  {
   "cell_type": "code",
   "execution_count": 9,
   "id": "b9822af2",
   "metadata": {
    "execution": {
     "iopub.execute_input": "2022-06-14T14:28:00.218559Z",
     "iopub.status.busy": "2022-06-14T14:28:00.218135Z",
     "iopub.status.idle": "2022-06-14T14:28:01.054632Z",
     "shell.execute_reply": "2022-06-14T14:28:01.053601Z"
    },
    "papermill": {
     "duration": 0.85864,
     "end_time": "2022-06-14T14:28:01.056886",
     "exception": false,
     "start_time": "2022-06-14T14:28:00.198246",
     "status": "completed"
    },
    "tags": []
   },
   "outputs": [
    {
     "data": {
      "text/plain": [
       "<Figure size 360x576 with 0 Axes>"
      ]
     },
     "metadata": {},
     "output_type": "display_data"
    },
    {
     "data": {
      "image/png": "[encoded data removed]",
      "text/plain": [
       "<Figure size 360x360 with 1 Axes>"
      ]
     },
     "metadata": {
      "needs_background": "light"
     },
     "output_type": "display_data"
    }
   ],
   "source": [
    "plt.figure(figsize=(5, 8))\n",
    "sns.displot(data_pos, x='token_length')\n",
    "plt.title('Negative Token Length Distribution')\n",
    "plt.show()"
   ]
  },
  {
   "cell_type": "markdown",
   "id": "8cc3d8a1",
   "metadata": {
    "papermill": {
     "duration": 0.018517,
     "end_time": "2022-06-14T14:28:01.095239",
     "exception": false,
     "start_time": "2022-06-14T14:28:01.076722",
     "status": "completed"
    },
    "tags": []
   },
   "source": [
    "Now let's see some reviews from positive and negative reviews."
   ]
  },
  {
   "cell_type": "code",
   "execution_count": 10,
   "id": "21bd3ef9",
   "metadata": {
    "execution": {
     "iopub.execute_input": "2022-06-14T14:28:01.134813Z",
     "iopub.status.busy": "2022-06-14T14:28:01.133796Z",
     "iopub.status.idle": "2022-06-14T14:28:01.143725Z",
     "shell.execute_reply": "2022-06-14T14:28:01.142723Z"
    },
    "papermill": {
     "duration": 0.03255,
     "end_time": "2022-06-14T14:28:01.146397",
     "exception": false,
     "start_time": "2022-06-14T14:28:01.113847",
     "status": "completed"
    },
    "tags": []
   },
   "outputs": [
    {
     "name": "stdout",
     "output_type": "stream",
     "text": [
      "Positive\n",
      "Brilliant and moving performances by Tom Courtenay and Peter Finch.\n",
      "\n",
      "Negative\n",
      "Primary plot!Primary direction!Poor interpretation.\n"
     ]
    }
   ],
   "source": [
    "# see most minimum length token\n",
    "print('Positive')\n",
    "print(data_pos[data_pos['token_length'] == data_pos['token_length'].min()]['review'].item())\n",
    "print()\n",
    "print('Negative')\n",
    "print(data_neg[data_neg['token_length'] == data_neg['token_length'].min()]['review'].item())"
   ]
  },
  {
   "cell_type": "markdown",
   "id": "2e5ac836",
   "metadata": {
    "papermill": {
     "duration": 0.018236,
     "end_time": "2022-06-14T14:28:01.183405",
     "exception": false,
     "start_time": "2022-06-14T14:28:01.165169",
     "status": "completed"
    },
    "tags": []
   },
   "source": [
    "## Clean and Preprocess\n",
    "1. Create text cleaning method pipeline\n",
    "2. Create text preprocessing method pipeline\n",
    "3. Save preprocessed data as new csv file"
   ]
  },
  {
   "cell_type": "markdown",
   "id": "f1b4e757",
   "metadata": {
    "papermill": {
     "duration": 0.018864,
     "end_time": "2022-06-14T14:28:01.220832",
     "exception": false,
     "start_time": "2022-06-14T14:28:01.201968",
     "status": "completed"
    },
    "tags": []
   },
   "source": [
    "Here we will define text cleaning pipeline which consist of several methods below:\n",
    "1. Remove links\n",
    "2. Remove punctuations, but here we exclude dot (.), comma (,), hyphen (-), exclamation (!), and question mark(?).\n",
    "3. Remove HTML tags\n",
    "4. Space between punctuation, because we want to treat some excluded punctuations as individual token\n",
    "5. Remove numbers\n",
    "6. Remove additional whitespaces\n",
    "7. Remove nonascii characters\n",
    "8. Remove emoji"
   ]
  },
  {
   "cell_type": "code",
   "execution_count": 11,
   "id": "3d55940e",
   "metadata": {
    "execution": {
     "iopub.execute_input": "2022-06-14T14:28:01.260221Z",
     "iopub.status.busy": "2022-06-14T14:28:01.259248Z",
     "iopub.status.idle": "2022-06-14T14:28:01.272877Z",
     "shell.execute_reply": "2022-06-14T14:28:01.271890Z"
    },
    "papermill": {
     "duration": 0.035881,
     "end_time": "2022-06-14T14:28:01.275314",
     "exception": false,
     "start_time": "2022-06-14T14:28:01.239433",
     "status": "completed"
    },
    "tags": []
   },
   "outputs": [],
   "source": [
    "# text cleaning\n",
    "\n",
    "def rm_link(text):\n",
    "    return re.sub(r'https?://\\S+|www\\.\\S+', '', text)\n",
    "\n",
    "# handle case like \"shut up okay?Im only 10 years old\"\n",
    "# become \"shut up okay Im only 10 years old\"\n",
    "def rm_punct2(text):\n",
    "    # return re.sub(r'[\\!\\\"\\#\\$\\%\\&\\'\\(\\)\\*\\+\\,\\-\\.\\/\\:\\;\\<\\=\\>\\?\\@\\[\\\\\\]\\^\\_\\`\\{\\|\\}\\~]', ' ', text)\n",
    "    return re.sub(r'[\\\"\\#\\$\\%\\&\\'\\(\\)\\*\\+\\/\\:\\;\\<\\=\\>\\@\\[\\\\\\]\\^\\_\\`\\{\\|\\}\\~]', ' ', text)\n",
    "\n",
    "def rm_html(text):\n",
    "    return re.sub(r'<[^>]+>', '', text)\n",
    "\n",
    "def space_bt_punct(text):\n",
    "    pattern = r'([.,!?-])'\n",
    "    s = re.sub(pattern, r' \\1 ', text)     # add whitespaces between punctuation\n",
    "    s = re.sub(r'\\s{2,}', ' ', s)        # remove double whitespaces    \n",
    "    return s\n",
    "\n",
    "def rm_number(text):\n",
    "    return re.sub(r'\\d+', '', text)\n",
    "\n",
    "def rm_whitespaces(text):\n",
    "    return re.sub(r' +', ' ', text)\n",
    "\n",
    "def rm_nonascii(text):\n",
    "    return re.sub(r'[^\\x00-\\x7f]', r'', text)\n",
    "\n",
    "def rm_emoji(text):\n",
    "    emojis = re.compile(\n",
    "        '['\n",
    "        u'\\U0001F600-\\U0001F64F'  # emoticons\n",
    "        u'\\U0001F300-\\U0001F5FF'  # symbols & pictographs\n",
    "        u'\\U0001F680-\\U0001F6FF'  # transport & map symbols\n",
    "        u'\\U0001F1E0-\\U0001F1FF'  # flags (iOS)\n",
    "        u'\\U00002702-\\U000027B0'\n",
    "        u'\\U000024C2-\\U0001F251'\n",
    "        ']+',\n",
    "        flags=re.UNICODE\n",
    "    )\n",
    "    return emojis.sub(r'', text)\n",
    "\n",
    "def spell_correction(text):\n",
    "    return re.sub(r'(.)\\1+', r'\\1\\1', text)\n",
    "\n",
    "def clean_pipeline(text):    \n",
    "    no_link = rm_link(text)\n",
    "    no_html = rm_html(no_link)\n",
    "    space_punct = space_bt_punct(no_html)\n",
    "    no_punct = rm_punct2(space_punct)\n",
    "    no_number = rm_number(no_punct)\n",
    "    no_whitespaces = rm_whitespaces(no_number)\n",
    "    no_nonasci = rm_nonascii(no_whitespaces)\n",
    "    no_emoji = rm_emoji(no_nonasci)\n",
    "    spell_corrected = spell_correction(no_emoji)\n",
    "    return spell_corrected"
   ]
  },
  {
   "cell_type": "markdown",
   "id": "bbe7d549",
   "metadata": {
    "papermill": {
     "duration": 0.018245,
     "end_time": "2022-06-14T14:28:01.312803",
     "exception": false,
     "start_time": "2022-06-14T14:28:01.294558",
     "status": "completed"
    },
    "tags": []
   },
   "source": [
    "Now, after clean the texts we will proceed to preprocessing methods. Here we will define several preprocessing methods as follows:\n",
    "1. Tokenize, where we split the text by words using `nltk` package\n",
    "2. Remove stopwords. Here we will use English stopwords provided by `nltk`\n",
    "3. Lemmatization, where we transform words into its original form by removing their suffix"
   ]
  },
  {
   "cell_type": "code",
   "execution_count": 12,
   "id": "a599ddd3",
   "metadata": {
    "execution": {
     "iopub.execute_input": "2022-06-14T14:28:01.353350Z",
     "iopub.status.busy": "2022-06-14T14:28:01.352271Z",
     "iopub.status.idle": "2022-06-14T14:28:01.360518Z",
     "shell.execute_reply": "2022-06-14T14:28:01.359444Z"
    },
    "papermill": {
     "duration": 0.031115,
     "end_time": "2022-06-14T14:28:01.362692",
     "exception": false,
     "start_time": "2022-06-14T14:28:01.331577",
     "status": "completed"
    },
    "tags": []
   },
   "outputs": [],
   "source": [
    "# preprocessing\n",
    "def tokenize(text):\n",
    "    return word_tokenize(text)\n",
    "\n",
    "def rm_stopwords(text):\n",
    "    return [i for i in text if i not in stopwords]\n",
    "\n",
    "def lemmatize(text):\n",
    "    lemmatizer = WordNetLemmatizer()    \n",
    "    lemmas = [lemmatizer.lemmatize(t) for t in text]\n",
    "    # make sure lemmas does not contains sotpwords\n",
    "    return rm_stopwords(lemmas)\n",
    "\n",
    "def preprocess_pipeline(text):\n",
    "    tokens = tokenize(text)\n",
    "    no_stopwords = rm_stopwords(tokens)\n",
    "    lemmas = lemmatize(no_stopwords)\n",
    "    return ' '.join(lemmas)"
   ]
  },
  {
   "cell_type": "code",
   "execution_count": 13,
   "id": "1c762035",
   "metadata": {
    "execution": {
     "iopub.execute_input": "2022-06-14T14:28:01.402042Z",
     "iopub.status.busy": "2022-06-14T14:28:01.401686Z",
     "iopub.status.idle": "2022-06-14T14:31:59.846936Z",
     "shell.execute_reply": "2022-06-14T14:31:59.845836Z"
    },
    "papermill": {
     "duration": 238.469845,
     "end_time": "2022-06-14T14:31:59.851564",
     "exception": false,
     "start_time": "2022-06-14T14:28:01.381719",
     "status": "completed"
    },
    "tags": []
   },
   "outputs": [
    {
     "name": "stderr",
     "output_type": "stream",
     "text": [
      "100%|██████████| 50000/50000 [00:32<00:00, 1517.68it/s]\n",
      "100%|██████████| 50000/50000 [03:25<00:00, 243.34it/s]\n"
     ]
    },
    {
     "data": {
      "text/html": [
       "<div>\n",
       "<style scoped>\n",
       "    .dataframe tbody tr th:only-of-type {\n",
       "        vertical-align: middle;\n",
       "    }\n",
       "\n",
       "    .dataframe tbody tr th {\n",
       "        vertical-align: top;\n",
       "    }\n",
       "\n",
       "    .dataframe thead th {\n",
       "        text-align: right;\n",
       "    }\n",
       "</style>\n",
       "<table border=\"1\" class=\"dataframe\">\n",
       "  <thead>\n",
       "    <tr style=\"text-align: right;\">\n",
       "      <th></th>\n",
       "      <th>review</th>\n",
       "      <th>sentiment</th>\n",
       "      <th>label</th>\n",
       "      <th>token_length</th>\n",
       "      <th>clean</th>\n",
       "      <th>processed</th>\n",
       "    </tr>\n",
       "  </thead>\n",
       "  <tbody>\n",
       "    <tr>\n",
       "      <th>0</th>\n",
       "      <td>One of the other reviewers has mentioned that ...</td>\n",
       "      <td>positive</td>\n",
       "      <td>1</td>\n",
       "      <td>307</td>\n",
       "      <td>One of the other reviewers has mentioned that ...</td>\n",
       "      <td>One reviewer mentioned watching Oz episode hoo...</td>\n",
       "    </tr>\n",
       "    <tr>\n",
       "      <th>1</th>\n",
       "      <td>A wonderful little production. &lt;br /&gt;&lt;br /&gt;The...</td>\n",
       "      <td>positive</td>\n",
       "      <td>1</td>\n",
       "      <td>162</td>\n",
       "      <td>A wonderful little production . The filming te...</td>\n",
       "      <td>A wonderful little production . The filming te...</td>\n",
       "    </tr>\n",
       "    <tr>\n",
       "      <th>2</th>\n",
       "      <td>I thought this was a wonderful way to spend ti...</td>\n",
       "      <td>positive</td>\n",
       "      <td>1</td>\n",
       "      <td>166</td>\n",
       "      <td>I thought this was a wonderful way to spend ti...</td>\n",
       "      <td>I thought wonderful way spend time hot summer ...</td>\n",
       "    </tr>\n",
       "    <tr>\n",
       "      <th>3</th>\n",
       "      <td>Basically there's a family where a little boy ...</td>\n",
       "      <td>negative</td>\n",
       "      <td>0</td>\n",
       "      <td>138</td>\n",
       "      <td>Basically there s a family where a little boy ...</td>\n",
       "      <td>Basically family little boy Jake think zombie ...</td>\n",
       "    </tr>\n",
       "    <tr>\n",
       "      <th>4</th>\n",
       "      <td>Petter Mattei's \"Love in the Time of Money\" is...</td>\n",
       "      <td>positive</td>\n",
       "      <td>1</td>\n",
       "      <td>230</td>\n",
       "      <td>Petter Mattei s Love in the Time of Money is a...</td>\n",
       "      <td>Petter Mattei Love Time Money visually stunnin...</td>\n",
       "    </tr>\n",
       "  </tbody>\n",
       "</table>\n",
       "</div>"
      ],
      "text/plain": [
       "                                              review sentiment  label  \\\n",
       "0  One of the other reviewers has mentioned that ...  positive      1   \n",
       "1  A wonderful little production. <br /><br />The...  positive      1   \n",
       "2  I thought this was a wonderful way to spend ti...  positive      1   \n",
       "3  Basically there's a family where a little boy ...  negative      0   \n",
       "4  Petter Mattei's \"Love in the Time of Money\" is...  positive      1   \n",
       "\n",
       "   token_length                                              clean  \\\n",
       "0           307  One of the other reviewers has mentioned that ...   \n",
       "1           162  A wonderful little production . The filming te...   \n",
       "2           166  I thought this was a wonderful way to spend ti...   \n",
       "3           138  Basically there s a family where a little boy ...   \n",
       "4           230  Petter Mattei s Love in the Time of Money is a...   \n",
       "\n",
       "                                           processed  \n",
       "0  One reviewer mentioned watching Oz episode hoo...  \n",
       "1  A wonderful little production . The filming te...  \n",
       "2  I thought wonderful way spend time hot summer ...  \n",
       "3  Basically family little boy Jake think zombie ...  \n",
       "4  Petter Mattei Love Time Money visually stunnin...  "
      ]
     },
     "execution_count": 13,
     "metadata": {},
     "output_type": "execute_result"
    }
   ],
   "source": [
    "data['clean'] = data['review'].progress_apply(clean_pipeline)\n",
    "data['processed'] = data['clean'].progress_apply(preprocess_pipeline)\n",
    "data.head()"
   ]
  },
  {
   "cell_type": "markdown",
   "id": "e6df4796",
   "metadata": {
    "papermill": {
     "duration": 0.170676,
     "end_time": "2022-06-14T14:32:00.189129",
     "exception": false,
     "start_time": "2022-06-14T14:32:00.018453",
     "status": "completed"
    },
    "tags": []
   },
   "source": [
    "Finally, after doing data preprocessing, we save our processed dataset into a new csv file for further usage."
   ]
  },
  {
   "cell_type": "code",
   "execution_count": 14,
   "id": "05da668f",
   "metadata": {
    "execution": {
     "iopub.execute_input": "2022-06-14T14:32:00.525421Z",
     "iopub.status.busy": "2022-06-14T14:32:00.524978Z",
     "iopub.status.idle": "2022-06-14T14:32:02.054121Z",
     "shell.execute_reply": "2022-06-14T14:32:02.052974Z"
    },
    "papermill": {
     "duration": 1.700702,
     "end_time": "2022-06-14T14:32:02.056874",
     "exception": false,
     "start_time": "2022-06-14T14:32:00.356172",
     "status": "completed"
    },
    "tags": []
   },
   "outputs": [],
   "source": [
    "# keep only processed and label columns\n",
    "data[['processed', 'label']].to_csv('./imdb_processed.csv', index=False, header=True)"
   ]
  },
  {
   "cell_type": "markdown",
   "id": "4d1106fb",
   "metadata": {
    "papermill": {
     "duration": 0.222659,
     "end_time": "2022-06-14T14:32:02.452811",
     "exception": false,
     "start_time": "2022-06-14T14:32:02.230152",
     "status": "completed"
    },
    "tags": []
   },
   "source": [
    "## Prepare Dataset\n",
    "<br>\n",
    "By now we already have our processed data. Before we proceed to classification step, we need to transform our text into vector representations. And in order to do that, we need to build a vocabulary that maps each token to ids.\n",
    "<br><br>\n",
    "Here are the following steps that we will do:\n",
    "\n",
    "1. Build a vocabulary\n",
    "2. Encode reviews\n",
    "3. Pad short reviews and trim long reviews\n",
    "4. Make train test val split\n",
    "5. Prepare dataloaders and batches"
   ]
  },
  {
   "cell_type": "code",
   "execution_count": 15,
   "id": "50c197b3",
   "metadata": {
    "execution": {
     "iopub.execute_input": "2022-06-14T14:32:02.787480Z",
     "iopub.status.busy": "2022-06-14T14:32:02.787080Z",
     "iopub.status.idle": "2022-06-14T14:32:03.148810Z",
     "shell.execute_reply": "2022-06-14T14:32:03.147668Z"
    },
    "papermill": {
     "duration": 0.533189,
     "end_time": "2022-06-14T14:32:03.151506",
     "exception": false,
     "start_time": "2022-06-14T14:32:02.618317",
     "status": "completed"
    },
    "tags": []
   },
   "outputs": [
    {
     "name": "stdout",
     "output_type": "stream",
     "text": [
      "One reviewer mentioned watching Oz episode hooked . They right , exactly happened . The first thing struck Oz brutality unflinching scene violence , set right word GO . Trust , show faint hearted timid . This show pull punch regard drug , sex violence . Its hardcore , classic use word . It called OZ nickname given Oswald Maximum Security State Penitentary . It focus mainly Emerald City , experimental section prison cell glass front face inwards , privacy high agenda . Em City home many . . Aryans , Muslims , gangsta , Latinos , Christians , Italians , Irish . . . . scuffle , death stare , dodgy dealing shady agreement never far away . I would say main appeal show due fact go show dare . Forget pretty picture painted mainstream audience , forget charm , forget romance . . . OZ mess around . The first episode I ever saw struck nasty surreal , I say I ready , I watched , I developed taste Oz , got accustomed high level graphic violence . Not violence , injustice crooked guard sold nickel , inmate kill order get away , well mannered , middle class inmate turned prison bitch due lack street skill prison experience Watching Oz , may become comfortable uncomfortable viewing . . . . thats get touch darker side .\n",
      "Label: 1\n",
      "\n",
      "\n",
      "A wonderful little production . The filming technique unassuming - old - time - BBC fashion give comforting , sometimes discomforting , sense realism entire piece . The actor extremely well chosen - Michael Sheen got polari voice pat ! You truly see seamless editing guided reference Williams diary entry , well worth watching terrificly written performed piece . A masterful production one great master comedy life . The realism really come home little thing fantasy guard , rather use traditional dream technique remains solid disappears . It play knowledge sens , particularly scene concerning Orton Halliwell set particularly flat Halliwell mural decorating every surface terribly well done .\n",
      "Label: 1\n",
      "\n",
      "\n"
     ]
    }
   ],
   "source": [
    "# read processed data\n",
    "data = pd.read_csv('./imdb_processed.csv')\n",
    "\n",
    "for row in data[:2].iterrows():\n",
    "    print(row[1]['processed'])\n",
    "    print(f'Label: {row[1][\"label\"]}')    \n",
    "    print('\\n')"
   ]
  },
  {
   "cell_type": "markdown",
   "id": "172f1f84",
   "metadata": {
    "papermill": {
     "duration": 0.171443,
     "end_time": "2022-06-14T14:32:03.491485",
     "exception": false,
     "start_time": "2022-06-14T14:32:03.320042",
     "status": "completed"
    },
    "tags": []
   },
   "source": [
    "Now, before we start build our vocabulary we need to gather all reviews into a single string variable. Then, we will split the whole reviews by whitespaces."
   ]
  },
  {
   "cell_type": "code",
   "execution_count": 16,
   "id": "0b750442",
   "metadata": {
    "execution": {
     "iopub.execute_input": "2022-06-14T14:32:03.829752Z",
     "iopub.status.busy": "2022-06-14T14:32:03.829347Z",
     "iopub.status.idle": "2022-06-14T14:32:04.689803Z",
     "shell.execute_reply": "2022-06-14T14:32:04.688712Z"
    },
    "papermill": {
     "duration": 1.034219,
     "end_time": "2022-06-14T14:32:04.692011",
     "exception": false,
     "start_time": "2022-06-14T14:32:03.657792",
     "status": "completed"
    },
    "tags": []
   },
   "outputs": [
    {
     "data": {
      "text/plain": [
       "['One',\n",
       " 'reviewer',\n",
       " 'mentioned',\n",
       " 'watching',\n",
       " 'Oz',\n",
       " 'episode',\n",
       " 'hooked',\n",
       " '.',\n",
       " 'They',\n",
       " 'right']"
      ]
     },
     "execution_count": 16,
     "metadata": {},
     "output_type": "execute_result"
    }
   ],
   "source": [
    "# get all processed reviews\n",
    "reviews = data.processed.values\n",
    "# merge into single variable, separated by whitespaces\n",
    "words = ' '.join(reviews)\n",
    "# obtain list of words\n",
    "words = words.split()\n",
    "\n",
    "# check our list\n",
    "words[:10]"
   ]
  },
  {
   "cell_type": "markdown",
   "id": "6dedee65",
   "metadata": {
    "papermill": {
     "duration": 0.170921,
     "end_time": "2022-06-14T14:32:05.031140",
     "exception": false,
     "start_time": "2022-06-14T14:32:04.860219",
     "status": "completed"
    },
    "tags": []
   },
   "source": [
    "Here we can utilize python built-in library `Counter` to easily get unique words in reviews. We then start indexing our unique words from 1, because we will use index 0 for padding `<PAD>` token."
   ]
  },
  {
   "cell_type": "code",
   "execution_count": 17,
   "id": "d6abe980",
   "metadata": {
    "execution": {
     "iopub.execute_input": "2022-06-14T14:32:05.373237Z",
     "iopub.status.busy": "2022-06-14T14:32:05.372781Z",
     "iopub.status.idle": "2022-06-14T14:32:06.726551Z",
     "shell.execute_reply": "2022-06-14T14:32:06.725418Z"
    },
    "papermill": {
     "duration": 1.523344,
     "end_time": "2022-06-14T14:32:06.728927",
     "exception": false,
     "start_time": "2022-06-14T14:32:05.205583",
     "status": "completed"
    },
    "tags": []
   },
   "outputs": [],
   "source": [
    "# build vocabulary\n",
    "counter = Counter(words)\n",
    "vocab = sorted(counter, key=counter.get, reverse=True)\n",
    "int2word = dict(enumerate(vocab, 1))\n",
    "int2word[0] = '<PAD>'\n",
    "word2int = {word: id for id, word in int2word.items()}"
   ]
  },
  {
   "cell_type": "markdown",
   "id": "452fb158",
   "metadata": {
    "papermill": {
     "duration": 0.168284,
     "end_time": "2022-06-14T14:32:07.067021",
     "exception": false,
     "start_time": "2022-06-14T14:32:06.898737",
     "status": "completed"
    },
    "tags": []
   },
   "source": [
    "Now, let's encode our reviews by converting each token into corresponding index in vocabulary that we just created."
   ]
  },
  {
   "cell_type": "code",
   "execution_count": 18,
   "id": "2277f444",
   "metadata": {
    "execution": {
     "iopub.execute_input": "2022-06-14T14:32:07.423045Z",
     "iopub.status.busy": "2022-06-14T14:32:07.422617Z",
     "iopub.status.idle": "2022-06-14T14:32:09.659007Z",
     "shell.execute_reply": "2022-06-14T14:32:09.656750Z"
    },
    "papermill": {
     "duration": 2.40809,
     "end_time": "2022-06-14T14:32:09.661865",
     "exception": false,
     "start_time": "2022-06-14T14:32:07.253775",
     "status": "completed"
    },
    "tags": []
   },
   "outputs": [
    {
     "name": "stderr",
     "output_type": "stream",
     "text": [
      "100%|██████████| 50000/50000 [00:02<00:00, 22499.52it/s]"
     ]
    },
    {
     "name": "stdout",
     "output_type": "stream",
     "text": [
      "[191, 1083, 930, 81, 3724]\n",
      "[47, 328, 59, 244, 1]\n",
      "[3, 95, 328, 30, 1041]\n",
      "[2408, 136, 59, 241, 3230]\n",
      "[70982, 10566, 1081, 1941, 7538]\n"
     ]
    },
    {
     "name": "stderr",
     "output_type": "stream",
     "text": [
      "\n"
     ]
    }
   ],
   "source": [
    "# encode words\n",
    "reviews_enc = [[word2int[word] for word in review.split()] for review in tqdm(reviews)]\n",
    "\n",
    "# print first-10 words of first 5 reviews\n",
    "for i in range(5):\n",
    "    print(reviews_enc[i][:5])"
   ]
  },
  {
   "cell_type": "markdown",
   "id": "fb218f89",
   "metadata": {
    "papermill": {
     "duration": 0.174321,
     "end_time": "2022-06-14T14:32:10.012492",
     "exception": false,
     "start_time": "2022-06-14T14:32:09.838171",
     "status": "completed"
    },
    "tags": []
   },
   "source": [
    "Great! Now we have successfully transform token to corresponding id. \n",
    "<br><br>\n",
    "But now we got another problem. As we know, the length review sometimes is different. So, first we need to define our maximum sequence length. Then, for each reviews that shorter than our predefined sequence length we will add `padding` token. Otherwise, we will `trim` the reviews."
   ]
  },
  {
   "cell_type": "code",
   "execution_count": 19,
   "id": "7532a6fd",
   "metadata": {
    "execution": {
     "iopub.execute_input": "2022-06-14T14:32:10.362782Z",
     "iopub.status.busy": "2022-06-14T14:32:10.362114Z",
     "iopub.status.idle": "2022-06-14T14:32:11.451947Z",
     "shell.execute_reply": "2022-06-14T14:32:11.450695Z"
    },
    "papermill": {
     "duration": 1.268243,
     "end_time": "2022-06-14T14:32:11.454886",
     "exception": false,
     "start_time": "2022-06-14T14:32:10.186643",
     "status": "completed"
    },
    "tags": []
   },
   "outputs": [
    {
     "data": {
      "text/plain": [
       "array([[  191,  1083,   930,    81,  3724,   186,  3030,     1,   118,\n",
       "          114],\n",
       "       [   47,   328,    59,   244,     1,     7,  1267,  1608, 17875,\n",
       "            4],\n",
       "       [    3,    95,   328,    30,  1041,    13,   845,  1774,  2633,\n",
       "            2],\n",
       "       [ 2408,   136,    59,   241,  3230,    37,   650,  4298,   583,\n",
       "          882],\n",
       "       [70982, 10566,  1081,  1941,  7538,  2280,  1313,     6,    46,\n",
       "            1],\n",
       "       [ 2795,     4,    13,   368,     5,     2,    17, 42503,     2,\n",
       "         2952],\n",
       "       [    3,   197,    18,    10,    21, 12517,  1904, 55922,   121,\n",
       "         5112],\n",
       "       [   14,    31,   427,     2,  1342,  4021,   165,    34,  2960,\n",
       "            1],\n",
       "       [47893,   980,   359,     6,     3,   180,   776,    81,     6,\n",
       "            1],\n",
       "       [   64,    10,   125,  2269,  5606,  1980,    10,     5,     1,\n",
       "           64]])"
      ]
     },
     "execution_count": 19,
     "metadata": {},
     "output_type": "execute_result"
    }
   ],
   "source": [
    "# padding sequences\n",
    "\n",
    "def pad_features(reviews, pad_id, seq_length=128):\n",
    "    # features = np.zeros((len(reviews), seq_length), dtype=int)\n",
    "    features = np.full((len(reviews), seq_length), pad_id, dtype=int)\n",
    "\n",
    "    for i, row in enumerate(reviews):\n",
    "        # if seq_length < len(row) then review will be trimmed\n",
    "        features[i, :len(row)] = np.array(row)[:seq_length]\n",
    "\n",
    "    return features\n",
    "\n",
    "seq_length = 256\n",
    "features = pad_features(reviews_enc, pad_id=word2int['<PAD>'], seq_length=seq_length)\n",
    "\n",
    "assert len(features) == len(reviews_enc)\n",
    "assert len(features[0]) == seq_length\n",
    "\n",
    "features[:10, :10]"
   ]
  },
  {
   "cell_type": "code",
   "execution_count": 20,
   "id": "8dd4f14a",
   "metadata": {
    "execution": {
     "iopub.execute_input": "2022-06-14T14:32:11.832856Z",
     "iopub.status.busy": "2022-06-14T14:32:11.832400Z",
     "iopub.status.idle": "2022-06-14T14:32:11.840501Z",
     "shell.execute_reply": "2022-06-14T14:32:11.839319Z"
    },
    "papermill": {
     "duration": 0.180929,
     "end_time": "2022-06-14T14:32:11.842794",
     "exception": false,
     "start_time": "2022-06-14T14:32:11.661865",
     "status": "completed"
    },
    "tags": []
   },
   "outputs": [
    {
     "data": {
      "text/plain": [
       "array([1, 1, 1, ..., 0, 0, 0])"
      ]
     },
     "execution_count": 20,
     "metadata": {},
     "output_type": "execute_result"
    }
   ],
   "source": [
    "# get labels as numpy\n",
    "labels = data.label.to_numpy()\n",
    "labels"
   ]
  },
  {
   "cell_type": "markdown",
   "id": "5220f053",
   "metadata": {
    "papermill": {
     "duration": 0.169741,
     "end_time": "2022-06-14T14:32:12.185666",
     "exception": false,
     "start_time": "2022-06-14T14:32:12.015925",
     "status": "completed"
    },
    "tags": []
   },
   "source": [
    "*Train test split!*\n",
    "<br><br>\n",
    "After we encode and `pad` / `trim` our dataset, it's time to make `train`, `validation`, and `test` set! Here we will try to implement train test split by ourselves.\n",
    "<br><br><br>\n",
    "So, here is the scenario: first we divide our dataset into 2 parts, `train` and `test` set. Then, we divide `train` again into `train` and `validation`. And of course we need to define the  `ratio` before we split our dataset."
   ]
  },
  {
   "cell_type": "code",
   "execution_count": 21,
   "id": "508e3e4e",
   "metadata": {
    "execution": {
     "iopub.execute_input": "2022-06-14T14:32:12.526767Z",
     "iopub.status.busy": "2022-06-14T14:32:12.526379Z",
     "iopub.status.idle": "2022-06-14T14:32:12.535431Z",
     "shell.execute_reply": "2022-06-14T14:32:12.534355Z"
    },
    "papermill": {
     "duration": 0.184846,
     "end_time": "2022-06-14T14:32:12.539062",
     "exception": false,
     "start_time": "2022-06-14T14:32:12.354216",
     "status": "completed"
    },
    "tags": []
   },
   "outputs": [
    {
     "name": "stdout",
     "output_type": "stream",
     "text": [
      "Feature Shapes:\n",
      "===============\n",
      "Train set: (35000, 256)\n",
      "Validation set: (7500, 256)\n",
      "Test set: (7500, 256)\n"
     ]
    }
   ],
   "source": [
    "# train test split\n",
    "train_size = .7     # we will use 80% of whole data as train set\n",
    "val_size = .5       # and we will use 50% of test set as validation set\n",
    "\n",
    "# make train set\n",
    "split_id = int(len(features) * train_size)\n",
    "train_x, remain_x = features[:split_id], features[split_id:]\n",
    "train_y, remain_y = labels[:split_id], labels[split_id:]\n",
    "\n",
    "# make val and test set\n",
    "split_val_id = int(len(remain_x) * val_size)\n",
    "val_x, test_x = remain_x[:split_val_id], remain_x[split_val_id:]\n",
    "val_y, test_y = remain_y[:split_val_id], remain_y[split_val_id:]\n",
    "\n",
    "# print out the shape\n",
    "print('Feature Shapes:')\n",
    "print('===============')\n",
    "print('Train set: {}'.format(train_x.shape))\n",
    "print('Validation set: {}'.format(val_x.shape))\n",
    "print('Test set: {}'.format(test_x.shape))"
   ]
  },
  {
   "cell_type": "code",
   "execution_count": 22,
   "id": "d4de9695",
   "metadata": {
    "execution": {
     "iopub.execute_input": "2022-06-14T14:32:12.882913Z",
     "iopub.status.busy": "2022-06-14T14:32:12.881908Z",
     "iopub.status.idle": "2022-06-14T14:32:12.890720Z",
     "shell.execute_reply": "2022-06-14T14:32:12.889080Z"
    },
    "papermill": {
     "duration": 0.183774,
     "end_time": "2022-06-14T14:32:12.893962",
     "exception": false,
     "start_time": "2022-06-14T14:32:12.710188",
     "status": "completed"
    },
    "tags": []
   },
   "outputs": [
    {
     "name": "stdout",
     "output_type": "stream",
     "text": [
      "17510 17490\n",
      "3753 3747\n",
      "3737 3763\n"
     ]
    }
   ],
   "source": [
    "print(len(train_y[train_y == 0]), len(train_y[train_y == 1]))\n",
    "print(len(val_y[val_y == 0]), len(val_y[val_y == 1]))\n",
    "print(len(test_y[test_y == 0]), len(test_y[test_y == 1]))"
   ]
  },
  {
   "cell_type": "markdown",
   "id": "708beb75",
   "metadata": {
    "papermill": {
     "duration": 0.170544,
     "end_time": "2022-06-14T14:32:13.239604",
     "exception": false,
     "start_time": "2022-06-14T14:32:13.069060",
     "status": "completed"
    },
    "tags": []
   },
   "source": [
    "Finally, we will pass our dataset into `TensorDataset` and then `DataLoader`. Remember that we have already split our dataset into train, test, and validation set. Hence, we need to create loaders for each set. And to do that, we need to convert our numpy formatted dataset into `TensorDataset`. Then, we need to specify our `batch_size` into `DataLoader` and pass our tensor dataset. Don't forget to give parameter `shuffle=True` to prevent our model in learning in chronological orders."
   ]
  },
  {
   "cell_type": "code",
   "execution_count": 23,
   "id": "cddbce9b",
   "metadata": {
    "execution": {
     "iopub.execute_input": "2022-06-14T14:32:13.582907Z",
     "iopub.status.busy": "2022-06-14T14:32:13.582517Z",
     "iopub.status.idle": "2022-06-14T14:32:13.590921Z",
     "shell.execute_reply": "2022-06-14T14:32:13.589839Z"
    },
    "papermill": {
     "duration": 0.184421,
     "end_time": "2022-06-14T14:32:13.593045",
     "exception": false,
     "start_time": "2022-06-14T14:32:13.408624",
     "status": "completed"
    },
    "tags": []
   },
   "outputs": [],
   "source": [
    "# define batch size\n",
    "batch_size = 128\n",
    "\n",
    "# create tensor datasets\n",
    "trainset = TensorDataset(torch.from_numpy(train_x), torch.from_numpy(train_y))\n",
    "validset = TensorDataset(torch.from_numpy(val_x), torch.from_numpy(val_y))\n",
    "testset = TensorDataset(torch.from_numpy(test_x), torch.from_numpy(test_y))\n",
    "\n",
    "# create dataloaders\n",
    "trainloader = DataLoader(trainset, shuffle=True, batch_size=batch_size)\n",
    "valloader = DataLoader(validset, shuffle=True, batch_size=batch_size)\n",
    "testloader = DataLoader(testset, shuffle=True, batch_size=batch_size)"
   ]
  },
  {
   "cell_type": "markdown",
   "id": "a496a33d",
   "metadata": {
    "papermill": {
     "duration": 0.174255,
     "end_time": "2022-06-14T14:32:13.940653",
     "exception": false,
     "start_time": "2022-06-14T14:32:13.766398",
     "status": "completed"
    },
    "tags": []
   },
   "source": [
    "Let's have a look to our just created loader.\n",
    "<br>\n",
    "Here we expecting the shape of `X` is **(batch_size, sequence_length)**, while the shape of `Y` is **(batch_size)**"
   ]
  },
  {
   "cell_type": "code",
   "execution_count": 24,
   "id": "7585f14d",
   "metadata": {
    "execution": {
     "iopub.execute_input": "2022-06-14T14:32:14.334099Z",
     "iopub.status.busy": "2022-06-14T14:32:14.333715Z",
     "iopub.status.idle": "2022-06-14T14:32:14.355441Z",
     "shell.execute_reply": "2022-06-14T14:32:14.354240Z"
    },
    "papermill": {
     "duration": 0.244419,
     "end_time": "2022-06-14T14:32:14.359418",
     "exception": false,
     "start_time": "2022-06-14T14:32:14.114999",
     "status": "completed"
    },
    "tags": []
   },
   "outputs": [
    {
     "name": "stdout",
     "output_type": "stream",
     "text": [
      "Sample batch size:  torch.Size([128, 256])\n",
      "Sample batch input: \n",
      " tensor([[ 7285,    78,   138,  ...,     0,     0,     0],\n",
      "        [   47,   257, 39364,  ...,     0,     0,     0],\n",
      "        [   14,    28,     5,  ...,     0,     0,     0],\n",
      "        ...,\n",
      "        [ 5034,     1,  1463,  ...,     0,     0,     0],\n",
      "        [ 8663, 32327, 22712,  ...,     0,     0,     0],\n",
      "        [  903,   150,   525,  ...,     0,     0,     0]])\n",
      "\n",
      "Sample label size:  torch.Size([128])\n",
      "Sample label input: \n",
      " tensor([0, 0, 0, 0, 0, 1, 1, 0, 0, 0, 1, 0, 1, 1, 1, 0, 1, 1, 0, 0, 1, 0, 0, 1,\n",
      "        0, 1, 0, 1, 0, 0, 1, 0, 0, 0, 1, 0, 0, 1, 0, 0, 0, 1, 1, 1, 1, 0, 1, 0,\n",
      "        0, 0, 1, 0, 1, 0, 1, 1, 1, 1, 0, 1, 1, 1, 1, 0, 1, 0, 0, 1, 1, 0, 1, 1,\n",
      "        0, 0, 0, 1, 1, 1, 1, 0, 1, 1, 1, 1, 0, 0, 1, 0, 1, 0, 0, 1, 1, 0, 1, 0,\n",
      "        1, 1, 0, 0, 0, 0, 1, 1, 0, 0, 0, 0, 1, 1, 1, 0, 1, 1, 0, 0, 0, 0, 1, 1,\n",
      "        0, 1, 0, 0, 0, 0, 1, 0])\n"
     ]
    }
   ],
   "source": [
    "# check our batches\n",
    "dataiter = iter(trainloader)\n",
    "x, y = dataiter.next()\n",
    "\n",
    "print('Sample batch size: ', x.size())   # batch_size, seq_length\n",
    "print('Sample batch input: \\n', x)\n",
    "print()\n",
    "print('Sample label size: ', y.size())   # batch_size\n",
    "print('Sample label input: \\n', y)"
   ]
  },
  {
   "cell_type": "markdown",
   "id": "ff32703b",
   "metadata": {
    "papermill": {
     "duration": 0.174408,
     "end_time": "2022-06-14T14:32:14.706798",
     "exception": false,
     "start_time": "2022-06-14T14:32:14.532390",
     "status": "completed"
    },
    "tags": []
   },
   "source": [
    "## Modelling\n",
    "\n",
    "We are arrived on the most interesting part of ML project, that is modelling *yeay*  🥳\n",
    "<br>\n",
    "In this project, we will use LSTM (Long Short-Term Memory) as our model. I decide to use this model because in text data, sometimes each word has relations with its next or previous words. Hence, we can treat them as sequential case and since most traditional ML seems does not learning text sequentially, we can use RNN-based model as a solution.\n",
    "\n",
    "<br>\n",
    "But before we talk further about this model, it's better for you to see the RNN-based model illustration below."
   ]
  },
  {
   "cell_type": "markdown",
   "id": "bf6923a8",
   "metadata": {
    "papermill": {
     "duration": 0.300724,
     "end_time": "2022-06-14T14:32:15.179237",
     "exception": false,
     "start_time": "2022-06-14T14:32:14.878513",
     "status": "completed"
    },
    "tags": []
   },
   "source": [
    "![RNN-Relations](https://raw.githubusercontent.com/fhrzn/all-about-rnn/master/sentiment-analysis/notebook/images/diags.jpeg)"
   ]
  },
  {
   "cell_type": "markdown",
   "id": "f7711466",
   "metadata": {
    "papermill": {
     "duration": 0.225091,
     "end_time": "2022-06-14T14:32:15.711323",
     "exception": false,
     "start_time": "2022-06-14T14:32:15.486232",
     "status": "completed"
    },
    "tags": []
   },
   "source": [
    "So, the RNN-based models can be used for many purposes. But in this case, we will only talk about `many-to-one` use case. Because, the real process behind is we are feeding word by word to the network sequentially, and each time we feed the words we will get `output vector` and `hidden_state`; where we are only passing `hidden_state` into next sequences and ignore the `output vector`. We will take only the `output vector` from the very last sequence, because it contains all the *summary* of the whole words before.\n",
    "<br><br>\n",
    "After taking the `output vector` from the last sequence, we will feed it to **Sigmoid** layer, because it will *squash* values in the output vector into 2 classes; which is *positive* and *negative* in this case. To see how Sigmoid layer actually work, please see the illustration below."
   ]
  },
  {
   "cell_type": "markdown",
   "id": "36f46cf9",
   "metadata": {
    "papermill": {
     "duration": 0.16982,
     "end_time": "2022-06-14T14:32:16.055974",
     "exception": false,
     "start_time": "2022-06-14T14:32:15.886154",
     "status": "completed"
    },
    "tags": []
   },
   "source": [
    "![Sigmoid](https://raw.githubusercontent.com/fhrzn/all-about-rnn/master/sentiment-analysis/notebook/images/Sigmoid-function.png)"
   ]
  },
  {
   "cell_type": "markdown",
   "id": "8845a70e",
   "metadata": {
    "papermill": {
     "duration": 0.174358,
     "end_time": "2022-06-14T14:32:16.401943",
     "exception": false,
     "start_time": "2022-06-14T14:32:16.227585",
     "status": "completed"
    },
    "tags": []
   },
   "source": [
    "So, as you can see above, Sigmoid has default threshold 0.5. And all values above this threshold will be considered as class 1, and the otherwise will be considered as class 0."
   ]
  },
  {
   "cell_type": "markdown",
   "id": "f831097a",
   "metadata": {
    "papermill": {
     "duration": 0.173074,
     "end_time": "2022-06-14T14:32:16.747572",
     "exception": false,
     "start_time": "2022-06-14T14:32:16.574498",
     "status": "completed"
    },
    "tags": []
   },
   "source": [
    "Now, we will talk about steps we are going to do:\n",
    "<br>\n",
    "\n",
    "1. Build network architecture\n",
    "2. Define model hyperparameters\n",
    "3. Setup training config\n",
    "4. Write training-validation loop\n",
    "5. Plot Loss\n",
    "6. Inference on test set\n",
    "7. Evaluation metrics"
   ]
  },
  {
   "cell_type": "code",
   "execution_count": 25,
   "id": "b4ae1ba0",
   "metadata": {
    "execution": {
     "iopub.execute_input": "2022-06-14T14:32:17.141644Z",
     "iopub.status.busy": "2022-06-14T14:32:17.141218Z",
     "iopub.status.idle": "2022-06-14T14:32:17.152272Z",
     "shell.execute_reply": "2022-06-14T14:32:17.151202Z"
    },
    "papermill": {
     "duration": 0.230449,
     "end_time": "2022-06-14T14:32:17.154483",
     "exception": false,
     "start_time": "2022-06-14T14:32:16.924034",
     "status": "completed"
    },
    "tags": []
   },
   "outputs": [],
   "source": [
    "# model architecture\n",
    "\n",
    "class SentimentModel(nn.Module):\n",
    "    def __init__(self, vocab_size, output_size, hidden_size=128, embedding_size=400, n_layers=2, dropout=0.2):\n",
    "        super(SentimentModel, self).__init__()\n",
    "\n",
    "        # embedding layer is useful to map input into vector representation\n",
    "        self.embedding = nn.Embedding(vocab_size, embedding_size)\n",
    "\n",
    "        # LSTM layer preserved by PyTorch library\n",
    "        self.lstm = nn.LSTM(embedding_size, hidden_size, n_layers, dropout=dropout, batch_first=True)\n",
    "\n",
    "        # dropout layer\n",
    "        self.dropout = nn.Dropout(0.3)\n",
    "\n",
    "        # Linear layer for output\n",
    "        self.fc = nn.Linear(hidden_size, output_size)\n",
    "\n",
    "        # Sigmoid layer cz we will have binary classification\n",
    "        self.sigmoid = nn.Sigmoid()\n",
    "\n",
    "    def forward(self, x):\n",
    "        \n",
    "        # convert feature to long\n",
    "        x = x.long()\n",
    "\n",
    "        # map input to vector\n",
    "        x = self.embedding(x)\n",
    "\n",
    "        # pass forward to lstm\n",
    "        o, _ =  self.lstm(x)\n",
    "\n",
    "        # get last sequence output\n",
    "        o = o[:, -1, :]\n",
    "\n",
    "        # apply dropout and fully connected layer\n",
    "        o = self.dropout(o)\n",
    "        o = self.fc(o)\n",
    "\n",
    "        # sigmoid\n",
    "        o = self.sigmoid(o)\n",
    "\n",
    "        return o"
   ]
  },
  {
   "cell_type": "markdown",
   "id": "17157479",
   "metadata": {
    "papermill": {
     "duration": 0.175121,
     "end_time": "2022-06-14T14:32:17.502181",
     "exception": false,
     "start_time": "2022-06-14T14:32:17.327060",
     "status": "completed"
    },
    "tags": []
   },
   "source": [
    "So, we just created our simple neural network consisting of several layers as follows:\n",
    "- Embedding layer, where we can reduce the dimensionality of our vocabulary by learning its representation.\n",
    "- LSTM layer, which will have the most work of our model\n",
    "- Dropout layer, is the layer that have a task to reduce noise in our model. So it expected to prevent our model being overfit.\n",
    "- Fully connected (Dense) layer, that classify our output vector from LSTM.\n",
    "- Sigmoid layer, that *translates* the output of fully connected layer and give us view to the outputs more clearly.\n",
    "\n",
    "<br><br>\n",
    "Since training neural network model takes quite long time sometimes, we can speed up the training process by using GPU. But as not all device has GPU installed and/or supported, we will try to detect automatically if the device has GPU or not."
   ]
  },
  {
   "cell_type": "code",
   "execution_count": 26,
   "id": "e6be2a71",
   "metadata": {
    "execution": {
     "iopub.execute_input": "2022-06-14T14:32:17.848277Z",
     "iopub.status.busy": "2022-06-14T14:32:17.847855Z",
     "iopub.status.idle": "2022-06-14T14:32:17.918821Z",
     "shell.execute_reply": "2022-06-14T14:32:17.917647Z"
    },
    "papermill": {
     "duration": 0.246964,
     "end_time": "2022-06-14T14:32:17.921977",
     "exception": false,
     "start_time": "2022-06-14T14:32:17.675013",
     "status": "completed"
    },
    "tags": []
   },
   "outputs": [
    {
     "name": "stdout",
     "output_type": "stream",
     "text": [
      "cuda\n"
     ]
    }
   ],
   "source": [
    "# define training device\n",
    "device = torch.device('cuda' if torch.cuda.is_available() else 'cpu')\n",
    "print(device)"
   ]
  },
  {
   "cell_type": "markdown",
   "id": "af11186e",
   "metadata": {
    "papermill": {
     "duration": 0.172166,
     "end_time": "2022-06-14T14:32:18.267808",
     "exception": false,
     "start_time": "2022-06-14T14:32:18.095642",
     "status": "completed"
    },
    "tags": []
   },
   "source": [
    "Here we define our model hyperparameters that we can modify to tune our model to produce the best performance."
   ]
  },
  {
   "cell_type": "code",
   "execution_count": 27,
   "id": "3adfa899",
   "metadata": {
    "execution": {
     "iopub.execute_input": "2022-06-14T14:32:18.612682Z",
     "iopub.status.busy": "2022-06-14T14:32:18.612245Z",
     "iopub.status.idle": "2022-06-14T14:32:18.942739Z",
     "shell.execute_reply": "2022-06-14T14:32:18.939581Z"
    },
    "papermill": {
     "duration": 0.504422,
     "end_time": "2022-06-14T14:32:18.946952",
     "exception": false,
     "start_time": "2022-06-14T14:32:18.442530",
     "status": "completed"
    },
    "tags": []
   },
   "outputs": [
    {
     "name": "stdout",
     "output_type": "stream",
     "text": [
      "SentimentModel(\n",
      "  (embedding): Embedding(121301, 256)\n",
      "  (lstm): LSTM(256, 512, num_layers=2, batch_first=True, dropout=0.25)\n",
      "  (dropout): Dropout(p=0.3, inplace=False)\n",
      "  (fc): Linear(in_features=512, out_features=1, bias=True)\n",
      "  (sigmoid): Sigmoid()\n",
      ")\n"
     ]
    }
   ],
   "source": [
    "# model hyperparamters\n",
    "vocab_size = len(word2int)\n",
    "output_size = 1\n",
    "embedding_size = 256\n",
    "hidden_size = 512\n",
    "n_layers = 2\n",
    "dropout=0.25\n",
    "\n",
    "# model initialization\n",
    "model = SentimentModel(vocab_size, output_size, hidden_size, embedding_size, n_layers, dropout)\n",
    "print(model)"
   ]
  },
  {
   "cell_type": "markdown",
   "id": "932ce79e",
   "metadata": {
    "papermill": {
     "duration": 0.168588,
     "end_time": "2022-06-14T14:32:19.291192",
     "exception": false,
     "start_time": "2022-06-14T14:32:19.122604",
     "status": "completed"
    },
    "tags": []
   },
   "source": [
    "Then, we define some training config for our model. Since we have *binary classification* task, we will use **Binary Cross Entropy Loss (BCELoss)** as our loss function. And we will use **Adam** as optimizer as it shown in many references that it could find converge point quickly.\n",
    "<br><br>\n",
    "We also define `early_stop` mechanism that expected to prevent our model being overfit by stop training once the monitored parameters (e.g. `val_loss` or `val_acc`) is not improved by several epochs anymore."
   ]
  },
  {
   "cell_type": "code",
   "execution_count": 28,
   "id": "57784ec4",
   "metadata": {
    "execution": {
     "iopub.execute_input": "2022-06-14T14:32:19.683142Z",
     "iopub.status.busy": "2022-06-14T14:32:19.682690Z",
     "iopub.status.idle": "2022-06-14T14:32:19.689449Z",
     "shell.execute_reply": "2022-06-14T14:32:19.688355Z"
    },
    "papermill": {
     "duration": 0.21968,
     "end_time": "2022-06-14T14:32:19.691557",
     "exception": false,
     "start_time": "2022-06-14T14:32:19.471877",
     "status": "completed"
    },
    "tags": []
   },
   "outputs": [],
   "source": [
    "# training config\n",
    "lr = 0.001\n",
    "criterion = nn.BCELoss()  # we use BCELoss cz we have binary classification problem\n",
    "optim = Adam(model.parameters(), lr=lr)\n",
    "grad_clip = 5\n",
    "epochs = 8\n",
    "print_every = 1\n",
    "history = {\n",
    "    'train_loss': [],\n",
    "    'train_acc': [],\n",
    "    'val_loss': [],\n",
    "    'val_acc': [],\n",
    "    'epochs': epochs\n",
    "}\n",
    "es_limit = 5"
   ]
  },
  {
   "cell_type": "markdown",
   "id": "1dedb073",
   "metadata": {
    "papermill": {
     "duration": 0.171728,
     "end_time": "2022-06-14T14:32:20.030222",
     "exception": false,
     "start_time": "2022-06-14T14:32:19.858494",
     "status": "completed"
    },
    "tags": []
   },
   "source": [
    "**This is our main part!**\n",
    "<br>\n",
    "So, here we define training and validation loop. We will use only 5 epochs and see if we need more or less epochs to obtain good performance. We log our loss and accuracy for each epochs, so we can plot them later to see how the performances."
   ]
  },
  {
   "cell_type": "code",
   "execution_count": 29,
   "id": "dbe293b6",
   "metadata": {
    "execution": {
     "iopub.execute_input": "2022-06-14T14:32:20.370716Z",
     "iopub.status.busy": "2022-06-14T14:32:20.370250Z",
     "iopub.status.idle": "2022-06-14T14:38:38.771671Z",
     "shell.execute_reply": "2022-06-14T14:38:38.770365Z"
    },
    "papermill": {
     "duration": 378.581679,
     "end_time": "2022-06-14T14:38:38.780648",
     "exception": false,
     "start_time": "2022-06-14T14:32:20.198969",
     "status": "completed"
    },
    "tags": []
   },
   "outputs": [
    {
     "name": "stderr",
     "output_type": "stream",
     "text": [
      "Training:  12%|█▎        | 1/8 [00:47<05:34, 47.80s/it, Val Loss: 0.693 | Val Acc: 0.494]"
     ]
    },
    {
     "name": "stdout",
     "output_type": "stream",
     "text": [
      "Epoch 1/8 | Train Loss: 0.694 Train Acc: 0.501 | Val Loss: 0.693 Val Acc: 0.494\n"
     ]
    },
    {
     "name": "stderr",
     "output_type": "stream",
     "text": [
      "Training:  38%|███▊      | 3/8 [01:34<02:38, 31.77s/it, Training batch 1/274]"
     ]
    },
    {
     "name": "stdout",
     "output_type": "stream",
     "text": [
      "Epoch 2/8 | Train Loss: 0.694 Train Acc: 0.499 | Val Loss: 0.693 Val Acc: 0.506\n",
      "[WARNING] Validation loss did not improved (0.693 --> 0.693)\n"
     ]
    },
    {
     "name": "stderr",
     "output_type": "stream",
     "text": [
      "Training:  50%|█████     | 4/8 [02:20<02:29, 37.42s/it, Val Loss: 0.692 | Val Acc: 0.512]"
     ]
    },
    {
     "name": "stdout",
     "output_type": "stream",
     "text": [
      "Epoch 3/8 | Train Loss: 0.692 Train Acc: 0.506 | Val Loss: 0.692 Val Acc: 0.512\n"
     ]
    },
    {
     "name": "stderr",
     "output_type": "stream",
     "text": [
      "Training:  75%|███████▌  | 6/8 [03:06<01:03, 31.59s/it, Val Loss: 0.681 | Val Acc: 0.532]"
     ]
    },
    {
     "name": "stdout",
     "output_type": "stream",
     "text": [
      "Epoch 4/8 | Train Loss: 0.678 Train Acc: 0.533 | Val Loss: 0.681 Val Acc: 0.532\n"
     ]
    },
    {
     "name": "stderr",
     "output_type": "stream",
     "text": [
      "Training:  88%|████████▊ | 7/8 [03:53<00:36, 36.59s/it, Val Loss: 0.596 | Val Acc: 0.704]"
     ]
    },
    {
     "name": "stdout",
     "output_type": "stream",
     "text": [
      "Epoch 5/8 | Train Loss: 0.650 Train Acc: 0.588 | Val Loss: 0.596 Val Acc: 0.704\n"
     ]
    },
    {
     "name": "stderr",
     "output_type": "stream",
     "text": [
      "Training: 100%|██████████| 8/8 [04:40<00:00, 39.92s/it, Val Loss: 0.392 | Val Acc: 0.836]"
     ]
    },
    {
     "name": "stdout",
     "output_type": "stream",
     "text": [
      "Epoch 6/8 | Train Loss: 0.415 Train Acc: 0.820 | Val Loss: 0.392 Val Acc: 0.836\n"
     ]
    },
    {
     "name": "stderr",
     "output_type": "stream",
     "text": [
      "Training: 10it [05:26, 33.21s/it, Val Loss: 0.358 | Val Acc: 0.854]"
     ]
    },
    {
     "name": "stdout",
     "output_type": "stream",
     "text": [
      "Epoch 7/8 | Train Loss: 0.275 Train Acc: 0.893 | Val Loss: 0.358 Val Acc: 0.854\n"
     ]
    },
    {
     "name": "stderr",
     "output_type": "stream",
     "text": [
      "Training: 100%|██████████| 8/8 [06:13<00:00, 46.74s/it, Val Loss: 0.375 | Val Acc: 0.863]"
     ]
    },
    {
     "name": "stdout",
     "output_type": "stream",
     "text": [
      "Epoch 8/8 | Train Loss: 0.199 Train Acc: 0.928 | Val Loss: 0.375 Val Acc: 0.863\n",
      "[WARNING] Validation loss did not improved (0.358 --> 0.375)\n"
     ]
    },
    {
     "name": "stderr",
     "output_type": "stream",
     "text": [
      "\n"
     ]
    }
   ],
   "source": [
    "# train loop\n",
    "model = model.to(device)\n",
    "\n",
    "epochloop = tqdm(range(epochs), position=0, desc='Training', leave=True)\n",
    "\n",
    "# early stop trigger\n",
    "es_trigger = 0\n",
    "val_loss_min = torch.inf\n",
    "\n",
    "for e in epochloop:\n",
    "\n",
    "    #################\n",
    "    # training mode #\n",
    "    #################\n",
    "\n",
    "    model.train()\n",
    "\n",
    "    train_loss = 0\n",
    "    train_acc = 0\n",
    "\n",
    "    for id, (feature, target) in enumerate(trainloader):\n",
    "        # add epoch meta info\n",
    "        epochloop.set_postfix_str(f'Training batch {id}/{len(trainloader)}')\n",
    "\n",
    "        # move to device\n",
    "        feature, target = feature.to(device), target.to(device)\n",
    "\n",
    "        # reset optimizer\n",
    "        optim.zero_grad()\n",
    "\n",
    "        # forward pass\n",
    "        out = model(feature)\n",
    "\n",
    "        # acc\n",
    "        predicted = torch.tensor([1 if i == True else 0 for i in out > 0.5], device=device)\n",
    "        equals = predicted == target\n",
    "        acc = torch.mean(equals.type(torch.FloatTensor))\n",
    "        train_acc += acc.item()\n",
    "\n",
    "        # loss\n",
    "        loss = criterion(out.squeeze(), target.float())\n",
    "        train_loss += loss.item()\n",
    "        loss.backward()\n",
    "\n",
    "        # clip grad\n",
    "        nn.utils.clip_grad_norm_(model.parameters(), grad_clip)\n",
    "\n",
    "        # update optimizer\n",
    "        optim.step()\n",
    "\n",
    "        # free some memory\n",
    "        del feature, target, predicted\n",
    "\n",
    "    history['train_loss'].append(train_loss / len(trainloader))\n",
    "    history['train_acc'].append(train_acc / len(trainloader))\n",
    "\n",
    "    ####################\n",
    "    # validation model #\n",
    "    ####################\n",
    "\n",
    "    model.eval()\n",
    "\n",
    "    val_loss = 0\n",
    "    val_acc = 0\n",
    "\n",
    "    with torch.no_grad():\n",
    "        for id, (feature, target) in enumerate(valloader):\n",
    "            # add epoch meta info\n",
    "            epochloop.set_postfix_str(f'Validation batch {id}/{len(valloader)}')\n",
    "            \n",
    "            # move to device\n",
    "            feature, target = feature.to(device), target.to(device)\n",
    "\n",
    "            # forward pass\n",
    "            out = model(feature)\n",
    "\n",
    "            # acc\n",
    "            predicted = torch.tensor([1 if i == True else 0 for i in out > 0.5], device=device)\n",
    "            equals = predicted == target\n",
    "            acc = torch.mean(equals.type(torch.FloatTensor))\n",
    "            val_acc += acc.item()\n",
    "\n",
    "            # loss\n",
    "            loss = criterion(out.squeeze(), target.float())\n",
    "            val_loss += loss.item()\n",
    "\n",
    "            # free some memory\n",
    "            del feature, target, predicted\n",
    "\n",
    "        history['val_loss'].append(val_loss / len(valloader))\n",
    "        history['val_acc'].append(val_acc / len(valloader))\n",
    "\n",
    "    # reset model mode\n",
    "    model.train()\n",
    "\n",
    "    # add epoch meta info\n",
    "    epochloop.set_postfix_str(f'Val Loss: {val_loss / len(valloader):.3f} | Val Acc: {val_acc / len(valloader):.3f}')\n",
    "\n",
    "    # print epoch\n",
    "    if (e+1) % print_every == 0:\n",
    "        epochloop.write(f'Epoch {e+1}/{epochs} | Train Loss: {train_loss / len(trainloader):.3f} Train Acc: {train_acc / len(trainloader):.3f} | Val Loss: {val_loss / len(valloader):.3f} Val Acc: {val_acc / len(valloader):.3f}')\n",
    "        epochloop.update()\n",
    "\n",
    "    # save model if validation loss decrease\n",
    "    if val_loss / len(valloader) <= val_loss_min:\n",
    "        torch.save(model.state_dict(), './sentiment_lstm.pt')\n",
    "        val_loss_min = val_loss / len(valloader)\n",
    "        es_trigger = 0\n",
    "    else:\n",
    "        epochloop.write(f'[WARNING] Validation loss did not improved ({val_loss_min:.3f} --> {val_loss / len(valloader):.3f})')\n",
    "        es_trigger += 1\n",
    "\n",
    "    # force early stop\n",
    "    if es_trigger >= es_limit:\n",
    "        epochloop.write(f'Early stopped at Epoch-{e+1}')\n",
    "        # update epochs history\n",
    "        history['epochs'] = e+1\n",
    "        break"
   ]
  },
  {
   "cell_type": "code",
   "execution_count": 30,
   "id": "87a671f7",
   "metadata": {
    "execution": {
     "iopub.execute_input": "2022-06-14T14:38:39.565684Z",
     "iopub.status.busy": "2022-06-14T14:38:39.565267Z",
     "iopub.status.idle": "2022-06-14T14:38:39.799065Z",
     "shell.execute_reply": "2022-06-14T14:38:39.798055Z"
    },
    "papermill": {
     "duration": 0.604159,
     "end_time": "2022-06-14T14:38:39.801475",
     "exception": false,
     "start_time": "2022-06-14T14:38:39.197316",
     "status": "completed"
    },
    "tags": []
   },
   "outputs": [
    {
     "data": {
      "image/png": "[encoded data removed]",
      "text/plain": [
       "<Figure size 432x576 with 1 Axes>"
      ]
     },
     "metadata": {
      "needs_background": "light"
     },
     "output_type": "display_data"
    }
   ],
   "source": [
    "# plot loss\n",
    "plt.figure(figsize=(6, 8))\n",
    "plt.plot(range(history['epochs']), history['train_acc'], label='Train Acc')\n",
    "plt.plot(range(history['epochs']), history['val_acc'], label='Val Acc')\n",
    "plt.legend()\n",
    "plt.show()"
   ]
  },
  {
   "cell_type": "code",
   "execution_count": 31,
   "id": "b65b14e3",
   "metadata": {
    "execution": {
     "iopub.execute_input": "2022-06-14T14:38:40.844818Z",
     "iopub.status.busy": "2022-06-14T14:38:40.844379Z",
     "iopub.status.idle": "2022-06-14T14:38:41.078315Z",
     "shell.execute_reply": "2022-06-14T14:38:41.077222Z"
    },
    "papermill": {
     "duration": 0.705156,
     "end_time": "2022-06-14T14:38:41.080753",
     "exception": false,
     "start_time": "2022-06-14T14:38:40.375597",
     "status": "completed"
    },
    "tags": []
   },
   "outputs": [
    {
     "data": {
      "image/png": "[encoded data removed]",
      "text/plain": [
       "<Figure size 432x576 with 1 Axes>"
      ]
     },
     "metadata": {
      "needs_background": "light"
     },
     "output_type": "display_data"
    }
   ],
   "source": [
    "# plot loss\n",
    "plt.figure(figsize=(6, 8))\n",
    "plt.plot(range(history['epochs']), history['train_loss'], label='Train Loss')\n",
    "plt.plot(range(history['epochs']), history['val_loss'], label='Val Loss')\n",
    "plt.legend()\n",
    "plt.show()"
   ]
  },
  {
   "cell_type": "markdown",
   "id": "325dbb12",
   "metadata": {
    "papermill": {
     "duration": 0.413973,
     "end_time": "2022-06-14T14:38:41.866411",
     "exception": false,
     "start_time": "2022-06-14T14:38:41.452438",
     "status": "completed"
    },
    "tags": []
   },
   "source": [
    "So, as we can see from both graph above we can conclude that our model is tend to overfitting. As you can see, the validation loss start to increasing after 4th epochs, and the validation accuracy also didn't improved significantly anymore after 4th epochs.\n",
    "<br><br>\n",
    "Now let's see how is our model performance on predicting unseen data!"
   ]
  },
  {
   "cell_type": "markdown",
   "id": "d66a0496",
   "metadata": {
    "papermill": {
     "duration": 0.367705,
     "end_time": "2022-06-14T14:38:42.605373",
     "exception": false,
     "start_time": "2022-06-14T14:38:42.237668",
     "status": "completed"
    },
    "tags": []
   },
   "source": [
    "## Inference"
   ]
  },
  {
   "cell_type": "markdown",
   "id": "cf62f4de",
   "metadata": {
    "papermill": {
     "duration": 0.367667,
     "end_time": "2022-06-14T14:38:43.338121",
     "exception": false,
     "start_time": "2022-06-14T14:38:42.970454",
     "status": "completed"
    },
    "tags": []
   },
   "source": [
    "Here we want to see our model performance on predicting unseen data, that is test set. The loop is quite similar with train loop, but we won't perform any backpropagation here. And also, we turned off the gradient by calling `torch.no_grad()` to keep some memory allocation and speeding up inference process."
   ]
  },
  {
   "cell_type": "code",
   "execution_count": 32,
   "id": "0eac45ad",
   "metadata": {
    "execution": {
     "iopub.execute_input": "2022-06-14T14:38:44.114762Z",
     "iopub.status.busy": "2022-06-14T14:38:44.114369Z",
     "iopub.status.idle": "2022-06-14T14:38:46.905826Z",
     "shell.execute_reply": "2022-06-14T14:38:46.904560Z"
    },
    "papermill": {
     "duration": 3.160795,
     "end_time": "2022-06-14T14:38:46.910707",
     "exception": false,
     "start_time": "2022-06-14T14:38:43.749912",
     "status": "completed"
    },
    "tags": []
   },
   "outputs": [
    {
     "name": "stderr",
     "output_type": "stream",
     "text": [
      "Inference: 100%|██████████| 59/59 [00:02<00:00, 21.25it/s]"
     ]
    },
    {
     "name": "stdout",
     "output_type": "stream",
     "text": [
      "Accuracy: 0.8634, Loss: 0.3670\n"
     ]
    },
    {
     "name": "stderr",
     "output_type": "stream",
     "text": [
      "\n"
     ]
    }
   ],
   "source": [
    "# test loop\n",
    "model.eval()\n",
    "\n",
    "# metrics\n",
    "test_loss = 0\n",
    "test_acc = 0\n",
    "\n",
    "all_target = []\n",
    "all_predicted = []\n",
    "\n",
    "testloop = tqdm(testloader, leave=True, desc='Inference')\n",
    "with torch.no_grad():\n",
    "    for feature, target in testloop:\n",
    "        feature, target = feature.to(device), target.to(device)\n",
    "\n",
    "        out = model(feature)\n",
    "        \n",
    "        predicted = torch.tensor([1 if i == True else 0 for i in out > 0.5], device=device)\n",
    "        equals = predicted == target\n",
    "        acc = torch.mean(equals.type(torch.FloatTensor))\n",
    "        test_acc += acc.item()\n",
    "\n",
    "        loss = criterion(out.squeeze(), target.float())\n",
    "        test_loss += loss.item()\n",
    "\n",
    "        all_target.extend(target.cpu().numpy())\n",
    "        all_predicted.extend(predicted.cpu().numpy())\n",
    "\n",
    "    print(f'Accuracy: {test_acc/len(testloader):.4f}, Loss: {test_loss/len(testloader):.4f}')"
   ]
  },
  {
   "cell_type": "markdown",
   "id": "3121a804",
   "metadata": {
    "papermill": {
     "duration": 0.370631,
     "end_time": "2022-06-14T14:38:47.651043",
     "exception": false,
     "start_time": "2022-06-14T14:38:47.280412",
     "status": "completed"
    },
    "tags": []
   },
   "source": [
    "Surprisingly, our model accuracy on test data is quite good! It could predict unseen data `86.03%` correctly.\n",
    "<br><br>\n",
    "Nevertheless, we still have an overfitting issue that we need to solve in the future."
   ]
  },
  {
   "cell_type": "markdown",
   "id": "e87ca367",
   "metadata": {
    "papermill": {
     "duration": 0.412345,
     "end_time": "2022-06-14T14:38:48.430981",
     "exception": false,
     "start_time": "2022-06-14T14:38:48.018636",
     "status": "completed"
    },
    "tags": []
   },
   "source": [
    "## Evaluation Metrics"
   ]
  },
  {
   "cell_type": "code",
   "execution_count": 33,
   "id": "ca3916f2",
   "metadata": {
    "execution": {
     "iopub.execute_input": "2022-06-14T14:38:49.186835Z",
     "iopub.status.busy": "2022-06-14T14:38:49.186432Z",
     "iopub.status.idle": "2022-06-14T14:38:49.211589Z",
     "shell.execute_reply": "2022-06-14T14:38:49.210248Z"
    },
    "papermill": {
     "duration": 0.417579,
     "end_time": "2022-06-14T14:38:49.214552",
     "exception": false,
     "start_time": "2022-06-14T14:38:48.796973",
     "status": "completed"
    },
    "tags": []
   },
   "outputs": [
    {
     "name": "stdout",
     "output_type": "stream",
     "text": [
      "              precision    recall  f1-score   support\n",
      "\n",
      "           0       0.84      0.88      0.86      3538\n",
      "           1       0.89      0.85      0.87      3962\n",
      "\n",
      "    accuracy                           0.86      7500\n",
      "   macro avg       0.86      0.86      0.86      7500\n",
      "weighted avg       0.87      0.86      0.86      7500\n",
      "\n"
     ]
    }
   ],
   "source": [
    "print(classification_report(all_predicted, all_target))"
   ]
  },
  {
   "cell_type": "code",
   "execution_count": 34,
   "id": "cbc6b630",
   "metadata": {
    "execution": {
     "iopub.execute_input": "2022-06-14T14:38:49.967583Z",
     "iopub.status.busy": "2022-06-14T14:38:49.967141Z",
     "iopub.status.idle": "2022-06-14T14:38:50.215254Z",
     "shell.execute_reply": "2022-06-14T14:38:50.214108Z"
    },
    "papermill": {
     "duration": 0.637266,
     "end_time": "2022-06-14T14:38:50.217607",
     "exception": false,
     "start_time": "2022-06-14T14:38:49.580341",
     "status": "completed"
    },
    "tags": []
   },
   "outputs": [
    {
     "data": {
      "image/png": "[encoded data removed]",
      "text/plain": [
       "<Figure size 360x360 with 2 Axes>"
      ]
     },
     "metadata": {
      "needs_background": "light"
     },
     "output_type": "display_data"
    }
   ],
   "source": [
    "cm = confusion_matrix(all_predicted, all_target)\n",
    "plt.figure(figsize=(5,5))\n",
    "sns.heatmap(cm, annot=True, fmt='g')\n",
    "plt.title('Confusion Matrix')\n",
    "plt.show()"
   ]
  },
  {
   "cell_type": "markdown",
   "id": "0cc5197b",
   "metadata": {
    "papermill": {
     "duration": 0.487829,
     "end_time": "2022-06-14T14:38:51.074173",
     "exception": false,
     "start_time": "2022-06-14T14:38:50.586344",
     "status": "completed"
    },
    "tags": []
   },
   "source": [
    "According to the classification report it can be seen that our accuracy is not tends to specific class. And the confusion matrix also shown that there is no big difference between misclassified positive and negative reviews. This may happens because we have a balance datasets."
   ]
  },
  {
   "cell_type": "markdown",
   "id": "ae23fba8",
   "metadata": {
    "papermill": {
     "duration": 0.374847,
     "end_time": "2022-06-14T14:38:52.036096",
     "exception": false,
     "start_time": "2022-06-14T14:38:51.661249",
     "status": "completed"
    },
    "tags": []
   },
   "source": [
    "## Conclusion\n",
    "To sum up, here what we did along the project:\n",
    "- We taken IMDB movie review from kaggle consist of 50K positive and negative reviews and fortunately it has balance dataset.\n",
    "- We transform our label into 1 and 0 for positive and negative class respectively\n",
    "- We create our own cleaning and preprocessing script\n",
    "- Then we built vocabulary, encoding all reviews, add padding/trimming mechanism, making train test and validation set, create dataloader to make batches data\n",
    "- We built our model architecture, defining hyperparameters, writing training and validation loop, and we plot our loss and accuracies.\n",
    "- Then we do inference on test data, and surprisingly it still has a quite good performance with accuracy ~86%\n",
    "- Finally, we see our model evaluation using various metrics and plotting confusion matrix which showing that our model could classify most data correctly and not tends to specific class as we have balanced dataset."
   ]
  },
  {
   "cell_type": "markdown",
   "id": "c4328bd0",
   "metadata": {
    "papermill": {
     "duration": 0.373634,
     "end_time": "2022-06-14T14:38:52.778079",
     "exception": false,
     "start_time": "2022-06-14T14:38:52.404445",
     "status": "completed"
    },
    "tags": []
   },
   "source": [
    "### References:\n",
    "- [Udacity - Introduction to PyTorch](https://classroom.udacity.com/courses/ud188)\n",
    "- [The Unreasonable Effectiveness of RNNs by Andrej Karpathy](http://karpathy.github.io/2015/05/21/rnn-effectiveness/)\n",
    "- [PyTorch Name Classification project](https://github.com/python-engineer/pytorch-examples/tree/master/rnn-name-classification)\n",
    "- [My exploration project in RNNs](https://github.com/fhrzn/all-about-rnn)"
   ]
  },
  {
   "cell_type": "markdown",
   "id": "faacc7fc",
   "metadata": {
    "papermill": {
     "duration": 0.41096,
     "end_time": "2022-06-14T14:38:53.556057",
     "exception": false,
     "start_time": "2022-06-14T14:38:53.145097",
     "status": "completed"
    },
    "tags": []
   },
   "source": [
    "<hr>"
   ]
  },
  {
   "cell_type": "markdown",
   "id": "8c8160ba",
   "metadata": {
    "papermill": {
     "duration": 0.369111,
     "end_time": "2022-06-14T14:38:54.293967",
     "exception": false,
     "start_time": "2022-06-14T14:38:53.924856",
     "status": "completed"
    },
    "tags": []
   },
   "source": [
    "## Thank you for reading! Спасибо! 🙇‍♂️\n",
    "```Made with effort by Affandy Fahrizain```\n",
    "\n",
    "My other projects:\n",
    "- Github - [https://github.com/fhrzn/all-about-rnn](https://github.com/fhrzn/all-about-rnn)\n",
    "\n",
    "For further discussion, don't hesitate to catch me up at:\n",
    "- Gmail - [fahri.lafa@gmail.com](mailto:fahri.lafa@gmail.com)\n",
    "- Linkedin - [linkedin.com/in/fahrizainn](linkedin.com/in/fahrizainn)"
   ]
  }
 ],
 "metadata": {
  "kernelspec": {
   "display_name": "Python 3",
   "language": "python",
   "name": "python3"
  },
  "language_info": {
   "codemirror_mode": {
    "name": "ipython",
    "version": 3
   },
   "file_extension": ".py",
   "mimetype": "text/x-python",
   "name": "python",
   "nbconvert_exporter": "python",
   "pygments_lexer": "ipython3",
   "version": "3.7.12"
  },
  "papermill": {
   "default_parameters": {},
   "duration": 676.339462,
   "end_time": "2022-06-14T14:38:57.651789",
   "environment_variables": {},
   "exception": null,
   "input_path": "__notebook__.ipynb",
   "output_path": "__notebook__.ipynb",
   "parameters": {},
   "start_time": "2022-06-14T14:27:41.312327",
   "version": "2.3.4"
  }
 },
 "nbformat": 4,
 "nbformat_minor": 5
}
