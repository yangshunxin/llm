{
 "cells": [
  {
   "cell_type": "markdown",
   "id": "26256410",
   "metadata": {
    "papermill": {
     "duration": 0.0433,
     "end_time": "2021-12-15T10:59:45.254762",
     "exception": false,
     "start_time": "2021-12-15T10:59:45.211462",
     "status": "completed"
    },
    "tags": []
   },
   "source": [
    "# Heart Failure Prediction\n",
    "This is my first individual machine learning project for university assignments. I hope it is useful for beginners who have just started to learn machine learning. The techiniques used in this project include as follows:\n",
    "* Supervised Learning (Classification)\n",
    " 1. Decision Tree\n",
    " 2. Random Forest\n",
    " 3. Support Vector Machine\n",
    "* Unsupervised Learning\n",
    " 1. Principal Component Analysis (PCA) \n",
    " 2. K-Means\n",
    "\n",
    "Please do not copy my code for your assignments, you will learning nothing from this action."
   ]
  },
  {
   "cell_type": "markdown",
   "id": "2f66de59",
   "metadata": {
    "papermill": {
     "duration": 0.041648,
     "end_time": "2021-12-15T10:59:45.340340",
     "exception": false,
     "start_time": "2021-12-15T10:59:45.298692",
     "status": "completed"
    },
    "tags": []
   },
   "source": [
    "# 1. 数据分析和可视化\n",
    "\n",
    "数据集包含来自巴基斯坦费萨拉巴德心脏病学院和联合医院收集的299名心脏衰竭患者的医疗记录。数据集包含13个特征，涉及身体、临床和生活方式信息，这些特征可以分为两类数据类型：二进制和非二进制数据类型。二进制特征只包含0（无）和1（有）两个值，而非二进制特征是任何实数。`DEATH_EVENT`特征是分类算法的标签（输出）。\n",
    "\n",
    "特征定义如下表所示。\n",
    "\n",
    "\n",
    "| Features      | Explanation | Data Type\n",
    "| ------------- | ----------- | -----\n",
    "| age           | Age of the patient | Any number\n",
    "| anaemia       | If a patient has a low level of red blood cells | 0 and 1\n",
    "| creatinine_phosphokinase | Level of this enzyme in the blood  | Any number\n",
    "| diabetes      | If a the patient has diabetes | 0 and 1\n",
    "| ejection_fraction  | Percentage of blood pumped out of the heart during a single contraction | Any number\n",
    "| high_blood_pressure | If a patient has a high blood pressure | 0 and 1\n",
    "| platelets     | Platelets in the blood | Any number\n",
    "| serum_creatinine | Level of creatinine in the blood | Any number\n",
    "| serum_sodium | Level of creatinine in the blood | Any number\n",
    "| sex | Female and Male | 0 (Female) and 1 (Male)\n",
    "| smoking | If a patient smokes | 0 and 1\n",
    "| time | Follow-up period (Days) | Any number\n",
    "| DEATH_EVENT | If a patient died before the end of the follow-up period | 0 and 1creatinine_phosphokinase "
   ]
  },
  {
   "cell_type": "markdown",
   "id": "1e25b952",
   "metadata": {
    "papermill": {
     "duration": 0.043078,
     "end_time": "2021-12-15T10:59:45.425432",
     "exception": false,
     "start_time": "2021-12-15T10:59:45.382354",
     "status": "completed"
    },
    "tags": []
   },
   "source": [
    "为了从数据集中发现更多信息，我们将执行一些数据分析，以可视化特征（自变量）与`DEATH_EVENT`之间的关系。在第1.1-1.3节，我们首先导入相关的Python包并将数据集加载到这个笔记本中。\n",
    "\n",
    "以下是进行这些分析的Python代码示例："
   ]
  },
  {
   "cell_type": "code",
   "execution_count": 9,
   "id": "99abf6ed",
   "metadata": {
    "papermill": {
     "duration": 1.40361,
     "end_time": "2021-12-15T10:59:46.870592",
     "exception": false,
     "start_time": "2021-12-15T10:59:45.466982",
     "status": "completed"
    },
    "tags": []
   },
   "outputs": [
    {
     "data": {
      "text/html": [
       "<div>\n",
       "<style scoped>\n",
       "    .dataframe tbody tr th:only-of-type {\n",
       "        vertical-align: middle;\n",
       "    }\n",
       "\n",
       "    .dataframe tbody tr th {\n",
       "        vertical-align: top;\n",
       "    }\n",
       "\n",
       "    .dataframe thead th {\n",
       "        text-align: right;\n",
       "    }\n",
       "</style>\n",
       "<table border=\"1\" class=\"dataframe\">\n",
       "  <thead>\n",
       "    <tr style=\"text-align: right;\">\n",
       "      <th></th>\n",
       "      <th>age</th>\n",
       "      <th>anaemia</th>\n",
       "      <th>creatinine_phosphokinase</th>\n",
       "      <th>diabetes</th>\n",
       "      <th>ejection_fraction</th>\n",
       "      <th>high_blood_pressure</th>\n",
       "      <th>platelets</th>\n",
       "      <th>serum_creatinine</th>\n",
       "      <th>serum_sodium</th>\n",
       "      <th>sex</th>\n",
       "      <th>smoking</th>\n",
       "      <th>time</th>\n",
       "      <th>DEATH_EVENT</th>\n",
       "    </tr>\n",
       "  </thead>\n",
       "  <tbody>\n",
       "    <tr>\n",
       "      <th>0</th>\n",
       "      <td>75.0</td>\n",
       "      <td>0</td>\n",
       "      <td>582</td>\n",
       "      <td>0</td>\n",
       "      <td>20</td>\n",
       "      <td>1</td>\n",
       "      <td>265000.00</td>\n",
       "      <td>1.9</td>\n",
       "      <td>130</td>\n",
       "      <td>1</td>\n",
       "      <td>0</td>\n",
       "      <td>4</td>\n",
       "      <td>1</td>\n",
       "    </tr>\n",
       "    <tr>\n",
       "      <th>1</th>\n",
       "      <td>55.0</td>\n",
       "      <td>0</td>\n",
       "      <td>7861</td>\n",
       "      <td>0</td>\n",
       "      <td>38</td>\n",
       "      <td>0</td>\n",
       "      <td>263358.03</td>\n",
       "      <td>1.1</td>\n",
       "      <td>136</td>\n",
       "      <td>1</td>\n",
       "      <td>0</td>\n",
       "      <td>6</td>\n",
       "      <td>1</td>\n",
       "    </tr>\n",
       "    <tr>\n",
       "      <th>2</th>\n",
       "      <td>65.0</td>\n",
       "      <td>0</td>\n",
       "      <td>146</td>\n",
       "      <td>0</td>\n",
       "      <td>20</td>\n",
       "      <td>0</td>\n",
       "      <td>162000.00</td>\n",
       "      <td>1.3</td>\n",
       "      <td>129</td>\n",
       "      <td>1</td>\n",
       "      <td>1</td>\n",
       "      <td>7</td>\n",
       "      <td>1</td>\n",
       "    </tr>\n",
       "    <tr>\n",
       "      <th>3</th>\n",
       "      <td>50.0</td>\n",
       "      <td>1</td>\n",
       "      <td>111</td>\n",
       "      <td>0</td>\n",
       "      <td>20</td>\n",
       "      <td>0</td>\n",
       "      <td>210000.00</td>\n",
       "      <td>1.9</td>\n",
       "      <td>137</td>\n",
       "      <td>1</td>\n",
       "      <td>0</td>\n",
       "      <td>7</td>\n",
       "      <td>1</td>\n",
       "    </tr>\n",
       "    <tr>\n",
       "      <th>4</th>\n",
       "      <td>65.0</td>\n",
       "      <td>1</td>\n",
       "      <td>160</td>\n",
       "      <td>1</td>\n",
       "      <td>20</td>\n",
       "      <td>0</td>\n",
       "      <td>327000.00</td>\n",
       "      <td>2.7</td>\n",
       "      <td>116</td>\n",
       "      <td>0</td>\n",
       "      <td>0</td>\n",
       "      <td>8</td>\n",
       "      <td>1</td>\n",
       "    </tr>\n",
       "  </tbody>\n",
       "</table>\n",
       "</div>"
      ],
      "text/plain": [
       "    age  anaemia  creatinine_phosphokinase  diabetes  ejection_fraction  \\\n",
       "0  75.0        0                       582         0                 20   \n",
       "1  55.0        0                      7861         0                 38   \n",
       "2  65.0        0                       146         0                 20   \n",
       "3  50.0        1                       111         0                 20   \n",
       "4  65.0        1                       160         1                 20   \n",
       "\n",
       "   high_blood_pressure  platelets  serum_creatinine  serum_sodium  sex  \\\n",
       "0                    1  265000.00               1.9           130    1   \n",
       "1                    0  263358.03               1.1           136    1   \n",
       "2                    0  162000.00               1.3           129    1   \n",
       "3                    0  210000.00               1.9           137    1   \n",
       "4                    0  327000.00               2.7           116    0   \n",
       "\n",
       "   smoking  time  DEATH_EVENT  \n",
       "0        0     4            1  \n",
       "1        0     6            1  \n",
       "2        1     7            1  \n",
       "3        0     7            1  \n",
       "4        0     8            1  "
      ]
     },
     "execution_count": 9,
     "metadata": {},
     "output_type": "execute_result"
    }
   ],
   "source": [
    "import pandas as pd\n",
    "import numpy as np\n",
    "import matplotlib.pyplot as plt\n",
    "import seaborn as sns\n",
    "from sklearn import metrics\n",
    "from sklearn.model_selection import train_test_split, cross_val_score, GridSearchCV\n",
    "from pandas.plotting import scatter_matrix\n",
    "\n",
    "data = pd.read_csv('heart_failure_clinical_records_dataset.csv')#dataframe\n",
    "data.head()"
   ]
  },
  {
   "cell_type": "markdown",
   "id": "8c3655e8",
   "metadata": {
    "papermill": {
     "duration": 0.043061,
     "end_time": "2021-12-15T10:59:46.958031",
     "exception": false,
     "start_time": "2021-12-15T10:59:46.914970",
     "status": "completed"
    },
    "tags": []
   },
   "source": [
    "## 1.1 Age and Death\n",
    "下面的箱线图展示了年龄与死亡之间的关系。总体来看，死亡患者的年龄普遍高于存活患者。存活患者的平均年龄对于两性来说大约是60岁，而死亡的男性患者的平均年龄是65岁，高于死亡的女性患者的60岁。\n",
    "\n",
    "为了创建这样的箱线图，你可以使用Matplotlib或Seaborn库。这里是一个如何用Python实现的示例代码："
   ]
  },
  {
   "cell_type": "code",
   "execution_count": 10,
   "id": "5515c446",
   "metadata": {
    "papermill": {
     "duration": 0.454593,
     "end_time": "2021-12-15T10:59:47.456234",
     "exception": false,
     "start_time": "2021-12-15T10:59:47.001641",
     "status": "completed"
    },
    "scrolled": true,
    "tags": []
   },
   "outputs": [
    {
     "name": "stdout",
     "output_type": "stream",
     "text": [
      "58.761906403940884\n"
     ]
    },
    {
     "name": "stderr",
     "output_type": "stream",
     "text": [
      "/tmp/ipykernel_4021869/3837236077.py:6: UserWarning: The palette list has more values (10) than needed (2), which may not be intended.\n",
      "  sns.boxplot(data = data, x = 'DEATH_EVENT', y = 'age', hue = 'sex', width = 0.4, ax = ax, fliersize = 3, palette=sns.color_palette(\"pastel\"))\n",
      "/tmp/ipykernel_4021869/3837236077.py:7: UserWarning: The palette list has more values (10) than needed (2), which may not be intended.\n",
      "  sns.stripplot(data = data, x = 'DEATH_EVENT', y = 'age', hue = 'sex', size = 3, palette=sns.color_palette())\n"
     ]
    },
    {
     "data": {
      "image/png": "[encoded data removed]",
      "text/plain": [
       "<Figure size 800x800 with 1 Axes>"
      ]
     },
     "metadata": {},
     "output_type": "display_data"
    }
   ],
   "source": [
    "fig, ax = plt.subplots(figsize = (8, 8))\n",
    "survive = data.loc[(data.DEATH_EVENT == 0)].age\n",
    "death = data.loc[(data.DEATH_EVENT == 1)].age\n",
    "print(survive.mean())\n",
    "\n",
    "sns.boxplot(data = data, x = 'DEATH_EVENT', y = 'age', hue = 'sex', width = 0.4, ax = ax, fliersize = 3, palette=sns.color_palette(\"pastel\"))\n",
    "sns.stripplot(data = data, x = 'DEATH_EVENT', y = 'age', hue = 'sex', size = 3, palette=sns.color_palette())\n",
    "ax.set(xlabel = 'DEATH', ylabel=\"age\", title='The relationship between age and death')\n",
    "plt.show()"
   ]
  },
  {
   "cell_type": "markdown",
   "id": "5b933d53",
   "metadata": {
    "papermill": {
     "duration": 0.044087,
     "end_time": "2021-12-15T10:59:47.544713",
     "exception": false,
     "start_time": "2021-12-15T10:59:47.500626",
     "status": "completed"
    },
    "tags": []
   },
   "source": [
    "## 1.2 Ejection Fraction/Serum Cretinine and Death （射血分数/血清肌酐与死亡）\n",
    "\n",
    "小提琴图展示了ejection_fraction（左侧）/serum_creatinine（右侧）与死亡的关系。在左侧图中，存活和死亡患者之间的ejection_fraction存在显著差异。心脏泵出血液的百分比较低的患者往往死亡，而ejection_fraction超过35的大部分患者则存活下来。另一方面，右侧图表显示，两种患者之间的serum_creatinine水平没有显著差异。\n",
    "\n",
    "小提琴图展示了ejection_fraction（左侧）/serum_creatinine（右侧）与死亡的关系。在左侧图中，存活和死亡患者之间的ejection_fraction存在显著差异。心脏泵出血液的百分比较低的患者往往死亡，而ejection_fraction超过35的大部分患者则存活下来。另一方面，右侧图表显示，两种患者之间的serum_creatinine水平没有显著差异。"
   ]
  },
  {
   "cell_type": "code",
   "execution_count": 11,
   "id": "a4f942cf",
   "metadata": {
    "papermill": {
     "duration": 0.435333,
     "end_time": "2021-12-15T10:59:48.025410",
     "exception": false,
     "start_time": "2021-12-15T10:59:47.590077",
     "status": "completed"
    },
    "tags": []
   },
   "outputs": [
    {
     "name": "stderr",
     "output_type": "stream",
     "text": [
      "/tmp/ipykernel_4021869/3480697146.py:2: FutureWarning: \n",
      "\n",
      "Passing `palette` without assigning `hue` is deprecated and will be removed in v0.14.0. Assign the `x` variable to `hue` and set `legend=False` for the same effect.\n",
      "\n",
      "  sns.violinplot(data=data, x='DEATH_EVENT', y='ejection_fraction', ax=ax[0], palette=sns.color_palette('Set2'))\n",
      "/tmp/ipykernel_4021869/3480697146.py:2: UserWarning: The palette list has more values (8) than needed (2), which may not be intended.\n",
      "  sns.violinplot(data=data, x='DEATH_EVENT', y='ejection_fraction', ax=ax[0], palette=sns.color_palette('Set2'))\n",
      "/tmp/ipykernel_4021869/3480697146.py:3: FutureWarning: \n",
      "\n",
      "Passing `palette` without assigning `hue` is deprecated and will be removed in v0.14.0. Assign the `x` variable to `hue` and set `legend=False` for the same effect.\n",
      "\n",
      "  sns.violinplot(data=data, x='DEATH_EVENT', y='serum_creatinine', ax=ax[1], palette=sns.color_palette('Set2'))\n",
      "/tmp/ipykernel_4021869/3480697146.py:3: UserWarning: The palette list has more values (8) than needed (2), which may not be intended.\n",
      "  sns.violinplot(data=data, x='DEATH_EVENT', y='serum_creatinine', ax=ax[1], palette=sns.color_palette('Set2'))\n"
     ]
    },
    {
     "data": {
      "text/plain": [
       "<Axes: xlabel='DEATH_EVENT', ylabel='serum_creatinine'>"
      ]
     },
     "execution_count": 11,
     "metadata": {},
     "output_type": "execute_result"
    },
    {
     "data": {
      "image/png": "[encoded data removed]",
      "text/plain": [
       "<Figure size 1500x500 with 2 Axes>"
      ]
     },
     "metadata": {},
     "output_type": "display_data"
    }
   ],
   "source": [
    "fig, ax = plt.subplots(ncols=2, figsize = (15, 5))\n",
    "sns.violinplot(data=data, x='DEATH_EVENT', y='ejection_fraction', ax=ax[0], palette=sns.color_palette('Set2'))\n",
    "sns.violinplot(data=data, x='DEATH_EVENT', y='serum_creatinine', ax=ax[1], palette=sns.color_palette('Set2'))"
   ]
  },
  {
   "cell_type": "markdown",
   "id": "2fea3540",
   "metadata": {
    "papermill": {
     "duration": 0.047679,
     "end_time": "2021-12-15T10:59:48.122719",
     "exception": false,
     "start_time": "2021-12-15T10:59:48.075040",
     "status": "completed"
    },
    "tags": []
   },
   "source": [
    "## 1.3 数据关联\n",
    "下面的数字是特征与DEATH_EVENT之间的相关性。接近1.0和-1.0的相关性分别表示变量是正相关和负相关的。接近0的相关性表示关联较小\n",
    "* `serum_creatinine`和`age`分别为0.29和0.25，表明它们是正相关且相关性较高\n",
    "* `time` 和 `ejection_fraction`分别为-0.53和-0.27，表明它们是负相关且相关性较高"
   ]
  },
  {
   "cell_type": "code",
   "execution_count": 12,
   "id": "7a15ea65",
   "metadata": {
    "papermill": {
     "duration": 0.058276,
     "end_time": "2021-12-15T10:59:48.227182",
     "exception": false,
     "start_time": "2021-12-15T10:59:48.168906",
     "status": "completed"
    },
    "tags": []
   },
   "outputs": [
    {
     "data": {
      "text/plain": [
       "DEATH_EVENT                 1.000000\n",
       "serum_creatinine            0.294278\n",
       "age                         0.253729\n",
       "high_blood_pressure         0.079351\n",
       "anaemia                     0.066270\n",
       "creatinine_phosphokinase    0.062728\n",
       "diabetes                   -0.001943\n",
       "sex                        -0.004316\n",
       "smoking                    -0.012623\n",
       "platelets                  -0.049139\n",
       "serum_sodium               -0.195204\n",
       "ejection_fraction          -0.268603\n",
       "time                       -0.526964\n",
       "Name: DEATH_EVENT, dtype: float64"
      ]
     },
     "execution_count": 12,
     "metadata": {},
     "output_type": "execute_result"
    }
   ],
   "source": [
    "corr_matrix = data.corr()\n",
    "corr_matrix['DEATH_EVENT'].sort_values(ascending=False)"
   ]
  },
  {
   "cell_type": "markdown",
   "id": "aca2501e",
   "metadata": {
    "papermill": {
     "duration": 0.046075,
     "end_time": "2021-12-15T10:59:48.319308",
     "exception": false,
     "start_time": "2021-12-15T10:59:48.273233",
     "status": "completed"
    },
    "tags": []
   },
   "source": [
    "# 2. 数据预备\n",
    "在这一部分，我们将准备数据集，以便机器学习算法执行预测\n",
    "\n",
    "## 2.1. 数据清洗\n",
    "\n",
    "数据清洗是准备数据集的第一步，确保在应用过程中不会出现缺失值，因为大多数机器学习算法无法处理缺失的特征。处理缺失值的两种常见方法如下：\n",
    "\n",
    "* 使用 dropna() 删除带有缺失值的数据。\n",
    "* 使用 fillna() 填充缺失值。\n",
    "\n",
    "要检查数据集是否包含缺失值或空值（NaN），我们可以使用 data.info() 或 data.isnull().sum() 来查看每个特征的空值数量。data.info() 显示有299条记录（行）和13个特征（列）。每个特征包含299个非空值。同样，data.isnull().sum() 计算空值的总数，每个特征的空值数为0。因此，由于这个数据集构建得很好，我们不需要进行数据清洗。"
   ]
  },
  {
   "cell_type": "code",
   "execution_count": 13,
   "id": "117fea3a",
   "metadata": {
    "papermill": {
     "duration": 0.071328,
     "end_time": "2021-12-15T10:59:48.436812",
     "exception": false,
     "start_time": "2021-12-15T10:59:48.365484",
     "status": "completed"
    },
    "tags": []
   },
   "outputs": [
    {
     "name": "stdout",
     "output_type": "stream",
     "text": [
      "<class 'pandas.core.frame.DataFrame'>\n",
      "RangeIndex: 299 entries, 0 to 298\n",
      "Data columns (total 13 columns):\n",
      " #   Column                    Non-Null Count  Dtype  \n",
      "---  ------                    --------------  -----  \n",
      " 0   age                       299 non-null    float64\n",
      " 1   anaemia                   299 non-null    int64  \n",
      " 2   creatinine_phosphokinase  299 non-null    int64  \n",
      " 3   diabetes                  299 non-null    int64  \n",
      " 4   ejection_fraction         299 non-null    int64  \n",
      " 5   high_blood_pressure       299 non-null    int64  \n",
      " 6   platelets                 299 non-null    float64\n",
      " 7   serum_creatinine          299 non-null    float64\n",
      " 8   serum_sodium              299 non-null    int64  \n",
      " 9   sex                       299 non-null    int64  \n",
      " 10  smoking                   299 non-null    int64  \n",
      " 11  time                      299 non-null    int64  \n",
      " 12  DEATH_EVENT               299 non-null    int64  \n",
      "dtypes: float64(3), int64(10)\n",
      "memory usage: 30.5 KB\n"
     ]
    },
    {
     "data": {
      "text/plain": [
       "age                         0\n",
       "anaemia                     0\n",
       "creatinine_phosphokinase    0\n",
       "diabetes                    0\n",
       "ejection_fraction           0\n",
       "high_blood_pressure         0\n",
       "platelets                   0\n",
       "serum_creatinine            0\n",
       "serum_sodium                0\n",
       "sex                         0\n",
       "smoking                     0\n",
       "time                        0\n",
       "DEATH_EVENT                 0\n",
       "dtype: int64"
      ]
     },
     "execution_count": 13,
     "metadata": {},
     "output_type": "execute_result"
    }
   ],
   "source": [
    "data.info()\n",
    "data.isnull().sum()"
   ]
  },
  {
   "cell_type": "markdown",
   "id": "6838de34",
   "metadata": {
    "papermill": {
     "duration": 0.046992,
     "end_time": "2021-12-15T10:59:48.532070",
     "exception": false,
     "start_time": "2021-12-15T10:59:48.485078",
     "status": "completed"
    },
    "tags": []
   },
   "source": [
    "## 2.2 特征缩放\n",
    "\n",
    "\n",
    "特征缩放是在构建机器学习模型之前，将数据缩放到标准范围的一种预处理方法。如果不进行特征缩放，一个数值较大的显著数值可能会因其大的量级影响模型，导致模型在学习过程中表现不佳。\n",
    "\n",
    "\n",
    "### 2.2.1 二进制与非二进制数据\n",
    "如第1节所述，数据集包含二进制和非二进制值。我们现在将二进制称为discrete_features，非二进制称为continuous_features。discrete_features的标准差已经很小，范围在0和1之间，所以我们不需要对它们进行缩放。与continuous_features不同，其标准差从1.03变化到97,804。因此，我们必须对这些特征进行缩放。在执行特征缩放之前，我们按如下方式对特征进行分类。"
   ]
  },
  {
   "cell_type": "code",
   "execution_count": 14,
   "id": "e853d180",
   "metadata": {
    "papermill": {
     "duration": 0.096714,
     "end_time": "2021-12-15T10:59:48.676302",
     "exception": false,
     "start_time": "2021-12-15T10:59:48.579588",
     "status": "completed"
    },
    "tags": []
   },
   "outputs": [
    {
     "data": {
      "text/html": [
       "<div>\n",
       "<style scoped>\n",
       "    .dataframe tbody tr th:only-of-type {\n",
       "        vertical-align: middle;\n",
       "    }\n",
       "\n",
       "    .dataframe tbody tr th {\n",
       "        vertical-align: top;\n",
       "    }\n",
       "\n",
       "    .dataframe thead th {\n",
       "        text-align: right;\n",
       "    }\n",
       "</style>\n",
       "<table border=\"1\" class=\"dataframe\">\n",
       "  <thead>\n",
       "    <tr style=\"text-align: right;\">\n",
       "      <th></th>\n",
       "      <th>age</th>\n",
       "      <th>anaemia</th>\n",
       "      <th>creatinine_phosphokinase</th>\n",
       "      <th>diabetes</th>\n",
       "      <th>ejection_fraction</th>\n",
       "      <th>high_blood_pressure</th>\n",
       "      <th>platelets</th>\n",
       "      <th>serum_creatinine</th>\n",
       "      <th>serum_sodium</th>\n",
       "      <th>sex</th>\n",
       "      <th>smoking</th>\n",
       "      <th>time</th>\n",
       "      <th>DEATH_EVENT</th>\n",
       "    </tr>\n",
       "  </thead>\n",
       "  <tbody>\n",
       "    <tr>\n",
       "      <th>count</th>\n",
       "      <td>299.000000</td>\n",
       "      <td>299.000000</td>\n",
       "      <td>299.000000</td>\n",
       "      <td>299.000000</td>\n",
       "      <td>299.000000</td>\n",
       "      <td>299.000000</td>\n",
       "      <td>299.000000</td>\n",
       "      <td>299.00000</td>\n",
       "      <td>299.000000</td>\n",
       "      <td>299.000000</td>\n",
       "      <td>299.00000</td>\n",
       "      <td>299.000000</td>\n",
       "      <td>299.00000</td>\n",
       "    </tr>\n",
       "    <tr>\n",
       "      <th>mean</th>\n",
       "      <td>60.833893</td>\n",
       "      <td>0.431438</td>\n",
       "      <td>581.839465</td>\n",
       "      <td>0.418060</td>\n",
       "      <td>38.083612</td>\n",
       "      <td>0.351171</td>\n",
       "      <td>263358.029264</td>\n",
       "      <td>1.39388</td>\n",
       "      <td>136.625418</td>\n",
       "      <td>0.648829</td>\n",
       "      <td>0.32107</td>\n",
       "      <td>130.260870</td>\n",
       "      <td>0.32107</td>\n",
       "    </tr>\n",
       "    <tr>\n",
       "      <th>std</th>\n",
       "      <td>11.894809</td>\n",
       "      <td>0.496107</td>\n",
       "      <td>970.287881</td>\n",
       "      <td>0.494067</td>\n",
       "      <td>11.834841</td>\n",
       "      <td>0.478136</td>\n",
       "      <td>97804.236869</td>\n",
       "      <td>1.03451</td>\n",
       "      <td>4.412477</td>\n",
       "      <td>0.478136</td>\n",
       "      <td>0.46767</td>\n",
       "      <td>77.614208</td>\n",
       "      <td>0.46767</td>\n",
       "    </tr>\n",
       "    <tr>\n",
       "      <th>min</th>\n",
       "      <td>40.000000</td>\n",
       "      <td>0.000000</td>\n",
       "      <td>23.000000</td>\n",
       "      <td>0.000000</td>\n",
       "      <td>14.000000</td>\n",
       "      <td>0.000000</td>\n",
       "      <td>25100.000000</td>\n",
       "      <td>0.50000</td>\n",
       "      <td>113.000000</td>\n",
       "      <td>0.000000</td>\n",
       "      <td>0.00000</td>\n",
       "      <td>4.000000</td>\n",
       "      <td>0.00000</td>\n",
       "    </tr>\n",
       "    <tr>\n",
       "      <th>25%</th>\n",
       "      <td>51.000000</td>\n",
       "      <td>0.000000</td>\n",
       "      <td>116.500000</td>\n",
       "      <td>0.000000</td>\n",
       "      <td>30.000000</td>\n",
       "      <td>0.000000</td>\n",
       "      <td>212500.000000</td>\n",
       "      <td>0.90000</td>\n",
       "      <td>134.000000</td>\n",
       "      <td>0.000000</td>\n",
       "      <td>0.00000</td>\n",
       "      <td>73.000000</td>\n",
       "      <td>0.00000</td>\n",
       "    </tr>\n",
       "    <tr>\n",
       "      <th>50%</th>\n",
       "      <td>60.000000</td>\n",
       "      <td>0.000000</td>\n",
       "      <td>250.000000</td>\n",
       "      <td>0.000000</td>\n",
       "      <td>38.000000</td>\n",
       "      <td>0.000000</td>\n",
       "      <td>262000.000000</td>\n",
       "      <td>1.10000</td>\n",
       "      <td>137.000000</td>\n",
       "      <td>1.000000</td>\n",
       "      <td>0.00000</td>\n",
       "      <td>115.000000</td>\n",
       "      <td>0.00000</td>\n",
       "    </tr>\n",
       "    <tr>\n",
       "      <th>75%</th>\n",
       "      <td>70.000000</td>\n",
       "      <td>1.000000</td>\n",
       "      <td>582.000000</td>\n",
       "      <td>1.000000</td>\n",
       "      <td>45.000000</td>\n",
       "      <td>1.000000</td>\n",
       "      <td>303500.000000</td>\n",
       "      <td>1.40000</td>\n",
       "      <td>140.000000</td>\n",
       "      <td>1.000000</td>\n",
       "      <td>1.00000</td>\n",
       "      <td>203.000000</td>\n",
       "      <td>1.00000</td>\n",
       "    </tr>\n",
       "    <tr>\n",
       "      <th>max</th>\n",
       "      <td>95.000000</td>\n",
       "      <td>1.000000</td>\n",
       "      <td>7861.000000</td>\n",
       "      <td>1.000000</td>\n",
       "      <td>80.000000</td>\n",
       "      <td>1.000000</td>\n",
       "      <td>850000.000000</td>\n",
       "      <td>9.40000</td>\n",
       "      <td>148.000000</td>\n",
       "      <td>1.000000</td>\n",
       "      <td>1.00000</td>\n",
       "      <td>285.000000</td>\n",
       "      <td>1.00000</td>\n",
       "    </tr>\n",
       "  </tbody>\n",
       "</table>\n",
       "</div>"
      ],
      "text/plain": [
       "              age     anaemia  creatinine_phosphokinase    diabetes  \\\n",
       "count  299.000000  299.000000                299.000000  299.000000   \n",
       "mean    60.833893    0.431438                581.839465    0.418060   \n",
       "std     11.894809    0.496107                970.287881    0.494067   \n",
       "min     40.000000    0.000000                 23.000000    0.000000   \n",
       "25%     51.000000    0.000000                116.500000    0.000000   \n",
       "50%     60.000000    0.000000                250.000000    0.000000   \n",
       "75%     70.000000    1.000000                582.000000    1.000000   \n",
       "max     95.000000    1.000000               7861.000000    1.000000   \n",
       "\n",
       "       ejection_fraction  high_blood_pressure      platelets  \\\n",
       "count         299.000000           299.000000     299.000000   \n",
       "mean           38.083612             0.351171  263358.029264   \n",
       "std            11.834841             0.478136   97804.236869   \n",
       "min            14.000000             0.000000   25100.000000   \n",
       "25%            30.000000             0.000000  212500.000000   \n",
       "50%            38.000000             0.000000  262000.000000   \n",
       "75%            45.000000             1.000000  303500.000000   \n",
       "max            80.000000             1.000000  850000.000000   \n",
       "\n",
       "       serum_creatinine  serum_sodium         sex    smoking        time  \\\n",
       "count         299.00000    299.000000  299.000000  299.00000  299.000000   \n",
       "mean            1.39388    136.625418    0.648829    0.32107  130.260870   \n",
       "std             1.03451      4.412477    0.478136    0.46767   77.614208   \n",
       "min             0.50000    113.000000    0.000000    0.00000    4.000000   \n",
       "25%             0.90000    134.000000    0.000000    0.00000   73.000000   \n",
       "50%             1.10000    137.000000    1.000000    0.00000  115.000000   \n",
       "75%             1.40000    140.000000    1.000000    1.00000  203.000000   \n",
       "max             9.40000    148.000000    1.000000    1.00000  285.000000   \n",
       "\n",
       "       DEATH_EVENT  \n",
       "count    299.00000  \n",
       "mean       0.32107  \n",
       "std        0.46767  \n",
       "min        0.00000  \n",
       "25%        0.00000  \n",
       "50%        0.00000  \n",
       "75%        1.00000  \n",
       "max        1.00000  "
      ]
     },
     "execution_count": 14,
     "metadata": {},
     "output_type": "execute_result"
    }
   ],
   "source": [
    "data.describe()"
   ]
  },
  {
   "cell_type": "markdown",
   "id": "8aa9a552",
   "metadata": {
    "papermill": {
     "duration": 0.047543,
     "end_time": "2021-12-15T10:59:48.771383",
     "exception": false,
     "start_time": "2021-12-15T10:59:48.723840",
     "status": "completed"
    },
    "tags": []
   },
   "source": [
    "我们通过计算每个特征的不同值来分类特征。如果一个特征包含超过2个值，它就是continuous_features。否则，它就是discrete_features。输出DEATH_EVENT不属于任何类型。下面的表格分别显示了discrete_features和continuous_features。"
   ]
  },
  {
   "cell_type": "code",
   "execution_count": 8,
   "id": "37fc8698",
   "metadata": {
    "execution": {
     "iopub.execute_input": "2021-12-15T10:59:48.871571Z",
     "iopub.status.busy": "2021-12-15T10:59:48.870544Z",
     "iopub.status.idle": "2021-12-15T10:59:48.882127Z",
     "shell.execute_reply": "2021-12-15T10:59:48.881529Z",
     "shell.execute_reply.started": "2021-12-15T10:12:36.881246Z"
    },
    "papermill": {
     "duration": 0.062584,
     "end_time": "2021-12-15T10:59:48.882277",
     "exception": false,
     "start_time": "2021-12-15T10:59:48.819693",
     "status": "completed"
    },
    "tags": []
   },
   "outputs": [
    {
     "name": "stdout",
     "output_type": "stream",
     "text": [
      "Discrete:  ['anaemia', 'diabetes', 'high_blood_pressure', 'sex', 'smoking'] \n",
      " Continuous: ['age', 'creatinine_phosphokinase', 'ejection_fraction', 'platelets', 'serum_creatinine', 'serum_sodium', 'time'] \n",
      " Label: DEATH_EVENT\n"
     ]
    }
   ],
   "source": [
    "discrete_features, continuous_features = [], []\n",
    "for feature in data.columns:\n",
    "    if feature == 'DEATH_EVENT':\n",
    "        label = feature\n",
    "    elif len(data[feature].unique()) > 2:\n",
    "        continuous_features.append(feature)\n",
    "    else:\n",
    "        discrete_features.append(feature)\n",
    "\n",
    "print('Discrete: ', discrete_features, '\\n', 'Continuous:', continuous_features, '\\n', 'Label:', label)"
   ]
  },
  {
   "cell_type": "code",
   "execution_count": 9,
   "id": "42e884c0",
   "metadata": {
    "execution": {
     "iopub.execute_input": "2021-12-15T10:59:48.984085Z",
     "iopub.status.busy": "2021-12-15T10:59:48.983109Z",
     "iopub.status.idle": "2021-12-15T10:59:48.994458Z",
     "shell.execute_reply": "2021-12-15T10:59:48.994995Z",
     "shell.execute_reply.started": "2021-12-15T08:19:51.850037Z"
    },
    "papermill": {
     "duration": 0.063389,
     "end_time": "2021-12-15T10:59:48.995199",
     "exception": false,
     "start_time": "2021-12-15T10:59:48.931810",
     "status": "completed"
    },
    "tags": []
   },
   "outputs": [
    {
     "data": {
      "text/html": [
       "<div>\n",
       "<style scoped>\n",
       "    .dataframe tbody tr th:only-of-type {\n",
       "        vertical-align: middle;\n",
       "    }\n",
       "\n",
       "    .dataframe tbody tr th {\n",
       "        vertical-align: top;\n",
       "    }\n",
       "\n",
       "    .dataframe thead th {\n",
       "        text-align: right;\n",
       "    }\n",
       "</style>\n",
       "<table border=\"1\" class=\"dataframe\">\n",
       "  <thead>\n",
       "    <tr style=\"text-align: right;\">\n",
       "      <th></th>\n",
       "      <th>anaemia</th>\n",
       "      <th>diabetes</th>\n",
       "      <th>high_blood_pressure</th>\n",
       "      <th>sex</th>\n",
       "      <th>smoking</th>\n",
       "    </tr>\n",
       "  </thead>\n",
       "  <tbody>\n",
       "    <tr>\n",
       "      <th>0</th>\n",
       "      <td>0</td>\n",
       "      <td>0</td>\n",
       "      <td>1</td>\n",
       "      <td>1</td>\n",
       "      <td>0</td>\n",
       "    </tr>\n",
       "    <tr>\n",
       "      <th>1</th>\n",
       "      <td>0</td>\n",
       "      <td>0</td>\n",
       "      <td>0</td>\n",
       "      <td>1</td>\n",
       "      <td>0</td>\n",
       "    </tr>\n",
       "    <tr>\n",
       "      <th>2</th>\n",
       "      <td>0</td>\n",
       "      <td>0</td>\n",
       "      <td>0</td>\n",
       "      <td>1</td>\n",
       "      <td>1</td>\n",
       "    </tr>\n",
       "    <tr>\n",
       "      <th>3</th>\n",
       "      <td>1</td>\n",
       "      <td>0</td>\n",
       "      <td>0</td>\n",
       "      <td>1</td>\n",
       "      <td>0</td>\n",
       "    </tr>\n",
       "    <tr>\n",
       "      <th>4</th>\n",
       "      <td>1</td>\n",
       "      <td>1</td>\n",
       "      <td>0</td>\n",
       "      <td>0</td>\n",
       "      <td>0</td>\n",
       "    </tr>\n",
       "  </tbody>\n",
       "</table>\n",
       "</div>"
      ],
      "text/plain": [
       "   anaemia  diabetes  high_blood_pressure  sex  smoking\n",
       "0        0         0                    1    1        0\n",
       "1        0         0                    0    1        0\n",
       "2        0         0                    0    1        1\n",
       "3        1         0                    0    1        0\n",
       "4        1         1                    0    0        0"
      ]
     },
     "execution_count": 9,
     "metadata": {},
     "output_type": "execute_result"
    }
   ],
   "source": [
    "data[discrete_features].head()"
   ]
  },
  {
   "cell_type": "code",
   "execution_count": 10,
   "id": "2f89fc30",
   "metadata": {
    "execution": {
     "iopub.execute_input": "2021-12-15T10:59:49.097590Z",
     "iopub.status.busy": "2021-12-15T10:59:49.096595Z",
     "iopub.status.idle": "2021-12-15T10:59:49.110497Z",
     "shell.execute_reply": "2021-12-15T10:59:49.111059Z",
     "shell.execute_reply.started": "2021-12-15T10:12:39.657175Z"
    },
    "papermill": {
     "duration": 0.066444,
     "end_time": "2021-12-15T10:59:49.111248",
     "exception": false,
     "start_time": "2021-12-15T10:59:49.044804",
     "status": "completed"
    },
    "tags": []
   },
   "outputs": [
    {
     "data": {
      "text/html": [
       "<div>\n",
       "<style scoped>\n",
       "    .dataframe tbody tr th:only-of-type {\n",
       "        vertical-align: middle;\n",
       "    }\n",
       "\n",
       "    .dataframe tbody tr th {\n",
       "        vertical-align: top;\n",
       "    }\n",
       "\n",
       "    .dataframe thead th {\n",
       "        text-align: right;\n",
       "    }\n",
       "</style>\n",
       "<table border=\"1\" class=\"dataframe\">\n",
       "  <thead>\n",
       "    <tr style=\"text-align: right;\">\n",
       "      <th></th>\n",
       "      <th>age</th>\n",
       "      <th>creatinine_phosphokinase</th>\n",
       "      <th>ejection_fraction</th>\n",
       "      <th>platelets</th>\n",
       "      <th>serum_creatinine</th>\n",
       "      <th>serum_sodium</th>\n",
       "      <th>time</th>\n",
       "    </tr>\n",
       "  </thead>\n",
       "  <tbody>\n",
       "    <tr>\n",
       "      <th>0</th>\n",
       "      <td>75.0</td>\n",
       "      <td>582</td>\n",
       "      <td>20</td>\n",
       "      <td>265000.00</td>\n",
       "      <td>1.9</td>\n",
       "      <td>130</td>\n",
       "      <td>4</td>\n",
       "    </tr>\n",
       "    <tr>\n",
       "      <th>1</th>\n",
       "      <td>55.0</td>\n",
       "      <td>7861</td>\n",
       "      <td>38</td>\n",
       "      <td>263358.03</td>\n",
       "      <td>1.1</td>\n",
       "      <td>136</td>\n",
       "      <td>6</td>\n",
       "    </tr>\n",
       "    <tr>\n",
       "      <th>2</th>\n",
       "      <td>65.0</td>\n",
       "      <td>146</td>\n",
       "      <td>20</td>\n",
       "      <td>162000.00</td>\n",
       "      <td>1.3</td>\n",
       "      <td>129</td>\n",
       "      <td>7</td>\n",
       "    </tr>\n",
       "    <tr>\n",
       "      <th>3</th>\n",
       "      <td>50.0</td>\n",
       "      <td>111</td>\n",
       "      <td>20</td>\n",
       "      <td>210000.00</td>\n",
       "      <td>1.9</td>\n",
       "      <td>137</td>\n",
       "      <td>7</td>\n",
       "    </tr>\n",
       "    <tr>\n",
       "      <th>4</th>\n",
       "      <td>65.0</td>\n",
       "      <td>160</td>\n",
       "      <td>20</td>\n",
       "      <td>327000.00</td>\n",
       "      <td>2.7</td>\n",
       "      <td>116</td>\n",
       "      <td>8</td>\n",
       "    </tr>\n",
       "  </tbody>\n",
       "</table>\n",
       "</div>"
      ],
      "text/plain": [
       "    age  creatinine_phosphokinase  ejection_fraction  platelets  \\\n",
       "0  75.0                       582                 20  265000.00   \n",
       "1  55.0                      7861                 38  263358.03   \n",
       "2  65.0                       146                 20  162000.00   \n",
       "3  50.0                       111                 20  210000.00   \n",
       "4  65.0                       160                 20  327000.00   \n",
       "\n",
       "   serum_creatinine  serum_sodium  time  \n",
       "0               1.9           130     4  \n",
       "1               1.1           136     6  \n",
       "2               1.3           129     7  \n",
       "3               1.9           137     7  \n",
       "4               2.7           116     8  "
      ]
     },
     "execution_count": 10,
     "metadata": {},
     "output_type": "execute_result"
    }
   ],
   "source": [
    "data[continuous_features].head()"
   ]
  },
  {
   "cell_type": "markdown",
   "id": "2cb01d15",
   "metadata": {
    "papermill": {
     "duration": 0.048653,
     "end_time": "2021-12-15T10:59:49.209879",
     "exception": false,
     "start_time": "2021-12-15T10:59:49.161226",
     "status": "completed"
    },
    "tags": []
   },
   "source": [
    "### 2.2.2 使用MinMaxScaler进行标准化\n",
    "\n",
    "在我们获得continuous_feature之后，我们使用MinMaxScaler进行标准化以缩放特征。缩放后的数据位于0到1之间，每个特征的标准差也在0到1的范围内。现在数据集已经准备好用于构建模型了。"
   ]
  },
  {
   "cell_type": "code",
   "execution_count": 11,
   "id": "283e9f5b",
   "metadata": {
    "execution": {
     "iopub.execute_input": "2021-12-15T10:59:49.315558Z",
     "iopub.status.busy": "2021-12-15T10:59:49.314507Z",
     "iopub.status.idle": "2021-12-15T10:59:49.331587Z",
     "shell.execute_reply": "2021-12-15T10:59:49.332233Z",
     "shell.execute_reply.started": "2021-12-15T10:12:40.928597Z"
    },
    "papermill": {
     "duration": 0.073472,
     "end_time": "2021-12-15T10:59:49.332434",
     "exception": false,
     "start_time": "2021-12-15T10:59:49.258962",
     "status": "completed"
    },
    "tags": []
   },
   "outputs": [
    {
     "data": {
      "text/html": [
       "<div>\n",
       "<style scoped>\n",
       "    .dataframe tbody tr th:only-of-type {\n",
       "        vertical-align: middle;\n",
       "    }\n",
       "\n",
       "    .dataframe tbody tr th {\n",
       "        vertical-align: top;\n",
       "    }\n",
       "\n",
       "    .dataframe thead th {\n",
       "        text-align: right;\n",
       "    }\n",
       "</style>\n",
       "<table border=\"1\" class=\"dataframe\">\n",
       "  <thead>\n",
       "    <tr style=\"text-align: right;\">\n",
       "      <th></th>\n",
       "      <th>age</th>\n",
       "      <th>creatinine_phosphokinase</th>\n",
       "      <th>ejection_fraction</th>\n",
       "      <th>platelets</th>\n",
       "      <th>serum_creatinine</th>\n",
       "      <th>serum_sodium</th>\n",
       "      <th>time</th>\n",
       "    </tr>\n",
       "  </thead>\n",
       "  <tbody>\n",
       "    <tr>\n",
       "      <th>0</th>\n",
       "      <td>0.636364</td>\n",
       "      <td>0.071319</td>\n",
       "      <td>0.090909</td>\n",
       "      <td>0.290823</td>\n",
       "      <td>0.157303</td>\n",
       "      <td>0.485714</td>\n",
       "      <td>0.000000</td>\n",
       "    </tr>\n",
       "    <tr>\n",
       "      <th>1</th>\n",
       "      <td>0.272727</td>\n",
       "      <td>1.000000</td>\n",
       "      <td>0.363636</td>\n",
       "      <td>0.288833</td>\n",
       "      <td>0.067416</td>\n",
       "      <td>0.657143</td>\n",
       "      <td>0.007117</td>\n",
       "    </tr>\n",
       "    <tr>\n",
       "      <th>2</th>\n",
       "      <td>0.454545</td>\n",
       "      <td>0.015693</td>\n",
       "      <td>0.090909</td>\n",
       "      <td>0.165960</td>\n",
       "      <td>0.089888</td>\n",
       "      <td>0.457143</td>\n",
       "      <td>0.010676</td>\n",
       "    </tr>\n",
       "    <tr>\n",
       "      <th>3</th>\n",
       "      <td>0.181818</td>\n",
       "      <td>0.011227</td>\n",
       "      <td>0.090909</td>\n",
       "      <td>0.224148</td>\n",
       "      <td>0.157303</td>\n",
       "      <td>0.685714</td>\n",
       "      <td>0.010676</td>\n",
       "    </tr>\n",
       "    <tr>\n",
       "      <th>4</th>\n",
       "      <td>0.454545</td>\n",
       "      <td>0.017479</td>\n",
       "      <td>0.090909</td>\n",
       "      <td>0.365984</td>\n",
       "      <td>0.247191</td>\n",
       "      <td>0.085714</td>\n",
       "      <td>0.014235</td>\n",
       "    </tr>\n",
       "  </tbody>\n",
       "</table>\n",
       "</div>"
      ],
      "text/plain": [
       "        age  creatinine_phosphokinase  ejection_fraction  platelets  \\\n",
       "0  0.636364                  0.071319           0.090909   0.290823   \n",
       "1  0.272727                  1.000000           0.363636   0.288833   \n",
       "2  0.454545                  0.015693           0.090909   0.165960   \n",
       "3  0.181818                  0.011227           0.090909   0.224148   \n",
       "4  0.454545                  0.017479           0.090909   0.365984   \n",
       "\n",
       "   serum_creatinine  serum_sodium      time  \n",
       "0          0.157303      0.485714  0.000000  \n",
       "1          0.067416      0.657143  0.007117  \n",
       "2          0.089888      0.457143  0.010676  \n",
       "3          0.157303      0.685714  0.010676  \n",
       "4          0.247191      0.085714  0.014235  "
      ]
     },
     "execution_count": 11,
     "metadata": {},
     "output_type": "execute_result"
    }
   ],
   "source": [
    "from sklearn.preprocessing import MinMaxScaler\n",
    "scaler = MinMaxScaler(feature_range=(0,1))\n",
    "scaler.fit(data[continuous_features])\n",
    "scaled_continuous_features = scaler.transform(data[continuous_features])\n",
    "scaled_continuous_features = pd.DataFrame(data=scaled_continuous_features, columns=['age','creatinine_phosphokinase', 'ejection_fraction', 'platelets', 'serum_creatinine', 'serum_sodium', 'time' ])\n",
    "scaled_continuous_features.head()"
   ]
  },
  {
   "cell_type": "markdown",
   "id": "03fddaa9",
   "metadata": {
    "papermill": {
     "duration": 0.049367,
     "end_time": "2021-12-15T10:59:49.431744",
     "exception": false,
     "start_time": "2021-12-15T10:59:49.382377",
     "status": "completed"
    },
    "tags": []
   },
   "source": [
    "The table below shows that all features have the standard deviation between 0 and 1."
   ]
  },
  {
   "cell_type": "code",
   "execution_count": 12,
   "id": "f0a31972",
   "metadata": {
    "execution": {
     "iopub.execute_input": "2021-12-15T10:59:49.540478Z",
     "iopub.status.busy": "2021-12-15T10:59:49.539410Z",
     "iopub.status.idle": "2021-12-15T10:59:49.580922Z",
     "shell.execute_reply": "2021-12-15T10:59:49.581501Z",
     "shell.execute_reply.started": "2021-12-15T10:12:44.913764Z"
    },
    "papermill": {
     "duration": 0.100233,
     "end_time": "2021-12-15T10:59:49.581681",
     "exception": false,
     "start_time": "2021-12-15T10:59:49.481448",
     "status": "completed"
    },
    "tags": []
   },
   "outputs": [
    {
     "data": {
      "text/html": [
       "<div>\n",
       "<style scoped>\n",
       "    .dataframe tbody tr th:only-of-type {\n",
       "        vertical-align: middle;\n",
       "    }\n",
       "\n",
       "    .dataframe tbody tr th {\n",
       "        vertical-align: top;\n",
       "    }\n",
       "\n",
       "    .dataframe thead th {\n",
       "        text-align: right;\n",
       "    }\n",
       "</style>\n",
       "<table border=\"1\" class=\"dataframe\">\n",
       "  <thead>\n",
       "    <tr style=\"text-align: right;\">\n",
       "      <th></th>\n",
       "      <th>anaemia</th>\n",
       "      <th>diabetes</th>\n",
       "      <th>high_blood_pressure</th>\n",
       "      <th>sex</th>\n",
       "      <th>smoking</th>\n",
       "      <th>age</th>\n",
       "      <th>creatinine_phosphokinase</th>\n",
       "      <th>ejection_fraction</th>\n",
       "      <th>platelets</th>\n",
       "      <th>serum_creatinine</th>\n",
       "      <th>serum_sodium</th>\n",
       "      <th>time</th>\n",
       "      <th>DEATH_EVENT</th>\n",
       "    </tr>\n",
       "  </thead>\n",
       "  <tbody>\n",
       "    <tr>\n",
       "      <th>count</th>\n",
       "      <td>299.000000</td>\n",
       "      <td>299.000000</td>\n",
       "      <td>299.000000</td>\n",
       "      <td>299.000000</td>\n",
       "      <td>299.00000</td>\n",
       "      <td>299.000000</td>\n",
       "      <td>299.000000</td>\n",
       "      <td>299.000000</td>\n",
       "      <td>299.000000</td>\n",
       "      <td>299.000000</td>\n",
       "      <td>299.000000</td>\n",
       "      <td>299.000000</td>\n",
       "      <td>299.00000</td>\n",
       "    </tr>\n",
       "    <tr>\n",
       "      <th>mean</th>\n",
       "      <td>0.431438</td>\n",
       "      <td>0.418060</td>\n",
       "      <td>0.351171</td>\n",
       "      <td>0.648829</td>\n",
       "      <td>0.32107</td>\n",
       "      <td>0.378798</td>\n",
       "      <td>0.071299</td>\n",
       "      <td>0.364903</td>\n",
       "      <td>0.288833</td>\n",
       "      <td>0.100436</td>\n",
       "      <td>0.675012</td>\n",
       "      <td>0.449327</td>\n",
       "      <td>0.32107</td>\n",
       "    </tr>\n",
       "    <tr>\n",
       "      <th>std</th>\n",
       "      <td>0.496107</td>\n",
       "      <td>0.494067</td>\n",
       "      <td>0.478136</td>\n",
       "      <td>0.478136</td>\n",
       "      <td>0.46767</td>\n",
       "      <td>0.216269</td>\n",
       "      <td>0.123793</td>\n",
       "      <td>0.179316</td>\n",
       "      <td>0.118565</td>\n",
       "      <td>0.116237</td>\n",
       "      <td>0.126071</td>\n",
       "      <td>0.276207</td>\n",
       "      <td>0.46767</td>\n",
       "    </tr>\n",
       "    <tr>\n",
       "      <th>min</th>\n",
       "      <td>0.000000</td>\n",
       "      <td>0.000000</td>\n",
       "      <td>0.000000</td>\n",
       "      <td>0.000000</td>\n",
       "      <td>0.00000</td>\n",
       "      <td>0.000000</td>\n",
       "      <td>0.000000</td>\n",
       "      <td>0.000000</td>\n",
       "      <td>0.000000</td>\n",
       "      <td>0.000000</td>\n",
       "      <td>0.000000</td>\n",
       "      <td>0.000000</td>\n",
       "      <td>0.00000</td>\n",
       "    </tr>\n",
       "    <tr>\n",
       "      <th>25%</th>\n",
       "      <td>0.000000</td>\n",
       "      <td>0.000000</td>\n",
       "      <td>0.000000</td>\n",
       "      <td>0.000000</td>\n",
       "      <td>0.00000</td>\n",
       "      <td>0.200000</td>\n",
       "      <td>0.011929</td>\n",
       "      <td>0.242424</td>\n",
       "      <td>0.227179</td>\n",
       "      <td>0.044944</td>\n",
       "      <td>0.600000</td>\n",
       "      <td>0.245552</td>\n",
       "      <td>0.00000</td>\n",
       "    </tr>\n",
       "    <tr>\n",
       "      <th>50%</th>\n",
       "      <td>0.000000</td>\n",
       "      <td>0.000000</td>\n",
       "      <td>0.000000</td>\n",
       "      <td>1.000000</td>\n",
       "      <td>0.00000</td>\n",
       "      <td>0.363636</td>\n",
       "      <td>0.028961</td>\n",
       "      <td>0.363636</td>\n",
       "      <td>0.287186</td>\n",
       "      <td>0.067416</td>\n",
       "      <td>0.685714</td>\n",
       "      <td>0.395018</td>\n",
       "      <td>0.00000</td>\n",
       "    </tr>\n",
       "    <tr>\n",
       "      <th>75%</th>\n",
       "      <td>1.000000</td>\n",
       "      <td>1.000000</td>\n",
       "      <td>1.000000</td>\n",
       "      <td>1.000000</td>\n",
       "      <td>1.00000</td>\n",
       "      <td>0.545455</td>\n",
       "      <td>0.071319</td>\n",
       "      <td>0.469697</td>\n",
       "      <td>0.337495</td>\n",
       "      <td>0.101124</td>\n",
       "      <td>0.771429</td>\n",
       "      <td>0.708185</td>\n",
       "      <td>1.00000</td>\n",
       "    </tr>\n",
       "    <tr>\n",
       "      <th>max</th>\n",
       "      <td>1.000000</td>\n",
       "      <td>1.000000</td>\n",
       "      <td>1.000000</td>\n",
       "      <td>1.000000</td>\n",
       "      <td>1.00000</td>\n",
       "      <td>1.000000</td>\n",
       "      <td>1.000000</td>\n",
       "      <td>1.000000</td>\n",
       "      <td>1.000000</td>\n",
       "      <td>1.000000</td>\n",
       "      <td>1.000000</td>\n",
       "      <td>1.000000</td>\n",
       "      <td>1.00000</td>\n",
       "    </tr>\n",
       "  </tbody>\n",
       "</table>\n",
       "</div>"
      ],
      "text/plain": [
       "          anaemia    diabetes  high_blood_pressure         sex    smoking  \\\n",
       "count  299.000000  299.000000           299.000000  299.000000  299.00000   \n",
       "mean     0.431438    0.418060             0.351171    0.648829    0.32107   \n",
       "std      0.496107    0.494067             0.478136    0.478136    0.46767   \n",
       "min      0.000000    0.000000             0.000000    0.000000    0.00000   \n",
       "25%      0.000000    0.000000             0.000000    0.000000    0.00000   \n",
       "50%      0.000000    0.000000             0.000000    1.000000    0.00000   \n",
       "75%      1.000000    1.000000             1.000000    1.000000    1.00000   \n",
       "max      1.000000    1.000000             1.000000    1.000000    1.00000   \n",
       "\n",
       "              age  creatinine_phosphokinase  ejection_fraction   platelets  \\\n",
       "count  299.000000                299.000000         299.000000  299.000000   \n",
       "mean     0.378798                  0.071299           0.364903    0.288833   \n",
       "std      0.216269                  0.123793           0.179316    0.118565   \n",
       "min      0.000000                  0.000000           0.000000    0.000000   \n",
       "25%      0.200000                  0.011929           0.242424    0.227179   \n",
       "50%      0.363636                  0.028961           0.363636    0.287186   \n",
       "75%      0.545455                  0.071319           0.469697    0.337495   \n",
       "max      1.000000                  1.000000           1.000000    1.000000   \n",
       "\n",
       "       serum_creatinine  serum_sodium        time  DEATH_EVENT  \n",
       "count        299.000000    299.000000  299.000000    299.00000  \n",
       "mean           0.100436      0.675012    0.449327      0.32107  \n",
       "std            0.116237      0.126071    0.276207      0.46767  \n",
       "min            0.000000      0.000000    0.000000      0.00000  \n",
       "25%            0.044944      0.600000    0.245552      0.00000  \n",
       "50%            0.067416      0.685714    0.395018      0.00000  \n",
       "75%            0.101124      0.771429    0.708185      1.00000  \n",
       "max            1.000000      1.000000    1.000000      1.00000  "
      ]
     },
     "execution_count": 12,
     "metadata": {},
     "output_type": "execute_result"
    }
   ],
   "source": [
    "scaled_data = pd.concat([data[discrete_features], scaled_continuous_features, data['DEATH_EVENT']], axis=1)\n",
    "scaled_data.describe()"
   ]
  },
  {
   "cell_type": "markdown",
   "id": "c3c9b01c",
   "metadata": {
    "papermill": {
     "duration": 0.050432,
     "end_time": "2021-12-15T10:59:49.682652",
     "exception": false,
     "start_time": "2021-12-15T10:59:49.632220",
     "status": "completed"
    },
    "tags": []
   },
   "source": [
    "## 2.3 训练和测试\n",
    "\n",
    "在构建机器学习模型时，缩放后的数据集被分为训练集和测试集。我们使用train_test_split函数，将70%的数据集设置为训练集，30%的数据集设置为测试集。分割数据时，我们根据标签进行stratify，以确保训练集和测试集在DEATH_EVENT的数量上保持平衡。在这个项目中，使用random_state=42来确保结果可复现。"
   ]
  },
  {
   "cell_type": "code",
   "execution_count": 13,
   "id": "919b085a",
   "metadata": {
    "execution": {
     "iopub.execute_input": "2021-12-15T10:59:49.788306Z",
     "iopub.status.busy": "2021-12-15T10:59:49.787286Z",
     "iopub.status.idle": "2021-12-15T10:59:49.798082Z",
     "shell.execute_reply": "2021-12-15T10:59:49.798639Z",
     "shell.execute_reply.started": "2021-12-15T10:12:50.557467Z"
    },
    "papermill": {
     "duration": 0.064984,
     "end_time": "2021-12-15T10:59:49.798816",
     "exception": false,
     "start_time": "2021-12-15T10:59:49.733832",
     "status": "completed"
    },
    "tags": []
   },
   "outputs": [],
   "source": [
    "X_train, X_test, y_train, y_test = train_test_split(scaled_data.iloc[:,:-1], scaled_data.iloc[:,-1], stratify = scaled_data['DEATH_EVENT'], test_size=0.3, random_state=42)"
   ]
  },
  {
   "cell_type": "code",
   "execution_count": 15,
   "id": "b4611306",
   "metadata": {
    "execution": {
     "iopub.execute_input": "2021-12-15T10:59:49.905681Z",
     "iopub.status.busy": "2021-12-15T10:59:49.904646Z",
     "iopub.status.idle": "2021-12-15T10:59:49.917990Z",
     "shell.execute_reply": "2021-12-15T10:59:49.917235Z",
     "shell.execute_reply.started": "2021-12-15T08:20:12.319642Z"
    },
    "papermill": {
     "duration": 0.068307,
     "end_time": "2021-12-15T10:59:49.918211",
     "exception": false,
     "start_time": "2021-12-15T10:59:49.849904",
     "status": "completed"
    },
    "tags": []
   },
   "outputs": [
    {
     "name": "stdout",
     "output_type": "stream",
     "text": [
      "             The number of DEATH_EVENT\n",
      "                   0        |      1\n",
      "------------------------------------------\n",
      "All dataset       203       |      96\n",
      "Train set (70%)   142       |      67\n",
      "Test set (30%)     61       |      29\n"
     ]
    }
   ],
   "source": [
    "num_all = np.unique(scaled_data['DEATH_EVENT'], return_counts=True)\n",
    "print('             The number of DEATH_EVENT')\n",
    "print('                   0        |      1')\n",
    "print('------------------------------------------')\n",
    "print('All dataset      ', num_all[1][0], ' '*5, '|', ' '*4, num_all[1][1])\n",
    "num_train = np.unique(y_train, return_counts=True)\n",
    "print('Train set (70%)  ', num_train[1][0], ' '*5, '|', ' '*4, num_train[1][1])\n",
    "num_test = np.unique(y_test, return_counts=True)\n",
    "print('Test set (30%)    ', num_test[1][0], ' '*5, '|', ' '*4, num_test[1][1])"
   ]
  },
  {
   "cell_type": "markdown",
   "id": "e58e54db",
   "metadata": {
    "papermill": {
     "duration": 0.051954,
     "end_time": "2021-12-15T10:59:50.021467",
     "exception": false,
     "start_time": "2021-12-15T10:59:49.969513",
     "status": "completed"
    },
    "tags": []
   },
   "source": [
    "# 3. 有监督学习\n",
    "\n",
    "心脏衰竭数据集的标签DEATH_EVENT有两个不同的值：0和1。因此，我们使用<b>分类算法</b>来构建监督机器学习模型。\n",
    "\n",
    "## 3.1 决策树\n",
    "\n",
    "首先，我们构建了一个决策树分类器，使用gini作为标准，并未定义max_depth参数。该树执行到所有剩余节点都纯净为止，即没有办法再分割左侧节点。树的最大深度为8。"
   ]
  },
  {
   "cell_type": "code",
   "execution_count": 17,
   "id": "9c15a18e",
   "metadata": {
    "execution": {
     "iopub.execute_input": "2021-12-15T10:59:50.130716Z",
     "iopub.status.busy": "2021-12-15T10:59:50.129637Z",
     "iopub.status.idle": "2021-12-15T10:59:50.328166Z",
     "shell.execute_reply": "2021-12-15T10:59:50.327230Z",
     "shell.execute_reply.started": "2021-12-15T10:15:27.593325Z"
    },
    "papermill": {
     "duration": 0.254744,
     "end_time": "2021-12-15T10:59:50.328438",
     "exception": false,
     "start_time": "2021-12-15T10:59:50.073694",
     "status": "completed"
    },
    "tags": []
   },
   "outputs": [
    {
     "name": "stdout",
     "output_type": "stream",
     "text": [
      "The maximum depth of the tree is  8\n"
     ]
    }
   ],
   "source": [
    "from sklearn.tree import DecisionTreeClassifier, plot_tree\n",
    "\n",
    "tree_clf = DecisionTreeClassifier(criterion='gini')\n",
    "tree_clf = tree_clf.fit(X_train, y_train)\n",
    "print('The maximum depth of the tree is ', tree_clf.get_depth())"
   ]
  },
  {
   "cell_type": "markdown",
   "id": "b6294005",
   "metadata": {
    "papermill": {
     "duration": 0.053371,
     "end_time": "2021-12-15T10:59:50.434127",
     "exception": false,
     "start_time": "2021-12-15T10:59:50.380756",
     "status": "completed"
    },
    "tags": []
   },
   "source": [
    "### 3.1.1 决策树过拟合问题\n",
    "我们计算了深度从1到8的Train Accuracy（训练准确率）和Test Accuracy（测试准确率）。Train Accuracy和Test Accuracy是在第2.3节中分割的训练集和测试集的准确率。我们清楚地看到，树的深度越高，Train Accuracy越接近于1。这是因为在深度为8的模型中，模型将持续分割直至左侧节点纯净，从而使模型在预测中达到完美。然而，这会导致决策树分类器出现过拟合问题。\n",
    "\n",
    "为了避免过拟合，应用了<b>k-折交叉验证</b>程序来缓解这一问题。模型使用k-1折的数据作为训练数据进行训练。剩余部分用作测试数据来衡量每一折的准确率。然后，计算准确率的平均值作为结果。应用交叉验证后，模型不再受到过拟合的困扰。"
   ]
  },
  {
   "cell_type": "code",
   "execution_count": 18,
   "id": "e34cbe4b",
   "metadata": {
    "execution": {
     "iopub.execute_input": "2021-12-15T10:59:50.547269Z",
     "iopub.status.busy": "2021-12-15T10:59:50.546158Z",
     "iopub.status.idle": "2021-12-15T10:59:50.796489Z",
     "shell.execute_reply": "2021-12-15T10:59:50.795888Z",
     "shell.execute_reply.started": "2021-12-15T08:20:26.660651Z"
    },
    "papermill": {
     "duration": 0.311713,
     "end_time": "2021-12-15T10:59:50.796642",
     "exception": false,
     "start_time": "2021-12-15T10:59:50.484929",
     "status": "completed"
    },
    "tags": []
   },
   "outputs": [
    {
     "name": "stdout",
     "output_type": "stream",
     "text": [
      "Depth  Train Accuracy  Test Accuracy  CV Accuracy\n",
      "  1        0.8565          0.8222       0.8470\n",
      "  2        0.8565          0.8222       0.8325\n",
      "  3        0.8900          0.7889       0.7849\n",
      "  4        0.9139          0.8222       0.7895\n",
      "  5        0.9522          0.7667       0.7800\n",
      "  6        0.9809          0.7667       0.7705\n",
      "  7        0.9952          0.7333       0.7561\n",
      "  8        1.0000          0.7778       0.7659\n"
     ]
    }
   ],
   "source": [
    "accuracies = []\n",
    "print('Depth', ' Train Accuracy', ' Test Accuracy', ' CV Accuracy')\n",
    "\n",
    "for d in range(1,9):\n",
    "    tree_clf = DecisionTreeClassifier(criterion='gini', max_depth = d)\n",
    "    tree_clf = tree_clf.fit(X_train, y_train)\n",
    "    \n",
    "    train_accuracy = tree_clf.score(X_train, y_train)\n",
    "    test_accuracy = tree_clf.score(X_test, y_test)\n",
    "    \n",
    "    cv_accuracy = np.mean(cross_val_score(tree_clf, X_train, y_train, cv=5))\n",
    "    accuracies.append([d, train_accuracy, test_accuracy, cv_accuracy])\n",
    "    \n",
    "    print(' ', d, ' '*6, '%.4f' % train_accuracy, ' '*8, '%.4f'% test_accuracy, ' '*5, '%.4f'% cv_accuracy)"
   ]
  },
  {
   "cell_type": "markdown",
   "id": "0ae57847",
   "metadata": {
    "papermill": {
     "duration": 0.051465,
     "end_time": "2021-12-15T10:59:50.899747",
     "exception": false,
     "start_time": "2021-12-15T10:59:50.848282",
     "status": "completed"
    },
    "tags": []
   },
   "source": [
    "### 3.1.2 树深度的准确度\n",
    "下面的折线图展示了Train Accuracy、Test Accuracy和CV Accuracy。我们忽略了训练准确率，因为它会导致过拟合问题。现在我们关注Test accuracy和CV Accuracy。随着深度的增加，两者的准确率都在下降。测试准确率在整个过程中波动，而交叉验证准确率平稳下降。为了选择最准确的模型，我们考虑选择准确率最高的模型。准确率最高的是在深度为1时进行交叉验证的树。\n",
    "\n",
    "##### 性能最高的决策树是max_depth=1的模型。其训练和测试准确率分别为0.8470和0.8222。"
   ]
  },
  {
   "cell_type": "code",
   "execution_count": 19,
   "id": "e95f66c5",
   "metadata": {
    "execution": {
     "iopub.execute_input": "2021-12-15T10:59:51.007558Z",
     "iopub.status.busy": "2021-12-15T10:59:51.006478Z",
     "iopub.status.idle": "2021-12-15T10:59:51.328330Z",
     "shell.execute_reply": "2021-12-15T10:59:51.327813Z",
     "shell.execute_reply.started": "2021-12-15T08:20:30.555644Z"
    },
    "papermill": {
     "duration": 0.377029,
     "end_time": "2021-12-15T10:59:51.328485",
     "exception": false,
     "start_time": "2021-12-15T10:59:50.951456",
     "status": "completed"
    },
    "tags": []
   },
   "outputs": [
    {
     "data": {
      "text/plain": [
       "Text(0.5, 1.0, 'The relationship between the depth of the tree and accuracies')"
      ]
     },
     "execution_count": 19,
     "metadata": {},
     "output_type": "execute_result"
    }
   ],
   "source": [
    "accuracies = pd.DataFrame( \n",
    "    data = accuracies, \n",
    "    columns = ['Depth', 'Train Accuracy','Test Accuracy', 'CV Accuracy']\n",
    ")    \n",
    "\n",
    "accuracies = pd.melt(\n",
    "    accuracies,\n",
    "    id_vars = ['Depth'],\n",
    "    var_name = 'Type',\n",
    "    value_name = 'Accuracy'\n",
    ") \n",
    "sns.lineplot(\n",
    "    x = 'Depth',\n",
    "    y = 'Accuracy',\n",
    "    hue = 'Type',\n",
    "    data = accuracies,\n",
    "\n",
    ").set_title('The relationship between the depth of the tree and accuracies')"
   ]
  },
  {
   "cell_type": "markdown",
   "id": "3dd5e3e9",
   "metadata": {
    "papermill": {
     "duration": 0.05386,
     "end_time": "2021-12-15T10:59:51.435692",
     "exception": false,
     "start_time": "2021-12-15T10:59:51.381832",
     "status": "completed"
    },
    "tags": []
   },
   "source": [
    "### 3.1.3 Tree Plot\n",
    "我们使用plot_tree来查看分裂的信息。下面的图片显示了深度为3的示例分裂。这对于向非IT人员解释决策树算法的工作方式非常有用。它包括：\n",
    "\n",
    "* 特征名称及其分裂值\n",
    "* gini = 基尼值\n",
    "* samples = 样本总数\n",
    "* value = DEATH_EVENT的数量\n",
    "* class = DEATH_EVENT的类别"
   ]
  },
  {
   "cell_type": "code",
   "execution_count": 20,
   "id": "071cc204",
   "metadata": {
    "execution": {
     "iopub.execute_input": "2021-12-15T10:59:51.551308Z",
     "iopub.status.busy": "2021-12-15T10:59:51.550580Z",
     "iopub.status.idle": "2021-12-15T10:59:52.411172Z",
     "shell.execute_reply": "2021-12-15T10:59:52.411724Z",
     "shell.execute_reply.started": "2021-12-15T08:20:35.423115Z"
    },
    "papermill": {
     "duration": 0.922972,
     "end_time": "2021-12-15T10:59:52.411911",
     "exception": false,
     "start_time": "2021-12-15T10:59:51.488939",
     "status": "completed"
    },
    "tags": []
   },
   "outputs": [
    {
     "data": {
      "image/png": "[encoded data removed]",
      "text/plain": [
       "<Figure size 1500x500 with 2 Axes>"
      ]
     },
     "metadata": {},
     "output_type": "display_data"
    },
    {
     "data": {
      "image/png": "[encoded data removed]",
      "text/plain": [
       "<Figure size 2000x1000 with 1 Axes>"
      ]
     },
     "metadata": {},
     "output_type": "display_data"
    }
   ],
   "source": [
    "tree_clf = DecisionTreeClassifier(criterion='gini', max_depth=3)\n",
    "tree_clf = tree_clf.fit(X_train,y_train)\n",
    "plt.subplots(figsize=(20,10))\n",
    "plot_tree(tree_clf, fontsize=13, feature_names=scaled_data.columns, class_names=['Not dead', 'Dead'], filled=True)\n",
    "plt.show()"
   ]
  },
  {
   "cell_type": "markdown",
   "id": "bbac7221",
   "metadata": {
    "papermill": {
     "duration": 0.056593,
     "end_time": "2021-12-15T10:59:52.530706",
     "exception": false,
     "start_time": "2021-12-15T10:59:52.474113",
     "status": "completed"
    },
    "tags": []
   },
   "source": [
    "## 4.2 随机森林\n",
    "\n",
    "随机森林是构建模型中使用的第二种技术。它基于决策树。\n",
    "\n",
    "### 4.2.1 准确度比较\n",
    "\n",
    "随机森林也会导致过拟合问题，与决策树相同。深度越高，准确率越接近1.0。应用CV Accuracy来避免过拟合。随机森林需要设置许多参数以用于分类器。我们将在4.2.3节讨论如何定义最佳参数。现在我们定义n_estimators=100，这是一个对我们的计算资源来说可接受的数字。更高的数值会增加计算时间。"
   ]
  },
  {
   "cell_type": "code",
   "execution_count": 21,
   "id": "659b563b",
   "metadata": {
    "execution": {
     "iopub.execute_input": "2021-12-15T10:59:52.656277Z",
     "iopub.status.busy": "2021-12-15T10:59:52.655520Z",
     "iopub.status.idle": "2021-12-15T11:00:01.256488Z",
     "shell.execute_reply": "2021-12-15T11:00:01.255800Z",
     "shell.execute_reply.started": "2021-12-15T10:12:56.057929Z"
    },
    "papermill": {
     "duration": 8.669101,
     "end_time": "2021-12-15T11:00:01.256644",
     "exception": false,
     "start_time": "2021-12-15T10:59:52.587543",
     "status": "completed"
    },
    "tags": []
   },
   "outputs": [
    {
     "name": "stdout",
     "output_type": "stream",
     "text": [
      "Depth  Train Accuracy  Test Accuracy  CV Accuracy\n",
      "  1        0.7512          0.7222       0.7372\n",
      "  2        0.8708          0.8000       0.8136\n",
      "  3        0.9187          0.8333       0.8613\n",
      "  4        0.9426          0.8556       0.8518\n",
      "  5        0.9569          0.8111       0.8708\n",
      "  6        0.9761          0.8222       0.8423\n",
      "  7        1.0000          0.8444       0.8518\n"
     ]
    }
   ],
   "source": [
    "from sklearn.ensemble import RandomForestClassifier\n",
    "accuracies = []\n",
    "print('Depth', ' Train Accuracy', ' Test Accuracy', ' CV Accuracy')\n",
    "\n",
    "for d in range(1,8):\n",
    "    rf_clf = RandomForestClassifier(n_estimators=100, max_depth=d, criterion='gini', random_state=42)\n",
    "    rf_clf = rf_clf.fit(X_train, y_train)\n",
    "    \n",
    "    train_accuracy = rf_clf.score(X_train, y_train)\n",
    "    test_accuracy = rf_clf.score(X_test, y_test)\n",
    "    cv_accuracy = np.mean(cross_val_score(rf_clf, X_train, y_train, cv=5))\n",
    "    accuracies.append([d, train_accuracy, test_accuracy, cv_accuracy])\n",
    "    \n",
    "    print(' ', d, ' '*6, '%.4f' % train_accuracy, ' '*8, '%.4f'% test_accuracy, ' '*5, '%.4f'% cv_accuracy )"
   ]
  },
  {
   "cell_type": "markdown",
   "id": "36eaddc3",
   "metadata": {
    "papermill": {
     "duration": 0.059849,
     "end_time": "2021-12-15T11:00:01.376392",
     "exception": false,
     "start_time": "2021-12-15T11:00:01.316543",
     "status": "completed"
    },
    "tags": []
   },
   "source": [
    "### 4.2.2 准确度  Depth of Tree\n",
    "与决策树不同，当我们增加树的深度时，随机森林的准确率呈现上升趋势。CV Accuracy在达到深度3时急剧增加，并且准确率保持相对稳定。与决策树相比，Test Accuracy的波动较小。它在深度为4时显著提高，然后在深度为5时下降。"
   ]
  },
  {
   "cell_type": "code",
   "execution_count": 22,
   "id": "8a09de4d",
   "metadata": {
    "execution": {
     "iopub.execute_input": "2021-12-15T11:00:01.548758Z",
     "iopub.status.busy": "2021-12-15T11:00:01.510080Z",
     "iopub.status.idle": "2021-12-15T11:00:01.962663Z",
     "shell.execute_reply": "2021-12-15T11:00:01.963195Z",
     "shell.execute_reply.started": "2021-12-15T10:13:13.374501Z"
    },
    "papermill": {
     "duration": 0.522678,
     "end_time": "2021-12-15T11:00:01.963379",
     "exception": false,
     "start_time": "2021-12-15T11:00:01.440701",
     "status": "completed"
    },
    "tags": []
   },
   "outputs": [
    {
     "data": {
      "text/plain": [
       "Text(0.5, 1.0, 'The relationship between the depth of the tree and accuracies')"
      ]
     },
     "execution_count": 22,
     "metadata": {},
     "output_type": "execute_result"
    }
   ],
   "source": [
    "accuracies = pd.DataFrame( \n",
    "    data = accuracies, \n",
    "    columns = ['Depth', 'Train Accuracy','Test Accuracy', 'CV Accuracy']\n",
    ")    \n",
    "\n",
    "accuracies = pd.melt(\n",
    "    accuracies,\n",
    "    id_vars = ['Depth'],\n",
    "    var_name = 'Type',\n",
    "    value_name = 'Accuracy'\n",
    ") \n",
    "sns.lineplot(\n",
    "    x = 'Depth',\n",
    "    y = 'Accuracy',\n",
    "    hue = 'Type',\n",
    "    data = accuracies,\n",
    "\n",
    ").set_title('The relationship between the depth of the tree and accuracies')"
   ]
  },
  {
   "cell_type": "markdown",
   "id": "056a29ff",
   "metadata": {
    "papermill": {
     "duration": 0.064843,
     "end_time": "2021-12-15T11:00:02.095038",
     "exception": false,
     "start_time": "2021-12-15T11:00:02.030195",
     "status": "completed"
    },
    "tags": []
   },
   "source": [
    "### 4.2.3 超参数调优\n",
    "\n",
    "超参数调优用于推荐搜索超参数空间，以获得最高的交叉验证分数。我们使用param_grid中给定的参数构建GridSearchCV。随机森林的最佳参数是{'criterion': 'gini', 'max_depth': 3, 'n_estimators': 200}，准确率为<b>0.8662</b>。"
   ]
  },
  {
   "cell_type": "code",
   "execution_count": 23,
   "id": "095d4710",
   "metadata": {
    "execution": {
     "iopub.execute_input": "2021-12-15T11:00:02.231574Z",
     "iopub.status.busy": "2021-12-15T11:00:02.229903Z",
     "iopub.status.idle": "2021-12-15T11:00:50.176594Z",
     "shell.execute_reply": "2021-12-15T11:00:50.177138Z",
     "shell.execute_reply.started": "2021-12-15T10:13:16.540667Z"
    },
    "papermill": {
     "duration": 48.016183,
     "end_time": "2021-12-15T11:00:50.177337",
     "exception": false,
     "start_time": "2021-12-15T11:00:02.161154",
     "status": "completed"
    },
    "tags": []
   },
   "outputs": [
    {
     "data": {
      "text/plain": [
       "{'criterion': 'gini', 'max_depth': 3, 'n_estimators': 200}"
      ]
     },
     "execution_count": 23,
     "metadata": {},
     "output_type": "execute_result"
    }
   ],
   "source": [
    "param_grid = {\n",
    "    'criterion': ['gini', 'entropy'],\n",
    "    'n_estimators': [100, 200, 500],\n",
    "    'max_depth': [2,3,4],\n",
    "}\n",
    "clf_grid = GridSearchCV(estimator = RandomForestClassifier(random_state=42), param_grid=param_grid, cv=5)\n",
    "clf_grid.fit(X_train, y_train)\n",
    "clf_grid.best_params_"
   ]
  },
  {
   "cell_type": "code",
   "execution_count": 24,
   "id": "09f11684",
   "metadata": {
    "execution": {
     "iopub.execute_input": "2021-12-15T11:00:50.321125Z",
     "iopub.status.busy": "2021-12-15T11:00:50.320409Z",
     "iopub.status.idle": "2021-12-15T11:00:50.336082Z",
     "shell.execute_reply": "2021-12-15T11:00:50.336614Z",
     "shell.execute_reply.started": "2021-12-15T10:14:07.055393Z"
    },
    "papermill": {
     "duration": 0.098463,
     "end_time": "2021-12-15T11:00:50.336798",
     "exception": false,
     "start_time": "2021-12-15T11:00:50.238335",
     "status": "completed"
    },
    "tags": []
   },
   "outputs": [
    {
     "name": "stdout",
     "output_type": "stream",
     "text": [
      "CV Accuracy: 0.8662\n",
      "Test Accuracy: 0.8444\n"
     ]
    }
   ],
   "source": [
    "print('CV Accuracy: %.4f' % clf_grid.best_score_)\n",
    "print('Test Accuracy: %.4f' % clf_grid.score(X_test, y_test))"
   ]
  },
  {
   "cell_type": "markdown",
   "id": "19b33751",
   "metadata": {
    "papermill": {
     "duration": 0.060747,
     "end_time": "2021-12-15T11:00:50.459129",
     "exception": false,
     "start_time": "2021-12-15T11:00:50.398382",
     "status": "completed"
    },
    "tags": []
   },
   "source": [
    "##### 性能最高的随机森林模型使用了基尼系数（gini），max_depth=3，n_estimators=200。其训练和测试准确率分别为0.8662和0.8444。"
   ]
  },
  {
   "cell_type": "markdown",
   "id": "5aaeb6bd",
   "metadata": {
    "papermill": {
     "duration": 0.06092,
     "end_time": "2021-12-15T11:00:50.581612",
     "exception": false,
     "start_time": "2021-12-15T11:00:50.520692",
     "status": "completed"
    },
    "tags": []
   },
   "source": [
    "### 4.2.4 特征重要性\n",
    "\n",
    "特征重要性是一种为特征分配分数的程序，用于在构建模型时表明每个特征的相对重要性。这些分数提供了对数据集的洞察，告诉我们哪些特征最相关或最不相关。构建模型后，我们使用feature_importances_来查看每个特征的相对重要性分数。从下面的条形图中我们可以解读出，time是预测中最重要的特征。"
   ]
  },
  {
   "cell_type": "code",
   "execution_count": 25,
   "id": "49794c2b",
   "metadata": {
    "execution": {
     "iopub.execute_input": "2021-12-15T11:00:50.747057Z",
     "iopub.status.busy": "2021-12-15T11:00:50.730998Z",
     "iopub.status.idle": "2021-12-15T11:00:51.395347Z",
     "shell.execute_reply": "2021-12-15T11:00:51.394745Z",
     "shell.execute_reply.started": "2021-12-15T10:14:33.748684Z"
    },
    "papermill": {
     "duration": 0.752217,
     "end_time": "2021-12-15T11:00:51.395518",
     "exception": false,
     "start_time": "2021-12-15T11:00:50.643301",
     "status": "completed"
    },
    "tags": []
   },
   "outputs": [
    {
     "name": "stderr",
     "output_type": "stream",
     "text": [
      "/home/daniel/anaconda3/lib/python3.7/site-packages/ipykernel_launcher.py:7: MatplotlibDeprecationWarning: Support for passing numbers through unit converters is deprecated since 3.5 and support will be removed two minor releases later; use Axis.convert_units instead.\n",
      "  import sys\n",
      "/home/daniel/anaconda3/lib/python3.7/site-packages/ipykernel_launcher.py:7: MatplotlibDeprecationWarning: Support for passing numbers through unit converters is deprecated since 3.5 and support will be removed two minor releases later; use Axis.convert_units instead.\n",
      "  import sys\n",
      "/home/daniel/anaconda3/lib/python3.7/site-packages/ipykernel_launcher.py:7: MatplotlibDeprecationWarning: Support for passing numbers through unit converters is deprecated since 3.5 and support will be removed two minor releases later; use Axis.convert_units instead.\n",
      "  import sys\n",
      "/home/daniel/anaconda3/lib/python3.7/site-packages/ipykernel_launcher.py:7: MatplotlibDeprecationWarning: Support for passing numbers through unit converters is deprecated since 3.5 and support will be removed two minor releases later; use Axis.convert_units instead.\n",
      "  import sys\n"
     ]
    },
    {
     "data": {
      "text/plain": [
       "Text(0.5, 1.0, 'Feature Importances')"
      ]
     },
     "execution_count": 25,
     "metadata": {},
     "output_type": "execute_result"
    }
   ],
   "source": [
    "rf_fi = RandomForestClassifier(n_estimators=200, max_depth=3, criterion='gini', random_state=42)\n",
    "rf_fi = rf_fi.fit(X_train, y_train)\n",
    "\n",
    "importances = list(rf_fi.feature_importances_)\n",
    "scaled_data_col_name = list(scaled_data.columns[:-1].to_numpy())\n",
    "\n",
    "plt.bar(scaled_data_col_name , importances, color='lightblue')\n",
    "plt.xticks(ticks = scaled_data_col_name, labels = scaled_data_col_name, rotation = 'vertical')\n",
    "plt.ylabel('Importance')\n",
    "plt.xlabel('Feature')\n",
    "plt.title('Feature Importances')"
   ]
  },
  {
   "cell_type": "markdown",
   "id": "86bb04e7",
   "metadata": {
    "papermill": {
     "duration": 0.06406,
     "end_time": "2021-12-15T11:00:51.523198",
     "exception": false,
     "start_time": "2021-12-15T11:00:51.459138",
     "status": "completed"
    },
    "tags": []
   },
   "source": [
    "## 4.3 支持向量机SVM\n",
    "\n",
    "SVM提供三种核函数：线性、多项式和径向基（rbf）。我们使用GridSearchCV来选择支持向量分类器的最佳参数。结果是kernel='linear'和C=10。我们可以忽略degree和gamma，因为它们只在多项式和rbf核中使用。最高准确率<b>0.8280</b>是通过交叉验证得到的模型性能。"
   ]
  },
  {
   "cell_type": "code",
   "execution_count": 26,
   "id": "e10e90e2",
   "metadata": {
    "execution": {
     "iopub.execute_input": "2021-12-15T11:00:51.661490Z",
     "iopub.status.busy": "2021-12-15T11:00:51.656959Z",
     "iopub.status.idle": "2021-12-15T11:00:58.663981Z",
     "shell.execute_reply": "2021-12-15T11:00:58.663299Z",
     "shell.execute_reply.started": "2021-12-15T10:14:39.596142Z"
    },
    "papermill": {
     "duration": 7.078392,
     "end_time": "2021-12-15T11:00:58.664166",
     "exception": false,
     "start_time": "2021-12-15T11:00:51.585774",
     "status": "completed"
    },
    "tags": []
   },
   "outputs": [
    {
     "data": {
      "text/plain": [
       "{'C': 10, 'degree': 2, 'gamma': 0.001, 'kernel': 'linear'}"
      ]
     },
     "execution_count": 26,
     "metadata": {},
     "output_type": "execute_result"
    }
   ],
   "source": [
    "from sklearn.svm import SVC\n",
    "param_grid = {\n",
    "    'kernel': ['linear', 'poly', 'rbf'],\n",
    "    'C': [0.001, 0.01, 0.1, 1, 10],\n",
    "    'degree': [2,3,4],\n",
    "    'gamma': [0.001, 0.01, 0.1, 1, 10]\n",
    "}\n",
    "clf_grid_SVC = GridSearchCV(estimator = SVC(random_state=42), param_grid=param_grid, cv=5)\n",
    "clf_grid_SVC.fit(X_train, y_train)\n",
    "clf_grid_SVC.best_params_"
   ]
  },
  {
   "cell_type": "code",
   "execution_count": 27,
   "id": "99dcce91",
   "metadata": {
    "execution": {
     "iopub.execute_input": "2021-12-15T11:00:58.800727Z",
     "iopub.status.busy": "2021-12-15T11:00:58.799646Z",
     "iopub.status.idle": "2021-12-15T11:00:58.804400Z",
     "shell.execute_reply": "2021-12-15T11:00:58.805008Z",
     "shell.execute_reply.started": "2021-12-15T10:14:49.230793Z"
    },
    "papermill": {
     "duration": 0.075965,
     "end_time": "2021-12-15T11:00:58.805218",
     "exception": false,
     "start_time": "2021-12-15T11:00:58.729253",
     "status": "completed"
    },
    "tags": []
   },
   "outputs": [
    {
     "name": "stdout",
     "output_type": "stream",
     "text": [
      "CV Accuracy: 0.8280\n",
      "Test Accuracy: 0.8222\n"
     ]
    }
   ],
   "source": [
    "print('CV Accuracy: %.4f' % clf_grid_SVC.best_score_)\n",
    "print('Test Accuracy: %.4f' % clf_grid_SVC.score(X_test, y_test))"
   ]
  },
  {
   "cell_type": "markdown",
   "id": "db60b9b3",
   "metadata": {
    "papermill": {
     "duration": 0.064223,
     "end_time": "2021-12-15T11:00:58.933806",
     "exception": false,
     "start_time": "2021-12-15T11:00:58.869583",
     "status": "completed"
    },
    "tags": []
   },
   "source": [
    "##### The support vector machine with the highest performance is the model with linear kernel and `C`=10. The train and test accuracy are 0.8280 and 0.8222, respectively."
   ]
  },
  {
   "cell_type": "markdown",
   "id": "ddc48b04",
   "metadata": {
    "papermill": {
     "duration": 0.065748,
     "end_time": "2021-12-15T11:00:59.063622",
     "exception": false,
     "start_time": "2021-12-15T11:00:58.997874",
     "status": "completed"
    },
    "tags": []
   },
   "source": [
    "# 4. 无监督学习\n",
    "## 4.1 主成分分析(PCA) \n",
    "\n",
    "### 4.1.1 降维\n",
    "\n",
    "PCA 的一个能力是降低数据集的维度以减少计算时间。PCA 用于找到在数据集中解释大部分方差（95-100%）的特征，而无需使用所有特征进行计算。我们的数据集包含 12 个特征，不包括标签，用于创建 12 个主成分（PC）。每个主成分产生特征向量 components_ 和特征值 explained_variance_。下面的折线图显示了 explained_variance_ 在百分比上的急剧下降趋势，直到它在 PC8 处趋势几乎保持稳定。"
   ]
  },
  {
   "cell_type": "code",
   "execution_count": 28,
   "id": "76eda35c",
   "metadata": {
    "execution": {
     "iopub.execute_input": "2021-12-15T11:00:59.197674Z",
     "iopub.status.busy": "2021-12-15T11:00:59.196620Z",
     "iopub.status.idle": "2021-12-15T11:00:59.405073Z",
     "shell.execute_reply": "2021-12-15T11:00:59.404546Z",
     "shell.execute_reply.started": "2021-12-15T10:15:06.435011Z"
    },
    "papermill": {
     "duration": 0.277566,
     "end_time": "2021-12-15T11:00:59.405246",
     "exception": false,
     "start_time": "2021-12-15T11:00:59.127680",
     "status": "completed"
    },
    "tags": []
   },
   "outputs": [
    {
     "data": {
      "image/png": "[encoded data removed]",
      "text/plain": [
       "<Figure size 640x480 with 1 Axes>"
      ]
     },
     "metadata": {},
     "output_type": "display_data"
    }
   ],
   "source": [
    "from sklearn.decomposition import PCA\n",
    "\n",
    "pca_data = scaled_data.drop(columns='DEATH_EVENT')\n",
    "pca = PCA()\n",
    "pca.fit(pca_data)\n",
    "\n",
    "percentage_variance = np.round(pca.explained_variance_ratio_ * 100, decimals=2)\n",
    "xlabels = ['PC' + str(x) for x in range(1, len(percentage_variance)+1)]\n",
    "\n",
    "plt.plot(range(1,len(percentage_variance)+1), percentage_variance, '-o')\n",
    "plt.axvline(x=8, color='red', linestyle='--')\n",
    "plt.ylabel('Percentage of Explained Variance')\n",
    "plt.xlabel('Principal Component')\n",
    "plt.title('Scree Plot')\n",
    "plt.show()"
   ]
  },
  {
   "cell_type": "markdown",
   "id": "36e5f8c4",
   "metadata": {
    "papermill": {
     "duration": 0.064999,
     "end_time": "2021-12-15T11:00:59.534917",
     "exception": false,
     "start_time": "2021-12-15T11:00:59.469918",
     "status": "completed"
    },
    "tags": []
   },
   "source": [
    "为了选择正确的维度数量，我们可以在构建 PCA 时输入成分的数量（即 PCA(n_components=8)）。然而，指定我们想要保留的方差比例（在 0.0 到 1.0 之间）要简单得多。在这个实验中，我们想要保留数据集方差的 95%，因此我们定义 n_components=0.95。转换后，维度从 12 降低到了 8 个成分。\n",
    "\n",
    "299 是记录的数量，8 是降维后的成分数量。"
   ]
  },
  {
   "cell_type": "code",
   "execution_count": 29,
   "id": "870bca7c",
   "metadata": {
    "execution": {
     "iopub.execute_input": "2021-12-15T11:00:59.668532Z",
     "iopub.status.busy": "2021-12-15T11:00:59.667500Z",
     "iopub.status.idle": "2021-12-15T11:00:59.675972Z",
     "shell.execute_reply": "2021-12-15T11:00:59.676553Z",
     "shell.execute_reply.started": "2021-12-15T10:15:09.812281Z"
    },
    "papermill": {
     "duration": 0.077266,
     "end_time": "2021-12-15T11:00:59.676725",
     "exception": false,
     "start_time": "2021-12-15T11:00:59.599459",
     "status": "completed"
    },
    "tags": []
   },
   "outputs": [
    {
     "data": {
      "text/plain": [
       "(299, 8)"
      ]
     },
     "execution_count": 29,
     "metadata": {},
     "output_type": "execute_result"
    }
   ],
   "source": [
    "pca95 = PCA(n_components=0.95)\n",
    "pca95.fit_transform(pca_data).shape"
   ]
  },
  {
   "cell_type": "markdown",
   "id": "5197d807",
   "metadata": {
    "papermill": {
     "duration": 0.064803,
     "end_time": "2021-12-15T11:00:59.806001",
     "exception": false,
     "start_time": "2021-12-15T11:00:59.741198",
     "status": "completed"
    },
    "tags": []
   },
   "source": [
    "下面的八个条形图展示了特征向量和主成分。例如，sex 和 smoking 在 PC1 中占主导地位，anaemia 在 PC2 中占主导地位，依此类推。"
   ]
  },
  {
   "cell_type": "code",
   "execution_count": 30,
   "id": "f4aab830",
   "metadata": {
    "execution": {
     "iopub.execute_input": "2021-12-15T11:00:59.941418Z",
     "iopub.status.busy": "2021-12-15T11:00:59.940250Z",
     "iopub.status.idle": "2021-12-15T11:01:01.782558Z",
     "shell.execute_reply": "2021-12-15T11:01:01.783038Z",
     "shell.execute_reply.started": "2021-12-15T10:15:11.022736Z"
    },
    "papermill": {
     "duration": 1.911776,
     "end_time": "2021-12-15T11:01:01.783239",
     "exception": false,
     "start_time": "2021-12-15T11:00:59.871463",
     "status": "completed"
    },
    "tags": []
   },
   "outputs": [],
   "source": [
    "fig, ax = plt.subplots(nrows=4, ncols=2, figsize=(15, 18))\n",
    "\n",
    "row = -1; col = 0\n",
    "for i in range(0,8):\n",
    "    \n",
    "    if(i%2 == 0): \n",
    "        col = 0\n",
    "        row = row + 1\n",
    "    else: \n",
    "        col=1\n",
    "    \n",
    "    sns.barplot(x=abs(pca.components_[i]), y=pca_data.columns, orient='h', ax=ax[row][col])\n",
    "    ax[row][col].set_title('Principal Component ' + str(i+1))"
   ]
  },
  {
   "cell_type": "markdown",
   "id": "447548a0",
   "metadata": {
    "papermill": {
     "duration": 0.068672,
     "end_time": "2021-12-15T11:01:01.920026",
     "exception": false,
     "start_time": "2021-12-15T11:01:01.851354",
     "status": "completed"
    },
    "tags": []
   },
   "source": [
    "### 4.1.2 PCA与监督学习模型\n",
    "\n",
    "PCA被应用于具有最高准确度的监督学习模型中。通过PCA减少的成分被用作构建带有PCA的新训练和测试数据集的模型。我们比较了第三部分原始模型和带有PCA的模型的准确度。在应用PCA之后，决策树和随机森林模型的准确度下降了。另一方面，当进行PCA时，具有线性核的SVM模型的准确度增加了。SVM的准确度从0.8280增加到0.8444。\n",
    "\n",
    "通过这个实验，我们可以得出结论：降低数据集的维度并不总是比使用所有维度产生更好的结果。"
   ]
  },
  {
   "cell_type": "code",
   "execution_count": 38,
   "id": "55589a5f",
   "metadata": {
    "execution": {
     "iopub.execute_input": "2021-12-15T11:01:02.069074Z",
     "iopub.status.busy": "2021-12-15T11:01:02.068035Z",
     "iopub.status.idle": "2021-12-15T11:01:04.962062Z",
     "shell.execute_reply": "2021-12-15T11:01:04.961474Z",
     "shell.execute_reply.started": "2021-12-15T10:15:34.353785Z"
    },
    "papermill": {
     "duration": 2.970333,
     "end_time": "2021-12-15T11:01:04.962227",
     "exception": false,
     "start_time": "2021-12-15T11:01:01.991894",
     "status": "completed"
    },
    "tags": []
   },
   "outputs": [
    {
     "name": "stdout",
     "output_type": "stream",
     "text": [
      "                  Original           With PCA\n",
      "---------------------------------------------------\n",
      "Decision Tree      0.8470             0.8111\n",
      "Random Forest      0.8662             0.8222\n",
      "SVM                0.8280             0.8444\n"
     ]
    }
   ],
   "source": [
    "print('                  Original           With PCA')\n",
    "print('---------------------------------------------------')\n",
    "ori_accuracy = []\n",
    "pca_accuracy = []\n",
    "\n",
    "# Without PCA\n",
    "tree_clf = DecisionTreeClassifier(criterion='gini', max_depth = 1, random_state=42)\n",
    "tree_clf = tree_clf.fit(X_train, y_train)\n",
    "ori_accuracy.append(np.mean(cross_val_score(tree_clf, X_train, y_train, cv=5)))\n",
    "\n",
    "rf_clf = RandomForestClassifier(n_estimators=200, max_depth=3, criterion='gini', random_state=42)\n",
    "rf_clf = rf_clf.fit(X_train, y_train)\n",
    "ori_accuracy.append(np.mean(cross_val_score(rf_clf, X_train, y_train, cv=5)))\n",
    "\n",
    "svc_clf = SVC(kernel='linear', C=10, random_state=42)\n",
    "svc_clf = svc_clf.fit(X_train, y_train)\n",
    "ori_accuracy.append(np.mean(cross_val_score(svc_clf, X_train, y_train, cv=5)))\n",
    "\n",
    "# With PCA\n",
    "pca95 = PCA(n_components=0.95)\n",
    "X_train_reduced = pca95.fit_transform(X_train)\n",
    "X_test_reduced = pca95.transform(X_test)\n",
    "\n",
    "tree_clf_pca = DecisionTreeClassifier(criterion='gini', max_depth = 1, random_state=42)\n",
    "tree_clf_pca = tree_clf_pca.fit(X_train_reduced, y_train)\n",
    "pca_accuracy.append(tree_clf_pca.score(X_test_reduced, y_test))\n",
    "\n",
    "rf_clf_pca = RandomForestClassifier(n_estimators=200, max_depth=3, criterion='gini', random_state=42)\n",
    "rf_clf_pca = rf_clf_pca.fit(X_train_reduced, y_train)\n",
    "pca_accuracy.append(rf_clf_pca.score(X_test_reduced, y_test))\n",
    "\n",
    "svc_clf_pca = SVC(kernel='linear', C=10)\n",
    "svc_clf_pca = svc_clf_pca.fit(X_train_reduced, y_train)\n",
    "pca_accuracy.append(svc_clf_pca.score(X_test_reduced, y_test))\n",
    "\n",
    "print('Decision Tree      %.4f' % ori_accuracy[0], ' '*11, '%.4f'%pca_accuracy[0])\n",
    "print('Random Forest      %.4f' % ori_accuracy[1], ' '*11, '%.4f'%pca_accuracy[1])\n",
    "print('SVM', ' '*14, '%.4f'%ori_accuracy[2], ' '*11, '%.4f'%pca_accuracy[2])"
   ]
  },
  {
   "cell_type": "markdown",
   "id": "ddd442c4",
   "metadata": {
    "papermill": {
     "duration": 0.067285,
     "end_time": "2021-12-15T11:01:05.098675",
     "exception": false,
     "start_time": "2021-12-15T11:01:05.031390",
     "status": "completed"
    },
    "tags": []
   },
   "source": [
    "## 4.2 K-Means\n",
    "\n",
    "K-Means是一种将未标记数据聚类成k个组的算法，每个数据点被分配到最近的质心。在本节中，我们假设我们的数据集没有标签，因此我们只使用12个独立变量构建算法，不包括DEATH_EVENT。模型的性能取决于k的值。为了找到最佳的k值，我们使用肘部法。\n",
    "\n",
    "### 4.2.1 Elbow方法\n",
    "肘部法绘制了惯性值（或损失函数）和聚类数（k）的关系图。惯性值表示集群内部的数据点之间的距离。随着聚类数的增加，损失减少。这意味着每个聚类具有更少的数据点，并且数据点更接近它们的质心。损失下降最多的k值被称为肘部，也是我们划分更多聚类的位置。在这个实验中，很难确定肘部的拐点，因为图表呈现出平滑的下降趋势。"
   ]
  },
  {
   "cell_type": "code",
   "execution_count": 39,
   "id": "644f2213",
   "metadata": {
    "execution": {
     "iopub.execute_input": "2021-12-15T11:01:05.242651Z",
     "iopub.status.busy": "2021-12-15T11:01:05.241880Z",
     "iopub.status.idle": "2021-12-15T11:01:06.497578Z",
     "shell.execute_reply": "2021-12-15T11:01:06.498039Z",
     "shell.execute_reply.started": "2021-12-15T10:17:56.986290Z"
    },
    "papermill": {
     "duration": 1.331607,
     "end_time": "2021-12-15T11:01:06.498237",
     "exception": false,
     "start_time": "2021-12-15T11:01:05.166630",
     "status": "completed"
    },
    "tags": []
   },
   "outputs": [
    {
     "data": {
      "text/plain": [
       "Text(625.4381313131312, 0.5, 'Loss')"
      ]
     },
     "execution_count": 39,
     "metadata": {},
     "output_type": "execute_result"
    }
   ],
   "source": [
    "from sklearn.cluster import KMeans\n",
    "losses = []\n",
    "for K in range(1, 15):\n",
    "    kmeans = KMeans(n_clusters=K)\n",
    "    kmeans.fit(scaled_data.iloc[:,:-1])\n",
    "    losses.append(kmeans.inertia_)\n",
    "    \n",
    "plt.plot(range(1,15), losses, '-o')\n",
    "plt.xlabel('Number of Clusters')\n",
    "plt.ylabel('Loss')"
   ]
  },
  {
   "cell_type": "markdown",
   "id": "e15dbb70",
   "metadata": {
    "papermill": {
     "duration": 0.068794,
     "end_time": "2021-12-15T11:01:06.635863",
     "exception": false,
     "start_time": "2021-12-15T11:01:06.567069",
     "status": "completed"
    },
    "tags": []
   },
   "source": [
    "### 4.2.2 Accuracy 比较\n",
    "\n",
    "在本节中，我们比较了K均值聚类的输出和原始输出。鉴于我们想要将患者分成两组：死亡和存活患者。因此，我们将模型的k值设为2。下表显示了K均值和原始数据集的输出。"
   ]
  },
  {
   "cell_type": "code",
   "execution_count": 40,
   "id": "686b9daf",
   "metadata": {
    "execution": {
     "iopub.execute_input": "2021-12-15T11:01:06.783479Z",
     "iopub.status.busy": "2021-12-15T11:01:06.782126Z",
     "iopub.status.idle": "2021-12-15T11:01:06.827118Z",
     "shell.execute_reply": "2021-12-15T11:01:06.826561Z",
     "shell.execute_reply.started": "2021-12-15T10:18:23.933108Z"
    },
    "papermill": {
     "duration": 0.120907,
     "end_time": "2021-12-15T11:01:06.827264",
     "exception": false,
     "start_time": "2021-12-15T11:01:06.706357",
     "status": "completed"
    },
    "tags": []
   },
   "outputs": [
    {
     "data": {
      "text/html": [
       "<div>\n",
       "<style scoped>\n",
       "    .dataframe tbody tr th:only-of-type {\n",
       "        vertical-align: middle;\n",
       "    }\n",
       "\n",
       "    .dataframe tbody tr th {\n",
       "        vertical-align: top;\n",
       "    }\n",
       "\n",
       "    .dataframe thead th {\n",
       "        text-align: right;\n",
       "    }\n",
       "</style>\n",
       "<table border=\"1\" class=\"dataframe\">\n",
       "  <thead>\n",
       "    <tr style=\"text-align: right;\">\n",
       "      <th></th>\n",
       "      <th>K-Means label</th>\n",
       "      <th>DEATH_EVENT</th>\n",
       "    </tr>\n",
       "  </thead>\n",
       "  <tbody>\n",
       "    <tr>\n",
       "      <th>0</th>\n",
       "      <td>1</td>\n",
       "      <td>1</td>\n",
       "    </tr>\n",
       "    <tr>\n",
       "      <th>1</th>\n",
       "      <td>1</td>\n",
       "      <td>1</td>\n",
       "    </tr>\n",
       "    <tr>\n",
       "      <th>2</th>\n",
       "      <td>1</td>\n",
       "      <td>1</td>\n",
       "    </tr>\n",
       "    <tr>\n",
       "      <th>3</th>\n",
       "      <td>1</td>\n",
       "      <td>1</td>\n",
       "    </tr>\n",
       "    <tr>\n",
       "      <th>4</th>\n",
       "      <td>0</td>\n",
       "      <td>1</td>\n",
       "    </tr>\n",
       "  </tbody>\n",
       "</table>\n",
       "</div>"
      ],
      "text/plain": [
       "   K-Means label  DEATH_EVENT\n",
       "0              1            1\n",
       "1              1            1\n",
       "2              1            1\n",
       "3              1            1\n",
       "4              0            1"
      ]
     },
     "execution_count": 40,
     "metadata": {},
     "output_type": "execute_result"
    }
   ],
   "source": [
    "from sklearn.cluster import KMeans\n",
    "\n",
    "kmeans = KMeans(n_clusters=2, random_state=42)\n",
    "kmeans = kmeans.fit(scaled_data.iloc[:,:-1])\n",
    "kmeans_label = kmeans.labels_\n",
    "kmeans_label = pd.DataFrame(kmeans_label, columns=['K-Means label'])\n",
    "pd.concat([kmeans_label, scaled_data.iloc[:, -1:]], axis=1).head()"
   ]
  },
  {
   "cell_type": "markdown",
   "id": "ec51621d",
   "metadata": {
    "papermill": {
     "duration": 0.069884,
     "end_time": "2021-12-15T11:01:06.969168",
     "exception": false,
     "start_time": "2021-12-15T11:01:06.899284",
     "status": "completed"
    },
    "tags": []
   },
   "source": [
    "K均值模型的准确率为0.4448，有两个聚类。"
   ]
  },
  {
   "cell_type": "code",
   "execution_count": 41,
   "id": "3aaa51ac",
   "metadata": {
    "execution": {
     "iopub.execute_input": "2021-12-15T11:01:07.117314Z",
     "iopub.status.busy": "2021-12-15T11:01:07.116223Z",
     "iopub.status.idle": "2021-12-15T11:01:07.120697Z",
     "shell.execute_reply": "2021-12-15T11:01:07.121463Z",
     "shell.execute_reply.started": "2021-12-15T10:19:18.076195Z"
    },
    "papermill": {
     "duration": 0.081701,
     "end_time": "2021-12-15T11:01:07.121689",
     "exception": false,
     "start_time": "2021-12-15T11:01:07.039988",
     "status": "completed"
    },
    "tags": []
   },
   "outputs": [
    {
     "name": "stdout",
     "output_type": "stream",
     "text": [
      "K-means accuracy: 0.4448\n"
     ]
    }
   ],
   "source": [
    "print('K-means accuracy: %.4f'%metrics.accuracy_score(kmeans_label, scaled_data.iloc[:, -1:]))"
   ]
  },
  {
   "cell_type": "markdown",
   "id": "df5bd84d",
   "metadata": {
    "papermill": {
     "duration": 0.070708,
     "end_time": "2021-12-15T11:01:07.263051",
     "exception": false,
     "start_time": "2021-12-15T11:01:07.192343",
     "status": "completed"
    },
    "tags": []
   },
   "source": [
    "# 5. 模型比较"
   ]
  },
  {
   "cell_type": "markdown",
   "id": "402e0c94",
   "metadata": {
    "papermill": {
     "duration": 0.069195,
     "end_time": "2021-12-15T11:01:07.401850",
     "exception": false,
     "start_time": "2021-12-15T11:01:07.332655",
     "status": "completed"
    },
    "tags": []
   },
   "source": [
    "我们比较了不同模型的准确率，结果显示，使用随机森林分类技术而没有使用PCA的模型具有最高的准确率，为0.8662。\n",
    "\n",
    "\n",
    "\n",
    "\n",
    "\n",
    "\n",
    "| Models      | Accuracy \n",
    "| ------------| ----------- \n",
    "| Random Forest | 0.8662\n",
    "| Decision Tree | 0.8470\n",
    "| SVM with PCA | 0.8444\n",
    "| SVM | 0.8280\n",
    "| Random Forest with PCA | 0.8222\n",
    "| Decision Tree with PCA | 0.8111\n",
    "| K-means | 0.4448"
   ]
  },
  {
   "cell_type": "markdown",
   "id": "481f6cf1",
   "metadata": {
    "papermill": {
     "duration": 0.071087,
     "end_time": "2021-12-15T11:01:07.542238",
     "exception": false,
     "start_time": "2021-12-15T11:01:07.471151",
     "status": "completed"
    },
    "tags": []
   },
   "source": [
    "# 6. Reference\n",
    "* Professor Soufiane Hayou's Jupyter notebook files\n",
    "* Heart Failure Dataset: https://www.kaggle.com/andrewmvd/heart-failure-clinical-data\n",
    "* Research in Heart Failure Dataset: https://bmcmedinformdecismak.biomedcentral.com/articles/10.1186/s12911-020-1023-5#Sec3\n",
    "* Python Book: Python Data Science Handbook, Jake VanderPlas, O'Reilly\n",
    "* Python Book: Introduction to Machine Learning with Python, Andreas C. Müller & Sarah Guido, O'Reilly\n",
    "* Machine Learning Framework: https://scikit-learn.org/\n",
    "* Machine Learning Information: https://machinelearningmastery.com/\n",
    "\n"
   ]
  },
  {
   "cell_type": "code",
   "execution_count": null,
   "id": "a35113a6",
   "metadata": {
    "papermill": {
     "duration": 0.069342,
     "end_time": "2021-12-15T11:01:07.681025",
     "exception": false,
     "start_time": "2021-12-15T11:01:07.611683",
     "status": "completed"
    },
    "tags": []
   },
   "outputs": [],
   "source": []
  }
 ],
 "metadata": {
  "kernelspec": {
   "display_name": "Python 3 (ipykernel)",
   "language": "python",
   "name": "python3"
  },
  "language_info": {
   "codemirror_mode": {
    "name": "ipython",
    "version": 3
   },
   "file_extension": ".py",
   "mimetype": "text/x-python",
   "name": "python",
   "nbconvert_exporter": "python",
   "pygments_lexer": "ipython3",
   "version": "3.9.18"
  },
  "papermill": {
   "default_parameters": {},
   "duration": 94.283134,
   "end_time": "2021-12-15T11:01:08.664812",
   "environment_variables": {},
   "exception": null,
   "input_path": "__notebook__.ipynb",
   "output_path": "__notebook__.ipynb",
   "parameters": {},
   "start_time": "2021-12-15T10:59:34.381678",
   "version": "2.3.3"
  },
  "toc": {
   "base_numbering": 1,
   "nav_menu": {},
   "number_sections": true,
   "sideBar": true,
   "skip_h1_title": false,
   "title_cell": "Table of Contents",
   "title_sidebar": "Contents",
   "toc_cell": false,
   "toc_position": {},
   "toc_section_display": true,
   "toc_window_display": false
  }
 },
 "nbformat": 4,
 "nbformat_minor": 5
}
